{
 "cells": [
  {
   "cell_type": "markdown",
   "id": "bca1c39c",
   "metadata": {},
   "source": [
    "# 라이브러리 불러오기"
   ]
  },
  {
   "cell_type": "code",
   "execution_count": 7,
   "id": "d97672e9",
   "metadata": {},
   "outputs": [],
   "source": [
    "import os\n",
    "import pandas as pd\n",
    "import numpy as np\n",
    "import matplotlib.pyplot as plt\n",
    "import plotly.express as px\n",
    "import seaborn as sns"
   ]
  },
  {
   "cell_type": "code",
   "execution_count": 8,
   "id": "8dc9cfe9",
   "metadata": {},
   "outputs": [
    {
     "name": "stderr",
     "output_type": "stream",
     "text": [
      "C:\\Users\\James\\AppData\\Local\\Temp/ipykernel_6360/3064774803.py:39: DeprecationWarning: `set_matplotlib_formats` is deprecated since IPython 7.23, directly use `matplotlib_inline.backend_inline.set_matplotlib_formats()`\n",
      "  set_matplotlib_formats(\"retina\")\n"
     ]
    }
   ],
   "source": [
    "# 윈도우 : \"Malgun Gothic\"\n",
    "# 맥 : \"AppleGothic\"\n",
    "def get_font_family():\n",
    "    \"\"\"\n",
    "    시스템 환경에 따른 기본 폰트명을 반환하는 함수\n",
    "    \"\"\"\n",
    "    import platform\n",
    "    system_name = platform.system()\n",
    "    # colab 사용자는 system_name이 'Linux'로 확인\n",
    "\n",
    "    if system_name == \"Darwin\" :\n",
    "        font_family = \"AppleGothic\"\n",
    "    elif system_name == \"Windows\":\n",
    "        font_family = \"Malgun Gothic\"\n",
    "    else:\n",
    "        !apt-get install fonts-nanum -qq  > /dev/null\n",
    "        !fc-cache -fv\n",
    "\n",
    "        import matplotlib as mpl\n",
    "        mpl.font_manager._rebuild()\n",
    "        findfont = mpl.font_manager.fontManager.findfont\n",
    "        mpl.font_manager.findfont = findfont\n",
    "        mpl.backends.backend_agg.findfont = findfont\n",
    "        \n",
    "        font_family = \"NanumBarunGothic\"\n",
    "    return font_family\n",
    "\n",
    "\n",
    "plt.style.use(\"seaborn-whitegrid\")\n",
    "\n",
    "# 폰트설정\n",
    "plt.rc(\"font\", family=get_font_family())\n",
    "# 마이너스폰트 설정\n",
    "plt.rc(\"axes\", unicode_minus=False)\n",
    "\n",
    "# 그래프에 retina display 적용\n",
    "from IPython.display import set_matplotlib_formats\n",
    "\n",
    "set_matplotlib_formats(\"retina\")"
   ]
  },
  {
   "cell_type": "markdown",
   "id": "3a097ef6",
   "metadata": {},
   "source": [
    "# \"서울시 생필품 농수축산물 가격정보\"불러오기\n",
    "* 서울시 물가모니터가 주1회 자치구별 전통시장과 대형마트에 나가 농수축산물 16개 품목을 조사하고 그 가격을 공개하는 정보입니다.\n",
    "* 출처 : https://data.seoul.go.kr/dataList/OA-1170/S/1/datasetView.do"
   ]
  },
  {
   "cell_type": "code",
   "execution_count": 9,
   "id": "c65255f2",
   "metadata": {},
   "outputs": [
    {
     "ename": "UnicodeDecodeError",
     "evalue": "'cp949' codec can't decode byte 0xec in position 0: illegal multibyte sequence",
     "output_type": "error",
     "traceback": [
      "\u001b[1;31m---------------------------------------------------------------------------\u001b[0m",
      "\u001b[1;31mUnicodeDecodeError\u001b[0m                        Traceback (most recent call last)",
      "\u001b[1;32m~\\AppData\\Local\\Temp/ipykernel_6360/694034503.py\u001b[0m in \u001b[0;36m<module>\u001b[1;34m\u001b[0m\n\u001b[0;32m      4\u001b[0m \u001b[1;32mfor\u001b[0m \u001b[1;33m(\u001b[0m\u001b[0mroot\u001b[0m\u001b[1;33m,\u001b[0m \u001b[0mdirectories\u001b[0m\u001b[1;33m,\u001b[0m \u001b[0mfiles\u001b[0m\u001b[1;33m)\u001b[0m \u001b[1;32min\u001b[0m \u001b[0mos\u001b[0m\u001b[1;33m.\u001b[0m\u001b[0mwalk\u001b[0m\u001b[1;33m(\u001b[0m\u001b[0mdir_path\u001b[0m\u001b[1;33m)\u001b[0m\u001b[1;33m:\u001b[0m\u001b[1;33m\u001b[0m\u001b[1;33m\u001b[0m\u001b[0m\n\u001b[0;32m      5\u001b[0m     \u001b[1;32mfor\u001b[0m \u001b[0mfile\u001b[0m \u001b[1;32min\u001b[0m \u001b[0mfiles\u001b[0m\u001b[1;33m:\u001b[0m\u001b[1;33m\u001b[0m\u001b[1;33m\u001b[0m\u001b[0m\n\u001b[1;32m----> 6\u001b[1;33m         \u001b[0mdf_by_year\u001b[0m \u001b[1;33m=\u001b[0m \u001b[0mpd\u001b[0m\u001b[1;33m.\u001b[0m\u001b[0mread_csv\u001b[0m\u001b[1;33m(\u001b[0m\u001b[0mos\u001b[0m\u001b[1;33m.\u001b[0m\u001b[0mpath\u001b[0m\u001b[1;33m.\u001b[0m\u001b[0mjoin\u001b[0m\u001b[1;33m(\u001b[0m\u001b[0mroot\u001b[0m\u001b[1;33m,\u001b[0m \u001b[0mfile\u001b[0m\u001b[1;33m)\u001b[0m\u001b[1;33m,\u001b[0m \u001b[0mencoding\u001b[0m\u001b[1;33m=\u001b[0m\u001b[1;34m\"cp949\"\u001b[0m\u001b[1;33m)\u001b[0m\u001b[1;33m\u001b[0m\u001b[1;33m\u001b[0m\u001b[0m\n\u001b[0m\u001b[0;32m      7\u001b[0m         \u001b[0mdf\u001b[0m \u001b[1;33m=\u001b[0m \u001b[0mpd\u001b[0m\u001b[1;33m.\u001b[0m\u001b[0mconcat\u001b[0m\u001b[1;33m(\u001b[0m\u001b[1;33m[\u001b[0m\u001b[0mdf\u001b[0m\u001b[1;33m,\u001b[0m \u001b[0mdf_by_year\u001b[0m\u001b[1;33m]\u001b[0m\u001b[1;33m)\u001b[0m\u001b[1;33m\u001b[0m\u001b[1;33m\u001b[0m\u001b[0m\n\u001b[0;32m      8\u001b[0m \u001b[1;33m\u001b[0m\u001b[0m\n",
      "\u001b[1;32m~\\anaconda3\\lib\\site-packages\\pandas\\util\\_decorators.py\u001b[0m in \u001b[0;36mwrapper\u001b[1;34m(*args, **kwargs)\u001b[0m\n\u001b[0;32m    309\u001b[0m                     \u001b[0mstacklevel\u001b[0m\u001b[1;33m=\u001b[0m\u001b[0mstacklevel\u001b[0m\u001b[1;33m,\u001b[0m\u001b[1;33m\u001b[0m\u001b[1;33m\u001b[0m\u001b[0m\n\u001b[0;32m    310\u001b[0m                 )\n\u001b[1;32m--> 311\u001b[1;33m             \u001b[1;32mreturn\u001b[0m \u001b[0mfunc\u001b[0m\u001b[1;33m(\u001b[0m\u001b[1;33m*\u001b[0m\u001b[0margs\u001b[0m\u001b[1;33m,\u001b[0m \u001b[1;33m**\u001b[0m\u001b[0mkwargs\u001b[0m\u001b[1;33m)\u001b[0m\u001b[1;33m\u001b[0m\u001b[1;33m\u001b[0m\u001b[0m\n\u001b[0m\u001b[0;32m    312\u001b[0m \u001b[1;33m\u001b[0m\u001b[0m\n\u001b[0;32m    313\u001b[0m         \u001b[1;32mreturn\u001b[0m \u001b[0mwrapper\u001b[0m\u001b[1;33m\u001b[0m\u001b[1;33m\u001b[0m\u001b[0m\n",
      "\u001b[1;32m~\\anaconda3\\lib\\site-packages\\pandas\\io\\parsers\\readers.py\u001b[0m in \u001b[0;36mread_csv\u001b[1;34m(filepath_or_buffer, sep, delimiter, header, names, index_col, usecols, squeeze, prefix, mangle_dupe_cols, dtype, engine, converters, true_values, false_values, skipinitialspace, skiprows, skipfooter, nrows, na_values, keep_default_na, na_filter, verbose, skip_blank_lines, parse_dates, infer_datetime_format, keep_date_col, date_parser, dayfirst, cache_dates, iterator, chunksize, compression, thousands, decimal, lineterminator, quotechar, quoting, doublequote, escapechar, comment, encoding, encoding_errors, dialect, error_bad_lines, warn_bad_lines, on_bad_lines, delim_whitespace, low_memory, memory_map, float_precision, storage_options)\u001b[0m\n\u001b[0;32m    584\u001b[0m     \u001b[0mkwds\u001b[0m\u001b[1;33m.\u001b[0m\u001b[0mupdate\u001b[0m\u001b[1;33m(\u001b[0m\u001b[0mkwds_defaults\u001b[0m\u001b[1;33m)\u001b[0m\u001b[1;33m\u001b[0m\u001b[1;33m\u001b[0m\u001b[0m\n\u001b[0;32m    585\u001b[0m \u001b[1;33m\u001b[0m\u001b[0m\n\u001b[1;32m--> 586\u001b[1;33m     \u001b[1;32mreturn\u001b[0m \u001b[0m_read\u001b[0m\u001b[1;33m(\u001b[0m\u001b[0mfilepath_or_buffer\u001b[0m\u001b[1;33m,\u001b[0m \u001b[0mkwds\u001b[0m\u001b[1;33m)\u001b[0m\u001b[1;33m\u001b[0m\u001b[1;33m\u001b[0m\u001b[0m\n\u001b[0m\u001b[0;32m    587\u001b[0m \u001b[1;33m\u001b[0m\u001b[0m\n\u001b[0;32m    588\u001b[0m \u001b[1;33m\u001b[0m\u001b[0m\n",
      "\u001b[1;32m~\\anaconda3\\lib\\site-packages\\pandas\\io\\parsers\\readers.py\u001b[0m in \u001b[0;36m_read\u001b[1;34m(filepath_or_buffer, kwds)\u001b[0m\n\u001b[0;32m    480\u001b[0m \u001b[1;33m\u001b[0m\u001b[0m\n\u001b[0;32m    481\u001b[0m     \u001b[1;31m# Create the parser.\u001b[0m\u001b[1;33m\u001b[0m\u001b[1;33m\u001b[0m\u001b[0m\n\u001b[1;32m--> 482\u001b[1;33m     \u001b[0mparser\u001b[0m \u001b[1;33m=\u001b[0m \u001b[0mTextFileReader\u001b[0m\u001b[1;33m(\u001b[0m\u001b[0mfilepath_or_buffer\u001b[0m\u001b[1;33m,\u001b[0m \u001b[1;33m**\u001b[0m\u001b[0mkwds\u001b[0m\u001b[1;33m)\u001b[0m\u001b[1;33m\u001b[0m\u001b[1;33m\u001b[0m\u001b[0m\n\u001b[0m\u001b[0;32m    483\u001b[0m \u001b[1;33m\u001b[0m\u001b[0m\n\u001b[0;32m    484\u001b[0m     \u001b[1;32mif\u001b[0m \u001b[0mchunksize\u001b[0m \u001b[1;32mor\u001b[0m \u001b[0miterator\u001b[0m\u001b[1;33m:\u001b[0m\u001b[1;33m\u001b[0m\u001b[1;33m\u001b[0m\u001b[0m\n",
      "\u001b[1;32m~\\anaconda3\\lib\\site-packages\\pandas\\io\\parsers\\readers.py\u001b[0m in \u001b[0;36m__init__\u001b[1;34m(self, f, engine, **kwds)\u001b[0m\n\u001b[0;32m    809\u001b[0m             \u001b[0mself\u001b[0m\u001b[1;33m.\u001b[0m\u001b[0moptions\u001b[0m\u001b[1;33m[\u001b[0m\u001b[1;34m\"has_index_names\"\u001b[0m\u001b[1;33m]\u001b[0m \u001b[1;33m=\u001b[0m \u001b[0mkwds\u001b[0m\u001b[1;33m[\u001b[0m\u001b[1;34m\"has_index_names\"\u001b[0m\u001b[1;33m]\u001b[0m\u001b[1;33m\u001b[0m\u001b[1;33m\u001b[0m\u001b[0m\n\u001b[0;32m    810\u001b[0m \u001b[1;33m\u001b[0m\u001b[0m\n\u001b[1;32m--> 811\u001b[1;33m         \u001b[0mself\u001b[0m\u001b[1;33m.\u001b[0m\u001b[0m_engine\u001b[0m \u001b[1;33m=\u001b[0m \u001b[0mself\u001b[0m\u001b[1;33m.\u001b[0m\u001b[0m_make_engine\u001b[0m\u001b[1;33m(\u001b[0m\u001b[0mself\u001b[0m\u001b[1;33m.\u001b[0m\u001b[0mengine\u001b[0m\u001b[1;33m)\u001b[0m\u001b[1;33m\u001b[0m\u001b[1;33m\u001b[0m\u001b[0m\n\u001b[0m\u001b[0;32m    812\u001b[0m \u001b[1;33m\u001b[0m\u001b[0m\n\u001b[0;32m    813\u001b[0m     \u001b[1;32mdef\u001b[0m \u001b[0mclose\u001b[0m\u001b[1;33m(\u001b[0m\u001b[0mself\u001b[0m\u001b[1;33m)\u001b[0m\u001b[1;33m:\u001b[0m\u001b[1;33m\u001b[0m\u001b[1;33m\u001b[0m\u001b[0m\n",
      "\u001b[1;32m~\\anaconda3\\lib\\site-packages\\pandas\\io\\parsers\\readers.py\u001b[0m in \u001b[0;36m_make_engine\u001b[1;34m(self, engine)\u001b[0m\n\u001b[0;32m   1038\u001b[0m             )\n\u001b[0;32m   1039\u001b[0m         \u001b[1;31m# error: Too many arguments for \"ParserBase\"\u001b[0m\u001b[1;33m\u001b[0m\u001b[1;33m\u001b[0m\u001b[0m\n\u001b[1;32m-> 1040\u001b[1;33m         \u001b[1;32mreturn\u001b[0m \u001b[0mmapping\u001b[0m\u001b[1;33m[\u001b[0m\u001b[0mengine\u001b[0m\u001b[1;33m]\u001b[0m\u001b[1;33m(\u001b[0m\u001b[0mself\u001b[0m\u001b[1;33m.\u001b[0m\u001b[0mf\u001b[0m\u001b[1;33m,\u001b[0m \u001b[1;33m**\u001b[0m\u001b[0mself\u001b[0m\u001b[1;33m.\u001b[0m\u001b[0moptions\u001b[0m\u001b[1;33m)\u001b[0m  \u001b[1;31m# type: ignore[call-arg]\u001b[0m\u001b[1;33m\u001b[0m\u001b[1;33m\u001b[0m\u001b[0m\n\u001b[0m\u001b[0;32m   1041\u001b[0m \u001b[1;33m\u001b[0m\u001b[0m\n\u001b[0;32m   1042\u001b[0m     \u001b[1;32mdef\u001b[0m \u001b[0m_failover_to_python\u001b[0m\u001b[1;33m(\u001b[0m\u001b[0mself\u001b[0m\u001b[1;33m)\u001b[0m\u001b[1;33m:\u001b[0m\u001b[1;33m\u001b[0m\u001b[1;33m\u001b[0m\u001b[0m\n",
      "\u001b[1;32m~\\anaconda3\\lib\\site-packages\\pandas\\io\\parsers\\c_parser_wrapper.py\u001b[0m in \u001b[0;36m__init__\u001b[1;34m(self, src, **kwds)\u001b[0m\n\u001b[0;32m     67\u001b[0m         \u001b[0mkwds\u001b[0m\u001b[1;33m[\u001b[0m\u001b[1;34m\"dtype\"\u001b[0m\u001b[1;33m]\u001b[0m \u001b[1;33m=\u001b[0m \u001b[0mensure_dtype_objs\u001b[0m\u001b[1;33m(\u001b[0m\u001b[0mkwds\u001b[0m\u001b[1;33m.\u001b[0m\u001b[0mget\u001b[0m\u001b[1;33m(\u001b[0m\u001b[1;34m\"dtype\"\u001b[0m\u001b[1;33m,\u001b[0m \u001b[1;32mNone\u001b[0m\u001b[1;33m)\u001b[0m\u001b[1;33m)\u001b[0m\u001b[1;33m\u001b[0m\u001b[1;33m\u001b[0m\u001b[0m\n\u001b[0;32m     68\u001b[0m         \u001b[1;32mtry\u001b[0m\u001b[1;33m:\u001b[0m\u001b[1;33m\u001b[0m\u001b[1;33m\u001b[0m\u001b[0m\n\u001b[1;32m---> 69\u001b[1;33m             \u001b[0mself\u001b[0m\u001b[1;33m.\u001b[0m\u001b[0m_reader\u001b[0m \u001b[1;33m=\u001b[0m \u001b[0mparsers\u001b[0m\u001b[1;33m.\u001b[0m\u001b[0mTextReader\u001b[0m\u001b[1;33m(\u001b[0m\u001b[0mself\u001b[0m\u001b[1;33m.\u001b[0m\u001b[0mhandles\u001b[0m\u001b[1;33m.\u001b[0m\u001b[0mhandle\u001b[0m\u001b[1;33m,\u001b[0m \u001b[1;33m**\u001b[0m\u001b[0mkwds\u001b[0m\u001b[1;33m)\u001b[0m\u001b[1;33m\u001b[0m\u001b[1;33m\u001b[0m\u001b[0m\n\u001b[0m\u001b[0;32m     70\u001b[0m         \u001b[1;32mexcept\u001b[0m \u001b[0mException\u001b[0m\u001b[1;33m:\u001b[0m\u001b[1;33m\u001b[0m\u001b[1;33m\u001b[0m\u001b[0m\n\u001b[0;32m     71\u001b[0m             \u001b[0mself\u001b[0m\u001b[1;33m.\u001b[0m\u001b[0mhandles\u001b[0m\u001b[1;33m.\u001b[0m\u001b[0mclose\u001b[0m\u001b[1;33m(\u001b[0m\u001b[1;33m)\u001b[0m\u001b[1;33m\u001b[0m\u001b[1;33m\u001b[0m\u001b[0m\n",
      "\u001b[1;32m~\\anaconda3\\lib\\site-packages\\pandas\\_libs\\parsers.pyx\u001b[0m in \u001b[0;36mpandas._libs.parsers.TextReader.__cinit__\u001b[1;34m()\u001b[0m\n",
      "\u001b[1;32m~\\anaconda3\\lib\\site-packages\\pandas\\_libs\\parsers.pyx\u001b[0m in \u001b[0;36mpandas._libs.parsers.TextReader._get_header\u001b[1;34m()\u001b[0m\n",
      "\u001b[1;32m~\\anaconda3\\lib\\site-packages\\pandas\\_libs\\parsers.pyx\u001b[0m in \u001b[0;36mpandas._libs.parsers.TextReader._tokenize_rows\u001b[1;34m()\u001b[0m\n",
      "\u001b[1;32m~\\anaconda3\\lib\\site-packages\\pandas\\_libs\\parsers.pyx\u001b[0m in \u001b[0;36mpandas._libs.parsers.raise_parser_error\u001b[1;34m()\u001b[0m\n",
      "\u001b[1;31mUnicodeDecodeError\u001b[0m: 'cp949' codec can't decode byte 0xec in position 0: illegal multibyte sequence"
     ]
    }
   ],
   "source": [
    "dir_path = \"./data\"\n",
    "df = pd.DataFrame()\n",
    "\n",
    "for (root, directories, files) in os.walk(dir_path):\n",
    "    for file in files:\n",
    "        df_by_year = pd.read_csv(os.path.join(root, file), encoding=\"cp949\")\n",
    "        df = pd.concat([df, df_by_year])\n",
    "\n",
    "df.columns = [\"일련번호\", \"시장/마트번호\", \"시장/마트이름\", \"품목번호\", '품목이름', \"실판매규격\", \"가격(원)\",  \"년도-월\", \"비고\", \"시장유형구분코드\", \"시장유형구분이름\", \"자치구코드\", \"자치구이름\", \"점검일자\"] \n"
   ]
  },
  {
   "cell_type": "code",
   "execution_count": 26,
   "id": "cf933c1c",
   "metadata": {},
   "outputs": [],
   "source": [
    "df_1 = pd.read_csv('data/생필품 농수축산물 가격 정보(2021년).csv', encoding=\"cp949\")\n",
    "df_2=pd.read_csv('data/생필품 농수축산물 가격 정보(2020년).csv', encoding=\"cp949\")\n",
    "df_3=pd.read_csv('data/생필품 농수축산물 가격 정보(2019년).csv', encoding=\"cp949\")\n",
    "df_4=pd.read_csv('data/생필품 농수축산물 가격 정보(2018년).csv', encoding=\"cp949\")\n",
    "df = pd.concat([df_1,df_2,df_3,df_4])"
   ]
  },
  {
   "cell_type": "markdown",
   "id": "7f79821f",
   "metadata": {},
   "source": [
    "# 데이터 통합 및 결측치, 유일값 확인."
   ]
  },
  {
   "cell_type": "markdown",
   "id": "83451e9a",
   "metadata": {},
   "source": [
    "* 각 데이터 프레임의 컬럼명 통일 및 통합."
   ]
  },
  {
   "cell_type": "code",
   "execution_count": 27,
   "id": "4486b474",
   "metadata": {},
   "outputs": [
    {
     "data": {
      "text/html": [
       "<div>\n",
       "<style scoped>\n",
       "    .dataframe tbody tr th:only-of-type {\n",
       "        vertical-align: middle;\n",
       "    }\n",
       "\n",
       "    .dataframe tbody tr th {\n",
       "        vertical-align: top;\n",
       "    }\n",
       "\n",
       "    .dataframe thead th {\n",
       "        text-align: right;\n",
       "    }\n",
       "</style>\n",
       "<table border=\"1\" class=\"dataframe\">\n",
       "  <thead>\n",
       "    <tr style=\"text-align: right;\">\n",
       "      <th></th>\n",
       "      <th>일련번호</th>\n",
       "      <th>시장/마트 번호</th>\n",
       "      <th>시장/마트 이름</th>\n",
       "      <th>품목 번호</th>\n",
       "      <th>품목 이름</th>\n",
       "      <th>실판매규격</th>\n",
       "      <th>가격(원)</th>\n",
       "      <th>년도-월</th>\n",
       "      <th>비고</th>\n",
       "      <th>시장유형 구분(시장/마트) 코드</th>\n",
       "      <th>시장유형 구분(시장/마트) 이름</th>\n",
       "      <th>자치구 코드</th>\n",
       "      <th>자치구 이름</th>\n",
       "      <th>점검일자</th>\n",
       "    </tr>\n",
       "  </thead>\n",
       "  <tbody>\n",
       "    <tr>\n",
       "      <th>0</th>\n",
       "      <td>1636107</td>\n",
       "      <td>226</td>\n",
       "      <td>롯데마트 구로점</td>\n",
       "      <td>28</td>\n",
       "      <td>사과</td>\n",
       "      <td>1개 (300g)</td>\n",
       "      <td>1598</td>\n",
       "      <td>2021-01</td>\n",
       "      <td>국내산,부사</td>\n",
       "      <td>2</td>\n",
       "      <td>대형마트</td>\n",
       "      <td>530000</td>\n",
       "      <td>구로구</td>\n",
       "      <td>2021-01-21</td>\n",
       "    </tr>\n",
       "    <tr>\n",
       "      <th>1</th>\n",
       "      <td>1636108</td>\n",
       "      <td>226</td>\n",
       "      <td>롯데마트 구로점</td>\n",
       "      <td>27</td>\n",
       "      <td>배</td>\n",
       "      <td>1개 (600g)</td>\n",
       "      <td>1590</td>\n",
       "      <td>2021-01</td>\n",
       "      <td>국내산,신고</td>\n",
       "      <td>2</td>\n",
       "      <td>대형마트</td>\n",
       "      <td>530000</td>\n",
       "      <td>구로구</td>\n",
       "      <td>2021-01-21</td>\n",
       "    </tr>\n",
       "    <tr>\n",
       "      <th>2</th>\n",
       "      <td>1636109</td>\n",
       "      <td>226</td>\n",
       "      <td>롯데마트 구로점</td>\n",
       "      <td>26</td>\n",
       "      <td>배추</td>\n",
       "      <td>1포기(2kg)</td>\n",
       "      <td>3990</td>\n",
       "      <td>2021-01</td>\n",
       "      <td>국내산</td>\n",
       "      <td>2</td>\n",
       "      <td>대형마트</td>\n",
       "      <td>530000</td>\n",
       "      <td>구로구</td>\n",
       "      <td>2021-01-21</td>\n",
       "    </tr>\n",
       "    <tr>\n",
       "      <th>3</th>\n",
       "      <td>1636110</td>\n",
       "      <td>226</td>\n",
       "      <td>롯데마트 구로점</td>\n",
       "      <td>25</td>\n",
       "      <td>무</td>\n",
       "      <td>1개 (900g)</td>\n",
       "      <td>1990</td>\n",
       "      <td>2021-01</td>\n",
       "      <td>국내산</td>\n",
       "      <td>2</td>\n",
       "      <td>대형마트</td>\n",
       "      <td>530000</td>\n",
       "      <td>구로구</td>\n",
       "      <td>2021-01-21</td>\n",
       "    </tr>\n",
       "    <tr>\n",
       "      <th>4</th>\n",
       "      <td>1636111</td>\n",
       "      <td>226</td>\n",
       "      <td>롯데마트 구로점</td>\n",
       "      <td>24</td>\n",
       "      <td>양파</td>\n",
       "      <td>1개 (200g)</td>\n",
       "      <td>990</td>\n",
       "      <td>2021-01</td>\n",
       "      <td>국내산</td>\n",
       "      <td>2</td>\n",
       "      <td>대형마트</td>\n",
       "      <td>530000</td>\n",
       "      <td>구로구</td>\n",
       "      <td>2021-01-21</td>\n",
       "    </tr>\n",
       "  </tbody>\n",
       "</table>\n",
       "</div>"
      ],
      "text/plain": [
       "      일련번호  시장/마트 번호  시장/마트 이름  품목 번호 품목 이름      실판매규격  가격(원)     년도-월  \\\n",
       "0  1636107       226  롯데마트 구로점     28    사과  1개 (300g)   1598  2021-01   \n",
       "1  1636108       226  롯데마트 구로점     27     배  1개 (600g)   1590  2021-01   \n",
       "2  1636109       226  롯데마트 구로점     26    배추   1포기(2kg)   3990  2021-01   \n",
       "3  1636110       226  롯데마트 구로점     25     무  1개 (900g)   1990  2021-01   \n",
       "4  1636111       226  롯데마트 구로점     24    양파  1개 (200g)    990  2021-01   \n",
       "\n",
       "       비고  시장유형 구분(시장/마트) 코드 시장유형 구분(시장/마트) 이름  자치구 코드 자치구 이름        점검일자  \n",
       "0  국내산,부사                  2              대형마트  530000    구로구  2021-01-21  \n",
       "1  국내산,신고                  2              대형마트  530000    구로구  2021-01-21  \n",
       "2     국내산                  2              대형마트  530000    구로구  2021-01-21  \n",
       "3     국내산                  2              대형마트  530000    구로구  2021-01-21  \n",
       "4     국내산                  2              대형마트  530000    구로구  2021-01-21  "
      ]
     },
     "execution_count": 27,
     "metadata": {},
     "output_type": "execute_result"
    }
   ],
   "source": [
    "df.head()"
   ]
  },
  {
   "cell_type": "code",
   "execution_count": 28,
   "id": "0cb7db19",
   "metadata": {},
   "outputs": [
    {
     "data": {
      "text/plain": [
       "(341240, 14)"
      ]
     },
     "execution_count": 28,
     "metadata": {},
     "output_type": "execute_result"
    }
   ],
   "source": [
    "df.shape"
   ]
  },
  {
   "cell_type": "markdown",
   "id": "458a0e1e",
   "metadata": {},
   "source": [
    "* 데이터 형식 확인"
   ]
  },
  {
   "cell_type": "code",
   "execution_count": 29,
   "id": "d55f66f8",
   "metadata": {},
   "outputs": [
    {
     "name": "stdout",
     "output_type": "stream",
     "text": [
      "<class 'pandas.core.frame.DataFrame'>\n",
      "Int64Index: 341240 entries, 0 to 20396\n",
      "Data columns (total 14 columns):\n",
      " #   Column             Non-Null Count   Dtype \n",
      "---  ------             --------------   ----- \n",
      " 0   일련번호               341240 non-null  int64 \n",
      " 1   시장/마트 번호           341240 non-null  int64 \n",
      " 2   시장/마트 이름           341240 non-null  object\n",
      " 3   품목 번호              341240 non-null  int64 \n",
      " 4   품목 이름              341184 non-null  object\n",
      " 5   실판매규격              341240 non-null  object\n",
      " 6   가격(원)              341240 non-null  int64 \n",
      " 7   년도-월               341240 non-null  object\n",
      " 8   비고                 267501 non-null  object\n",
      " 9   시장유형 구분(시장/마트) 코드  341240 non-null  int64 \n",
      " 10  시장유형 구분(시장/마트) 이름  341240 non-null  object\n",
      " 11  자치구 코드             341240 non-null  int64 \n",
      " 12  자치구 이름             341240 non-null  object\n",
      " 13  점검일자               341240 non-null  object\n",
      "dtypes: int64(6), object(8)\n",
      "memory usage: 39.1+ MB\n"
     ]
    }
   ],
   "source": [
    "df.info()"
   ]
  },
  {
   "cell_type": "markdown",
   "id": "ff6d0057",
   "metadata": {
    "collapsed": true
   },
   "source": [
    "* 중복 제거 및 결측치 확인."
   ]
  },
  {
   "cell_type": "code",
   "execution_count": 30,
   "id": "0227396f",
   "metadata": {},
   "outputs": [
    {
     "data": {
      "text/plain": [
       "(341240, 14)"
      ]
     },
     "execution_count": 30,
     "metadata": {},
     "output_type": "execute_result"
    }
   ],
   "source": [
    "df = df.drop_duplicates()\n",
    "df.shape"
   ]
  },
  {
   "cell_type": "code",
   "execution_count": 31,
   "id": "73004900",
   "metadata": {},
   "outputs": [
    {
     "data": {
      "text/plain": [
       "일련번호                     0\n",
       "시장/마트 번호                 0\n",
       "시장/마트 이름                 0\n",
       "품목 번호                    0\n",
       "품목 이름                   56\n",
       "실판매규격                    0\n",
       "가격(원)                    0\n",
       "년도-월                     0\n",
       "비고                   73739\n",
       "시장유형 구분(시장/마트) 코드        0\n",
       "시장유형 구분(시장/마트) 이름        0\n",
       "자치구 코드                   0\n",
       "자치구 이름                   0\n",
       "점검일자                     0\n",
       "dtype: int64"
      ]
     },
     "execution_count": 31,
     "metadata": {},
     "output_type": "execute_result"
    }
   ],
   "source": [
    "df.isnull().sum()"
   ]
  },
  {
   "cell_type": "code",
   "execution_count": 32,
   "id": "462c8555",
   "metadata": {},
   "outputs": [],
   "source": [
    "df = df.fillna(\"내용없음\")"
   ]
  },
  {
   "cell_type": "markdown",
   "id": "b882a714",
   "metadata": {},
   "source": [
    "* 유일값 확인"
   ]
  },
  {
   "cell_type": "code",
   "execution_count": 33,
   "id": "517e6e44",
   "metadata": {},
   "outputs": [
    {
     "data": {
      "text/plain": [
       "일련번호                 341240\n",
       "시장/마트 번호                107\n",
       "시장/마트 이름                155\n",
       "품목 번호                    96\n",
       "품목 이름                    89\n",
       "실판매규격                  7870\n",
       "가격(원)                  3507\n",
       "년도-월                     47\n",
       "비고                    28292\n",
       "시장유형 구분(시장/마트) 코드         2\n",
       "시장유형 구분(시장/마트) 이름         2\n",
       "자치구 코드                   25\n",
       "자치구 이름                   25\n",
       "점검일자                    110\n",
       "dtype: int64"
      ]
     },
     "execution_count": 33,
     "metadata": {},
     "output_type": "execute_result"
    }
   ],
   "source": [
    "df.nunique()"
   ]
  },
  {
   "cell_type": "code",
   "execution_count": 34,
   "id": "6c16fe25",
   "metadata": {},
   "outputs": [
    {
     "data": {
      "text/plain": [
       "(array([1636107, 1636108, 1636109, ..., 1192247, 1192248, 1192249],\n",
       "       dtype=int64),\n",
       " 341240)"
      ]
     },
     "execution_count": 34,
     "metadata": {},
     "output_type": "execute_result"
    }
   ],
   "source": [
    "df[\"일련번호\"].unique(), len(df[\"일련번호\"].unique())"
   ]
  },
  {
   "cell_type": "code",
   "execution_count": 35,
   "id": "e48506c1",
   "metadata": {},
   "outputs": [
    {
     "ename": "KeyError",
     "evalue": "'시장/마트이름'",
     "output_type": "error",
     "traceback": [
      "\u001b[1;31m---------------------------------------------------------------------------\u001b[0m",
      "\u001b[1;31mKeyError\u001b[0m                                  Traceback (most recent call last)",
      "\u001b[1;32m~\\anaconda3\\lib\\site-packages\\pandas\\core\\indexes\\base.py\u001b[0m in \u001b[0;36mget_loc\u001b[1;34m(self, key, method, tolerance)\u001b[0m\n\u001b[0;32m   3360\u001b[0m             \u001b[1;32mtry\u001b[0m\u001b[1;33m:\u001b[0m\u001b[1;33m\u001b[0m\u001b[1;33m\u001b[0m\u001b[0m\n\u001b[1;32m-> 3361\u001b[1;33m                 \u001b[1;32mreturn\u001b[0m \u001b[0mself\u001b[0m\u001b[1;33m.\u001b[0m\u001b[0m_engine\u001b[0m\u001b[1;33m.\u001b[0m\u001b[0mget_loc\u001b[0m\u001b[1;33m(\u001b[0m\u001b[0mcasted_key\u001b[0m\u001b[1;33m)\u001b[0m\u001b[1;33m\u001b[0m\u001b[1;33m\u001b[0m\u001b[0m\n\u001b[0m\u001b[0;32m   3362\u001b[0m             \u001b[1;32mexcept\u001b[0m \u001b[0mKeyError\u001b[0m \u001b[1;32mas\u001b[0m \u001b[0merr\u001b[0m\u001b[1;33m:\u001b[0m\u001b[1;33m\u001b[0m\u001b[1;33m\u001b[0m\u001b[0m\n",
      "\u001b[1;32m~\\anaconda3\\lib\\site-packages\\pandas\\_libs\\index.pyx\u001b[0m in \u001b[0;36mpandas._libs.index.IndexEngine.get_loc\u001b[1;34m()\u001b[0m\n",
      "\u001b[1;32m~\\anaconda3\\lib\\site-packages\\pandas\\_libs\\index.pyx\u001b[0m in \u001b[0;36mpandas._libs.index.IndexEngine.get_loc\u001b[1;34m()\u001b[0m\n",
      "\u001b[1;32mpandas\\_libs\\hashtable_class_helper.pxi\u001b[0m in \u001b[0;36mpandas._libs.hashtable.PyObjectHashTable.get_item\u001b[1;34m()\u001b[0m\n",
      "\u001b[1;32mpandas\\_libs\\hashtable_class_helper.pxi\u001b[0m in \u001b[0;36mpandas._libs.hashtable.PyObjectHashTable.get_item\u001b[1;34m()\u001b[0m\n",
      "\u001b[1;31mKeyError\u001b[0m: '시장/마트이름'",
      "\nThe above exception was the direct cause of the following exception:\n",
      "\u001b[1;31mKeyError\u001b[0m                                  Traceback (most recent call last)",
      "\u001b[1;32m~\\AppData\\Local\\Temp/ipykernel_6360/363841213.py\u001b[0m in \u001b[0;36m<module>\u001b[1;34m\u001b[0m\n\u001b[1;32m----> 1\u001b[1;33m \u001b[0mdf\u001b[0m\u001b[1;33m[\u001b[0m\u001b[1;34m\"시장/마트이름\"\u001b[0m\u001b[1;33m]\u001b[0m\u001b[1;33m.\u001b[0m\u001b[0munique\u001b[0m\u001b[1;33m(\u001b[0m\u001b[1;33m)\u001b[0m\u001b[1;33m,\u001b[0m \u001b[0mlen\u001b[0m\u001b[1;33m(\u001b[0m\u001b[0mdf\u001b[0m\u001b[1;33m[\u001b[0m\u001b[1;34m\"시장/마트이름\"\u001b[0m\u001b[1;33m]\u001b[0m\u001b[1;33m.\u001b[0m\u001b[0munique\u001b[0m\u001b[1;33m(\u001b[0m\u001b[1;33m)\u001b[0m\u001b[1;33m)\u001b[0m\u001b[1;33m\u001b[0m\u001b[1;33m\u001b[0m\u001b[0m\n\u001b[0m",
      "\u001b[1;32m~\\anaconda3\\lib\\site-packages\\pandas\\core\\frame.py\u001b[0m in \u001b[0;36m__getitem__\u001b[1;34m(self, key)\u001b[0m\n\u001b[0;32m   3456\u001b[0m             \u001b[1;32mif\u001b[0m \u001b[0mself\u001b[0m\u001b[1;33m.\u001b[0m\u001b[0mcolumns\u001b[0m\u001b[1;33m.\u001b[0m\u001b[0mnlevels\u001b[0m \u001b[1;33m>\u001b[0m \u001b[1;36m1\u001b[0m\u001b[1;33m:\u001b[0m\u001b[1;33m\u001b[0m\u001b[1;33m\u001b[0m\u001b[0m\n\u001b[0;32m   3457\u001b[0m                 \u001b[1;32mreturn\u001b[0m \u001b[0mself\u001b[0m\u001b[1;33m.\u001b[0m\u001b[0m_getitem_multilevel\u001b[0m\u001b[1;33m(\u001b[0m\u001b[0mkey\u001b[0m\u001b[1;33m)\u001b[0m\u001b[1;33m\u001b[0m\u001b[1;33m\u001b[0m\u001b[0m\n\u001b[1;32m-> 3458\u001b[1;33m             \u001b[0mindexer\u001b[0m \u001b[1;33m=\u001b[0m \u001b[0mself\u001b[0m\u001b[1;33m.\u001b[0m\u001b[0mcolumns\u001b[0m\u001b[1;33m.\u001b[0m\u001b[0mget_loc\u001b[0m\u001b[1;33m(\u001b[0m\u001b[0mkey\u001b[0m\u001b[1;33m)\u001b[0m\u001b[1;33m\u001b[0m\u001b[1;33m\u001b[0m\u001b[0m\n\u001b[0m\u001b[0;32m   3459\u001b[0m             \u001b[1;32mif\u001b[0m \u001b[0mis_integer\u001b[0m\u001b[1;33m(\u001b[0m\u001b[0mindexer\u001b[0m\u001b[1;33m)\u001b[0m\u001b[1;33m:\u001b[0m\u001b[1;33m\u001b[0m\u001b[1;33m\u001b[0m\u001b[0m\n\u001b[0;32m   3460\u001b[0m                 \u001b[0mindexer\u001b[0m \u001b[1;33m=\u001b[0m \u001b[1;33m[\u001b[0m\u001b[0mindexer\u001b[0m\u001b[1;33m]\u001b[0m\u001b[1;33m\u001b[0m\u001b[1;33m\u001b[0m\u001b[0m\n",
      "\u001b[1;32m~\\anaconda3\\lib\\site-packages\\pandas\\core\\indexes\\base.py\u001b[0m in \u001b[0;36mget_loc\u001b[1;34m(self, key, method, tolerance)\u001b[0m\n\u001b[0;32m   3361\u001b[0m                 \u001b[1;32mreturn\u001b[0m \u001b[0mself\u001b[0m\u001b[1;33m.\u001b[0m\u001b[0m_engine\u001b[0m\u001b[1;33m.\u001b[0m\u001b[0mget_loc\u001b[0m\u001b[1;33m(\u001b[0m\u001b[0mcasted_key\u001b[0m\u001b[1;33m)\u001b[0m\u001b[1;33m\u001b[0m\u001b[1;33m\u001b[0m\u001b[0m\n\u001b[0;32m   3362\u001b[0m             \u001b[1;32mexcept\u001b[0m \u001b[0mKeyError\u001b[0m \u001b[1;32mas\u001b[0m \u001b[0merr\u001b[0m\u001b[1;33m:\u001b[0m\u001b[1;33m\u001b[0m\u001b[1;33m\u001b[0m\u001b[0m\n\u001b[1;32m-> 3363\u001b[1;33m                 \u001b[1;32mraise\u001b[0m \u001b[0mKeyError\u001b[0m\u001b[1;33m(\u001b[0m\u001b[0mkey\u001b[0m\u001b[1;33m)\u001b[0m \u001b[1;32mfrom\u001b[0m \u001b[0merr\u001b[0m\u001b[1;33m\u001b[0m\u001b[1;33m\u001b[0m\u001b[0m\n\u001b[0m\u001b[0;32m   3364\u001b[0m \u001b[1;33m\u001b[0m\u001b[0m\n\u001b[0;32m   3365\u001b[0m         \u001b[1;32mif\u001b[0m \u001b[0mis_scalar\u001b[0m\u001b[1;33m(\u001b[0m\u001b[0mkey\u001b[0m\u001b[1;33m)\u001b[0m \u001b[1;32mand\u001b[0m \u001b[0misna\u001b[0m\u001b[1;33m(\u001b[0m\u001b[0mkey\u001b[0m\u001b[1;33m)\u001b[0m \u001b[1;32mand\u001b[0m \u001b[1;32mnot\u001b[0m \u001b[0mself\u001b[0m\u001b[1;33m.\u001b[0m\u001b[0mhasnans\u001b[0m\u001b[1;33m:\u001b[0m\u001b[1;33m\u001b[0m\u001b[1;33m\u001b[0m\u001b[0m\n",
      "\u001b[1;31mKeyError\u001b[0m: '시장/마트이름'"
     ]
    }
   ],
   "source": [
    "df[\"시장/마트이름\"].unique(), len(df[\"시장/마트이름\"].unique())"
   ]
  },
  {
   "cell_type": "code",
   "execution_count": null,
   "id": "ce63c3e6",
   "metadata": {},
   "outputs": [],
   "source": [
    "df[\"품목번호\"].unique(), len(df[\"품목번호\"].unique())"
   ]
  },
  {
   "cell_type": "code",
   "execution_count": 36,
   "id": "b6b81c0e",
   "metadata": {},
   "outputs": [
    {
     "ename": "KeyError",
     "evalue": "'품목이름'",
     "output_type": "error",
     "traceback": [
      "\u001b[1;31m---------------------------------------------------------------------------\u001b[0m",
      "\u001b[1;31mKeyError\u001b[0m                                  Traceback (most recent call last)",
      "\u001b[1;32m~\\anaconda3\\lib\\site-packages\\pandas\\core\\indexes\\base.py\u001b[0m in \u001b[0;36mget_loc\u001b[1;34m(self, key, method, tolerance)\u001b[0m\n\u001b[0;32m   3360\u001b[0m             \u001b[1;32mtry\u001b[0m\u001b[1;33m:\u001b[0m\u001b[1;33m\u001b[0m\u001b[1;33m\u001b[0m\u001b[0m\n\u001b[1;32m-> 3361\u001b[1;33m                 \u001b[1;32mreturn\u001b[0m \u001b[0mself\u001b[0m\u001b[1;33m.\u001b[0m\u001b[0m_engine\u001b[0m\u001b[1;33m.\u001b[0m\u001b[0mget_loc\u001b[0m\u001b[1;33m(\u001b[0m\u001b[0mcasted_key\u001b[0m\u001b[1;33m)\u001b[0m\u001b[1;33m\u001b[0m\u001b[1;33m\u001b[0m\u001b[0m\n\u001b[0m\u001b[0;32m   3362\u001b[0m             \u001b[1;32mexcept\u001b[0m \u001b[0mKeyError\u001b[0m \u001b[1;32mas\u001b[0m \u001b[0merr\u001b[0m\u001b[1;33m:\u001b[0m\u001b[1;33m\u001b[0m\u001b[1;33m\u001b[0m\u001b[0m\n",
      "\u001b[1;32m~\\anaconda3\\lib\\site-packages\\pandas\\_libs\\index.pyx\u001b[0m in \u001b[0;36mpandas._libs.index.IndexEngine.get_loc\u001b[1;34m()\u001b[0m\n",
      "\u001b[1;32m~\\anaconda3\\lib\\site-packages\\pandas\\_libs\\index.pyx\u001b[0m in \u001b[0;36mpandas._libs.index.IndexEngine.get_loc\u001b[1;34m()\u001b[0m\n",
      "\u001b[1;32mpandas\\_libs\\hashtable_class_helper.pxi\u001b[0m in \u001b[0;36mpandas._libs.hashtable.PyObjectHashTable.get_item\u001b[1;34m()\u001b[0m\n",
      "\u001b[1;32mpandas\\_libs\\hashtable_class_helper.pxi\u001b[0m in \u001b[0;36mpandas._libs.hashtable.PyObjectHashTable.get_item\u001b[1;34m()\u001b[0m\n",
      "\u001b[1;31mKeyError\u001b[0m: '품목이름'",
      "\nThe above exception was the direct cause of the following exception:\n",
      "\u001b[1;31mKeyError\u001b[0m                                  Traceback (most recent call last)",
      "\u001b[1;32m~\\AppData\\Local\\Temp/ipykernel_6360/1273711053.py\u001b[0m in \u001b[0;36m<module>\u001b[1;34m\u001b[0m\n\u001b[1;32m----> 1\u001b[1;33m \u001b[0mitem_list\u001b[0m \u001b[1;33m=\u001b[0m \u001b[0mdf\u001b[0m\u001b[1;33m[\u001b[0m\u001b[1;34m\"품목이름\"\u001b[0m\u001b[1;33m]\u001b[0m\u001b[1;33m.\u001b[0m\u001b[0munique\u001b[0m\u001b[1;33m(\u001b[0m\u001b[1;33m)\u001b[0m\u001b[1;33m\u001b[0m\u001b[1;33m\u001b[0m\u001b[0m\n\u001b[0m\u001b[0;32m      2\u001b[0m \u001b[0mitem_list\u001b[0m\u001b[1;33m,\u001b[0m \u001b[0mlen\u001b[0m\u001b[1;33m(\u001b[0m\u001b[0mdf\u001b[0m\u001b[1;33m[\u001b[0m\u001b[1;34m\"품목이름\"\u001b[0m\u001b[1;33m]\u001b[0m\u001b[1;33m.\u001b[0m\u001b[0munique\u001b[0m\u001b[1;33m(\u001b[0m\u001b[1;33m)\u001b[0m\u001b[1;33m)\u001b[0m\u001b[1;33m\u001b[0m\u001b[1;33m\u001b[0m\u001b[0m\n",
      "\u001b[1;32m~\\anaconda3\\lib\\site-packages\\pandas\\core\\frame.py\u001b[0m in \u001b[0;36m__getitem__\u001b[1;34m(self, key)\u001b[0m\n\u001b[0;32m   3456\u001b[0m             \u001b[1;32mif\u001b[0m \u001b[0mself\u001b[0m\u001b[1;33m.\u001b[0m\u001b[0mcolumns\u001b[0m\u001b[1;33m.\u001b[0m\u001b[0mnlevels\u001b[0m \u001b[1;33m>\u001b[0m \u001b[1;36m1\u001b[0m\u001b[1;33m:\u001b[0m\u001b[1;33m\u001b[0m\u001b[1;33m\u001b[0m\u001b[0m\n\u001b[0;32m   3457\u001b[0m                 \u001b[1;32mreturn\u001b[0m \u001b[0mself\u001b[0m\u001b[1;33m.\u001b[0m\u001b[0m_getitem_multilevel\u001b[0m\u001b[1;33m(\u001b[0m\u001b[0mkey\u001b[0m\u001b[1;33m)\u001b[0m\u001b[1;33m\u001b[0m\u001b[1;33m\u001b[0m\u001b[0m\n\u001b[1;32m-> 3458\u001b[1;33m             \u001b[0mindexer\u001b[0m \u001b[1;33m=\u001b[0m \u001b[0mself\u001b[0m\u001b[1;33m.\u001b[0m\u001b[0mcolumns\u001b[0m\u001b[1;33m.\u001b[0m\u001b[0mget_loc\u001b[0m\u001b[1;33m(\u001b[0m\u001b[0mkey\u001b[0m\u001b[1;33m)\u001b[0m\u001b[1;33m\u001b[0m\u001b[1;33m\u001b[0m\u001b[0m\n\u001b[0m\u001b[0;32m   3459\u001b[0m             \u001b[1;32mif\u001b[0m \u001b[0mis_integer\u001b[0m\u001b[1;33m(\u001b[0m\u001b[0mindexer\u001b[0m\u001b[1;33m)\u001b[0m\u001b[1;33m:\u001b[0m\u001b[1;33m\u001b[0m\u001b[1;33m\u001b[0m\u001b[0m\n\u001b[0;32m   3460\u001b[0m                 \u001b[0mindexer\u001b[0m \u001b[1;33m=\u001b[0m \u001b[1;33m[\u001b[0m\u001b[0mindexer\u001b[0m\u001b[1;33m]\u001b[0m\u001b[1;33m\u001b[0m\u001b[1;33m\u001b[0m\u001b[0m\n",
      "\u001b[1;32m~\\anaconda3\\lib\\site-packages\\pandas\\core\\indexes\\base.py\u001b[0m in \u001b[0;36mget_loc\u001b[1;34m(self, key, method, tolerance)\u001b[0m\n\u001b[0;32m   3361\u001b[0m                 \u001b[1;32mreturn\u001b[0m \u001b[0mself\u001b[0m\u001b[1;33m.\u001b[0m\u001b[0m_engine\u001b[0m\u001b[1;33m.\u001b[0m\u001b[0mget_loc\u001b[0m\u001b[1;33m(\u001b[0m\u001b[0mcasted_key\u001b[0m\u001b[1;33m)\u001b[0m\u001b[1;33m\u001b[0m\u001b[1;33m\u001b[0m\u001b[0m\n\u001b[0;32m   3362\u001b[0m             \u001b[1;32mexcept\u001b[0m \u001b[0mKeyError\u001b[0m \u001b[1;32mas\u001b[0m \u001b[0merr\u001b[0m\u001b[1;33m:\u001b[0m\u001b[1;33m\u001b[0m\u001b[1;33m\u001b[0m\u001b[0m\n\u001b[1;32m-> 3363\u001b[1;33m                 \u001b[1;32mraise\u001b[0m \u001b[0mKeyError\u001b[0m\u001b[1;33m(\u001b[0m\u001b[0mkey\u001b[0m\u001b[1;33m)\u001b[0m \u001b[1;32mfrom\u001b[0m \u001b[0merr\u001b[0m\u001b[1;33m\u001b[0m\u001b[1;33m\u001b[0m\u001b[0m\n\u001b[0m\u001b[0;32m   3364\u001b[0m \u001b[1;33m\u001b[0m\u001b[0m\n\u001b[0;32m   3365\u001b[0m         \u001b[1;32mif\u001b[0m \u001b[0mis_scalar\u001b[0m\u001b[1;33m(\u001b[0m\u001b[0mkey\u001b[0m\u001b[1;33m)\u001b[0m \u001b[1;32mand\u001b[0m \u001b[0misna\u001b[0m\u001b[1;33m(\u001b[0m\u001b[0mkey\u001b[0m\u001b[1;33m)\u001b[0m \u001b[1;32mand\u001b[0m \u001b[1;32mnot\u001b[0m \u001b[0mself\u001b[0m\u001b[1;33m.\u001b[0m\u001b[0mhasnans\u001b[0m\u001b[1;33m:\u001b[0m\u001b[1;33m\u001b[0m\u001b[1;33m\u001b[0m\u001b[0m\n",
      "\u001b[1;31mKeyError\u001b[0m: '품목이름'"
     ]
    }
   ],
   "source": [
    "item_list = df[\"품목이름\"].unique()\n",
    "item_list, len(df[\"품목이름\"].unique())"
   ]
  },
  {
   "cell_type": "code",
   "execution_count": 37,
   "id": "c4a4953c",
   "metadata": {},
   "outputs": [
    {
     "ename": "KeyError",
     "evalue": "'품목이름'",
     "output_type": "error",
     "traceback": [
      "\u001b[1;31m---------------------------------------------------------------------------\u001b[0m",
      "\u001b[1;31mKeyError\u001b[0m                                  Traceback (most recent call last)",
      "\u001b[1;32m~\\anaconda3\\lib\\site-packages\\pandas\\core\\indexes\\base.py\u001b[0m in \u001b[0;36mget_loc\u001b[1;34m(self, key, method, tolerance)\u001b[0m\n\u001b[0;32m   3360\u001b[0m             \u001b[1;32mtry\u001b[0m\u001b[1;33m:\u001b[0m\u001b[1;33m\u001b[0m\u001b[1;33m\u001b[0m\u001b[0m\n\u001b[1;32m-> 3361\u001b[1;33m                 \u001b[1;32mreturn\u001b[0m \u001b[0mself\u001b[0m\u001b[1;33m.\u001b[0m\u001b[0m_engine\u001b[0m\u001b[1;33m.\u001b[0m\u001b[0mget_loc\u001b[0m\u001b[1;33m(\u001b[0m\u001b[0mcasted_key\u001b[0m\u001b[1;33m)\u001b[0m\u001b[1;33m\u001b[0m\u001b[1;33m\u001b[0m\u001b[0m\n\u001b[0m\u001b[0;32m   3362\u001b[0m             \u001b[1;32mexcept\u001b[0m \u001b[0mKeyError\u001b[0m \u001b[1;32mas\u001b[0m \u001b[0merr\u001b[0m\u001b[1;33m:\u001b[0m\u001b[1;33m\u001b[0m\u001b[1;33m\u001b[0m\u001b[0m\n",
      "\u001b[1;32m~\\anaconda3\\lib\\site-packages\\pandas\\_libs\\index.pyx\u001b[0m in \u001b[0;36mpandas._libs.index.IndexEngine.get_loc\u001b[1;34m()\u001b[0m\n",
      "\u001b[1;32m~\\anaconda3\\lib\\site-packages\\pandas\\_libs\\index.pyx\u001b[0m in \u001b[0;36mpandas._libs.index.IndexEngine.get_loc\u001b[1;34m()\u001b[0m\n",
      "\u001b[1;32mpandas\\_libs\\hashtable_class_helper.pxi\u001b[0m in \u001b[0;36mpandas._libs.hashtable.PyObjectHashTable.get_item\u001b[1;34m()\u001b[0m\n",
      "\u001b[1;32mpandas\\_libs\\hashtable_class_helper.pxi\u001b[0m in \u001b[0;36mpandas._libs.hashtable.PyObjectHashTable.get_item\u001b[1;34m()\u001b[0m\n",
      "\u001b[1;31mKeyError\u001b[0m: '품목이름'",
      "\nThe above exception was the direct cause of the following exception:\n",
      "\u001b[1;31mKeyError\u001b[0m                                  Traceback (most recent call last)",
      "\u001b[1;32m~\\AppData\\Local\\Temp/ipykernel_6360/1506237986.py\u001b[0m in \u001b[0;36m<module>\u001b[1;34m\u001b[0m\n\u001b[0;32m     35\u001b[0m     \u001b[1;32mreturn\u001b[0m \u001b[0mdf\u001b[0m\u001b[1;33m\u001b[0m\u001b[1;33m\u001b[0m\u001b[0m\n\u001b[0;32m     36\u001b[0m \u001b[1;33m\u001b[0m\u001b[0m\n\u001b[1;32m---> 37\u001b[1;33m \u001b[0mdo_categorizing\u001b[0m\u001b[1;33m(\u001b[0m\u001b[0mdf\u001b[0m\u001b[1;33m,\u001b[0m \u001b[0mcategory\u001b[0m\u001b[1;33m)\u001b[0m\u001b[1;33m\u001b[0m\u001b[1;33m\u001b[0m\u001b[0m\n\u001b[0m",
      "\u001b[1;32m~\\AppData\\Local\\Temp/ipykernel_6360/1506237986.py\u001b[0m in \u001b[0;36mdo_categorizing\u001b[1;34m(df, category)\u001b[0m\n\u001b[0;32m     24\u001b[0m \u001b[1;32mdef\u001b[0m \u001b[0mdo_categorizing\u001b[0m\u001b[1;33m(\u001b[0m\u001b[0mdf\u001b[0m\u001b[1;33m,\u001b[0m \u001b[0mcategory\u001b[0m\u001b[1;33m)\u001b[0m\u001b[1;33m:\u001b[0m\u001b[1;33m\u001b[0m\u001b[1;33m\u001b[0m\u001b[0m\n\u001b[0;32m     25\u001b[0m     \u001b[0mcategory_list\u001b[0m \u001b[1;33m=\u001b[0m \u001b[1;33m[\u001b[0m\u001b[1;33m]\u001b[0m\u001b[1;33m\u001b[0m\u001b[1;33m\u001b[0m\u001b[0m\n\u001b[1;32m---> 26\u001b[1;33m     \u001b[1;32mfor\u001b[0m \u001b[0mitem\u001b[0m \u001b[1;32min\u001b[0m \u001b[0mdf\u001b[0m\u001b[1;33m[\u001b[0m\u001b[1;34m\"품목이름\"\u001b[0m\u001b[1;33m]\u001b[0m\u001b[1;33m:\u001b[0m\u001b[1;33m\u001b[0m\u001b[1;33m\u001b[0m\u001b[0m\n\u001b[0m\u001b[0;32m     27\u001b[0m         \u001b[0mis_category\u001b[0m \u001b[1;33m=\u001b[0m \u001b[1;32mFalse\u001b[0m\u001b[1;33m\u001b[0m\u001b[1;33m\u001b[0m\u001b[0m\n\u001b[0;32m     28\u001b[0m         \u001b[1;32mfor\u001b[0m \u001b[0mkey\u001b[0m\u001b[1;33m,\u001b[0m \u001b[0mvalue\u001b[0m \u001b[1;32min\u001b[0m \u001b[0mcategory\u001b[0m\u001b[1;33m.\u001b[0m\u001b[0mitems\u001b[0m\u001b[1;33m(\u001b[0m\u001b[1;33m)\u001b[0m\u001b[1;33m:\u001b[0m\u001b[1;33m\u001b[0m\u001b[1;33m\u001b[0m\u001b[0m\n",
      "\u001b[1;32m~\\anaconda3\\lib\\site-packages\\pandas\\core\\frame.py\u001b[0m in \u001b[0;36m__getitem__\u001b[1;34m(self, key)\u001b[0m\n\u001b[0;32m   3456\u001b[0m             \u001b[1;32mif\u001b[0m \u001b[0mself\u001b[0m\u001b[1;33m.\u001b[0m\u001b[0mcolumns\u001b[0m\u001b[1;33m.\u001b[0m\u001b[0mnlevels\u001b[0m \u001b[1;33m>\u001b[0m \u001b[1;36m1\u001b[0m\u001b[1;33m:\u001b[0m\u001b[1;33m\u001b[0m\u001b[1;33m\u001b[0m\u001b[0m\n\u001b[0;32m   3457\u001b[0m                 \u001b[1;32mreturn\u001b[0m \u001b[0mself\u001b[0m\u001b[1;33m.\u001b[0m\u001b[0m_getitem_multilevel\u001b[0m\u001b[1;33m(\u001b[0m\u001b[0mkey\u001b[0m\u001b[1;33m)\u001b[0m\u001b[1;33m\u001b[0m\u001b[1;33m\u001b[0m\u001b[0m\n\u001b[1;32m-> 3458\u001b[1;33m             \u001b[0mindexer\u001b[0m \u001b[1;33m=\u001b[0m \u001b[0mself\u001b[0m\u001b[1;33m.\u001b[0m\u001b[0mcolumns\u001b[0m\u001b[1;33m.\u001b[0m\u001b[0mget_loc\u001b[0m\u001b[1;33m(\u001b[0m\u001b[0mkey\u001b[0m\u001b[1;33m)\u001b[0m\u001b[1;33m\u001b[0m\u001b[1;33m\u001b[0m\u001b[0m\n\u001b[0m\u001b[0;32m   3459\u001b[0m             \u001b[1;32mif\u001b[0m \u001b[0mis_integer\u001b[0m\u001b[1;33m(\u001b[0m\u001b[0mindexer\u001b[0m\u001b[1;33m)\u001b[0m\u001b[1;33m:\u001b[0m\u001b[1;33m\u001b[0m\u001b[1;33m\u001b[0m\u001b[0m\n\u001b[0;32m   3460\u001b[0m                 \u001b[0mindexer\u001b[0m \u001b[1;33m=\u001b[0m \u001b[1;33m[\u001b[0m\u001b[0mindexer\u001b[0m\u001b[1;33m]\u001b[0m\u001b[1;33m\u001b[0m\u001b[1;33m\u001b[0m\u001b[0m\n",
      "\u001b[1;32m~\\anaconda3\\lib\\site-packages\\pandas\\core\\indexes\\base.py\u001b[0m in \u001b[0;36mget_loc\u001b[1;34m(self, key, method, tolerance)\u001b[0m\n\u001b[0;32m   3361\u001b[0m                 \u001b[1;32mreturn\u001b[0m \u001b[0mself\u001b[0m\u001b[1;33m.\u001b[0m\u001b[0m_engine\u001b[0m\u001b[1;33m.\u001b[0m\u001b[0mget_loc\u001b[0m\u001b[1;33m(\u001b[0m\u001b[0mcasted_key\u001b[0m\u001b[1;33m)\u001b[0m\u001b[1;33m\u001b[0m\u001b[1;33m\u001b[0m\u001b[0m\n\u001b[0;32m   3362\u001b[0m             \u001b[1;32mexcept\u001b[0m \u001b[0mKeyError\u001b[0m \u001b[1;32mas\u001b[0m \u001b[0merr\u001b[0m\u001b[1;33m:\u001b[0m\u001b[1;33m\u001b[0m\u001b[1;33m\u001b[0m\u001b[0m\n\u001b[1;32m-> 3363\u001b[1;33m                 \u001b[1;32mraise\u001b[0m \u001b[0mKeyError\u001b[0m\u001b[1;33m(\u001b[0m\u001b[0mkey\u001b[0m\u001b[1;33m)\u001b[0m \u001b[1;32mfrom\u001b[0m \u001b[0merr\u001b[0m\u001b[1;33m\u001b[0m\u001b[1;33m\u001b[0m\u001b[0m\n\u001b[0m\u001b[0;32m   3364\u001b[0m \u001b[1;33m\u001b[0m\u001b[0m\n\u001b[0;32m   3365\u001b[0m         \u001b[1;32mif\u001b[0m \u001b[0mis_scalar\u001b[0m\u001b[1;33m(\u001b[0m\u001b[0mkey\u001b[0m\u001b[1;33m)\u001b[0m \u001b[1;32mand\u001b[0m \u001b[0misna\u001b[0m\u001b[1;33m(\u001b[0m\u001b[0mkey\u001b[0m\u001b[1;33m)\u001b[0m \u001b[1;32mand\u001b[0m \u001b[1;32mnot\u001b[0m \u001b[0mself\u001b[0m\u001b[1;33m.\u001b[0m\u001b[0mhasnans\u001b[0m\u001b[1;33m:\u001b[0m\u001b[1;33m\u001b[0m\u001b[1;33m\u001b[0m\u001b[0m\n",
      "\u001b[1;31mKeyError\u001b[0m: '품목이름'"
     ]
    }
   ],
   "source": [
    "category = {\n",
    "    \"분류없음\": ['내용없음'],\n",
    "    \"돼지고기\": ['돼지고기', '삼겹살'],\n",
    "    \"닭고기\": ['닭고기'],\n",
    "    \"쇠고기\": ['쇠고기'],\n",
    "    \"고등어\": ['고등어'],\n",
    "    \"오징어\": ['오징어'],\n",
    "    \"사과\": ['사과', '부사'],\n",
    "    \"배추\": ['배추'],\n",
    "    \"달걀\": ['달걀'],\n",
    "    \"양파\": ['양파'],\n",
    "    \"갈치\": ['갈치'],\n",
    "    \"명태\": ['명태'],\n",
    "    \"동태\": ['동태'],\n",
    "    \"조기\": ['조기'],\n",
    "    \"오이\": ['오이'],\n",
    "    \"호박\": ['호박'],\n",
    "    \"상추\": ['상추'],\n",
    "    \"배\":['배'],\n",
    "    \"무\": ['무'],\n",
    "    \"쌀\": ['쌀'],\n",
    "}  \n",
    "\n",
    "def do_categorizing(df, category):\n",
    "    category_list = []  \n",
    "    for item in df[\"품목이름\"]:\n",
    "        is_category = False\n",
    "        for key, value in category.items():\n",
    "                for v in value:\n",
    "                    if not is_category and v in item:\n",
    "                        category_list.append(key)\n",
    "                        is_category = True\n",
    "    \n",
    "    df[\"분류\"] = category_list\n",
    "    return df\n",
    "                \n",
    "do_categorizing(df, category)"
   ]
  },
  {
   "cell_type": "code",
   "execution_count": 38,
   "id": "29c567db",
   "metadata": {},
   "outputs": [
    {
     "data": {
      "text/plain": [
       "(array(['1개 (300g)', '1개 (600g)', '1포기(2kg)', ..., '1포기 (2.2kg)', '1개(특)',\n",
       "        '1마(42cm)'], dtype=object),\n",
       " 7870)"
      ]
     },
     "execution_count": 38,
     "metadata": {},
     "output_type": "execute_result"
    }
   ],
   "source": [
    "df[\"실판매규격\"].unique(), len(df[\"실판매규격\"].unique())"
   ]
  },
  {
   "cell_type": "code",
   "execution_count": 39,
   "id": "d05ac9dc",
   "metadata": {},
   "outputs": [
    {
     "data": {
      "text/plain": [
       "(array([ 1598,  1590,  3990, ...,  8570,  2531, 14520], dtype=int64), 3507)"
      ]
     },
     "execution_count": 39,
     "metadata": {},
     "output_type": "execute_result"
    }
   ],
   "source": [
    "df[\"가격(원)\"].unique(), len(df[\"가격(원)\"].unique())"
   ]
  },
  {
   "cell_type": "code",
   "execution_count": 40,
   "id": "72b104a0",
   "metadata": {},
   "outputs": [
    {
     "data": {
      "text/plain": [
       "(array(['2021-01', '2021-02', '2021-03', '2021-04', '2021-05', '2021-06',\n",
       "        '2021-07', '2021-08', '2021-09', '2021-10', '2021-11', '2021-12',\n",
       "        '2020-12', '2020-11', '2020-10', '2020-09', '2020-08', '2020-07',\n",
       "        '2020-06', '2020-05', '2020-04', '2020-02', '2020-01', '2019-12',\n",
       "        '2019-11', '2019-10', '2019-09', '2019-08', '2019-07', '2019-06',\n",
       "        '2019-05', '2019-04', '2019-03', '2019-02', '2019-01', '2018-12',\n",
       "        '2018-11', '2018-10', '2018-09', '2018-08', '2018-07', '2018-06',\n",
       "        '2018-05', '2018-04', '2018-03', '2018-02', '2018-01'],\n",
       "       dtype=object),\n",
       " 47)"
      ]
     },
     "execution_count": 40,
     "metadata": {},
     "output_type": "execute_result"
    }
   ],
   "source": [
    "df[\"년도-월\"].unique(), len(df[\"년도-월\"].unique())"
   ]
  },
  {
   "cell_type": "code",
   "execution_count": 41,
   "id": "58073743",
   "metadata": {},
   "outputs": [
    {
     "data": {
      "text/plain": [
       "(array(['국내산,부사', '국내산,신고', '국내산', ..., '청송7개8900원', '국내산3개5500원',\n",
       "        '100g3590선진'], dtype=object),\n",
       " 28292)"
      ]
     },
     "execution_count": 41,
     "metadata": {},
     "output_type": "execute_result"
    }
   ],
   "source": [
    "df[\"비고\"].unique(), len(df[\"비고\"].unique())"
   ]
  },
  {
   "cell_type": "code",
   "execution_count": 42,
   "id": "66088ebb",
   "metadata": {},
   "outputs": [
    {
     "ename": "KeyError",
     "evalue": "'시장유형구분코드'",
     "output_type": "error",
     "traceback": [
      "\u001b[1;31m---------------------------------------------------------------------------\u001b[0m",
      "\u001b[1;31mKeyError\u001b[0m                                  Traceback (most recent call last)",
      "\u001b[1;32m~\\anaconda3\\lib\\site-packages\\pandas\\core\\indexes\\base.py\u001b[0m in \u001b[0;36mget_loc\u001b[1;34m(self, key, method, tolerance)\u001b[0m\n\u001b[0;32m   3360\u001b[0m             \u001b[1;32mtry\u001b[0m\u001b[1;33m:\u001b[0m\u001b[1;33m\u001b[0m\u001b[1;33m\u001b[0m\u001b[0m\n\u001b[1;32m-> 3361\u001b[1;33m                 \u001b[1;32mreturn\u001b[0m \u001b[0mself\u001b[0m\u001b[1;33m.\u001b[0m\u001b[0m_engine\u001b[0m\u001b[1;33m.\u001b[0m\u001b[0mget_loc\u001b[0m\u001b[1;33m(\u001b[0m\u001b[0mcasted_key\u001b[0m\u001b[1;33m)\u001b[0m\u001b[1;33m\u001b[0m\u001b[1;33m\u001b[0m\u001b[0m\n\u001b[0m\u001b[0;32m   3362\u001b[0m             \u001b[1;32mexcept\u001b[0m \u001b[0mKeyError\u001b[0m \u001b[1;32mas\u001b[0m \u001b[0merr\u001b[0m\u001b[1;33m:\u001b[0m\u001b[1;33m\u001b[0m\u001b[1;33m\u001b[0m\u001b[0m\n",
      "\u001b[1;32m~\\anaconda3\\lib\\site-packages\\pandas\\_libs\\index.pyx\u001b[0m in \u001b[0;36mpandas._libs.index.IndexEngine.get_loc\u001b[1;34m()\u001b[0m\n",
      "\u001b[1;32m~\\anaconda3\\lib\\site-packages\\pandas\\_libs\\index.pyx\u001b[0m in \u001b[0;36mpandas._libs.index.IndexEngine.get_loc\u001b[1;34m()\u001b[0m\n",
      "\u001b[1;32mpandas\\_libs\\hashtable_class_helper.pxi\u001b[0m in \u001b[0;36mpandas._libs.hashtable.PyObjectHashTable.get_item\u001b[1;34m()\u001b[0m\n",
      "\u001b[1;32mpandas\\_libs\\hashtable_class_helper.pxi\u001b[0m in \u001b[0;36mpandas._libs.hashtable.PyObjectHashTable.get_item\u001b[1;34m()\u001b[0m\n",
      "\u001b[1;31mKeyError\u001b[0m: '시장유형구분코드'",
      "\nThe above exception was the direct cause of the following exception:\n",
      "\u001b[1;31mKeyError\u001b[0m                                  Traceback (most recent call last)",
      "\u001b[1;32m~\\AppData\\Local\\Temp/ipykernel_6360/2396751912.py\u001b[0m in \u001b[0;36m<module>\u001b[1;34m\u001b[0m\n\u001b[1;32m----> 1\u001b[1;33m \u001b[0mdf\u001b[0m\u001b[1;33m[\u001b[0m\u001b[1;34m\"시장유형구분코드\"\u001b[0m\u001b[1;33m]\u001b[0m\u001b[1;33m.\u001b[0m\u001b[0munique\u001b[0m\u001b[1;33m(\u001b[0m\u001b[1;33m)\u001b[0m\u001b[1;33m,\u001b[0m \u001b[0mlen\u001b[0m\u001b[1;33m(\u001b[0m\u001b[0mdf\u001b[0m\u001b[1;33m[\u001b[0m\u001b[1;34m\"시장유형구분코드\"\u001b[0m\u001b[1;33m]\u001b[0m\u001b[1;33m.\u001b[0m\u001b[0munique\u001b[0m\u001b[1;33m(\u001b[0m\u001b[1;33m)\u001b[0m\u001b[1;33m)\u001b[0m\u001b[1;33m\u001b[0m\u001b[1;33m\u001b[0m\u001b[0m\n\u001b[0m",
      "\u001b[1;32m~\\anaconda3\\lib\\site-packages\\pandas\\core\\frame.py\u001b[0m in \u001b[0;36m__getitem__\u001b[1;34m(self, key)\u001b[0m\n\u001b[0;32m   3456\u001b[0m             \u001b[1;32mif\u001b[0m \u001b[0mself\u001b[0m\u001b[1;33m.\u001b[0m\u001b[0mcolumns\u001b[0m\u001b[1;33m.\u001b[0m\u001b[0mnlevels\u001b[0m \u001b[1;33m>\u001b[0m \u001b[1;36m1\u001b[0m\u001b[1;33m:\u001b[0m\u001b[1;33m\u001b[0m\u001b[1;33m\u001b[0m\u001b[0m\n\u001b[0;32m   3457\u001b[0m                 \u001b[1;32mreturn\u001b[0m \u001b[0mself\u001b[0m\u001b[1;33m.\u001b[0m\u001b[0m_getitem_multilevel\u001b[0m\u001b[1;33m(\u001b[0m\u001b[0mkey\u001b[0m\u001b[1;33m)\u001b[0m\u001b[1;33m\u001b[0m\u001b[1;33m\u001b[0m\u001b[0m\n\u001b[1;32m-> 3458\u001b[1;33m             \u001b[0mindexer\u001b[0m \u001b[1;33m=\u001b[0m \u001b[0mself\u001b[0m\u001b[1;33m.\u001b[0m\u001b[0mcolumns\u001b[0m\u001b[1;33m.\u001b[0m\u001b[0mget_loc\u001b[0m\u001b[1;33m(\u001b[0m\u001b[0mkey\u001b[0m\u001b[1;33m)\u001b[0m\u001b[1;33m\u001b[0m\u001b[1;33m\u001b[0m\u001b[0m\n\u001b[0m\u001b[0;32m   3459\u001b[0m             \u001b[1;32mif\u001b[0m \u001b[0mis_integer\u001b[0m\u001b[1;33m(\u001b[0m\u001b[0mindexer\u001b[0m\u001b[1;33m)\u001b[0m\u001b[1;33m:\u001b[0m\u001b[1;33m\u001b[0m\u001b[1;33m\u001b[0m\u001b[0m\n\u001b[0;32m   3460\u001b[0m                 \u001b[0mindexer\u001b[0m \u001b[1;33m=\u001b[0m \u001b[1;33m[\u001b[0m\u001b[0mindexer\u001b[0m\u001b[1;33m]\u001b[0m\u001b[1;33m\u001b[0m\u001b[1;33m\u001b[0m\u001b[0m\n",
      "\u001b[1;32m~\\anaconda3\\lib\\site-packages\\pandas\\core\\indexes\\base.py\u001b[0m in \u001b[0;36mget_loc\u001b[1;34m(self, key, method, tolerance)\u001b[0m\n\u001b[0;32m   3361\u001b[0m                 \u001b[1;32mreturn\u001b[0m \u001b[0mself\u001b[0m\u001b[1;33m.\u001b[0m\u001b[0m_engine\u001b[0m\u001b[1;33m.\u001b[0m\u001b[0mget_loc\u001b[0m\u001b[1;33m(\u001b[0m\u001b[0mcasted_key\u001b[0m\u001b[1;33m)\u001b[0m\u001b[1;33m\u001b[0m\u001b[1;33m\u001b[0m\u001b[0m\n\u001b[0;32m   3362\u001b[0m             \u001b[1;32mexcept\u001b[0m \u001b[0mKeyError\u001b[0m \u001b[1;32mas\u001b[0m \u001b[0merr\u001b[0m\u001b[1;33m:\u001b[0m\u001b[1;33m\u001b[0m\u001b[1;33m\u001b[0m\u001b[0m\n\u001b[1;32m-> 3363\u001b[1;33m                 \u001b[1;32mraise\u001b[0m \u001b[0mKeyError\u001b[0m\u001b[1;33m(\u001b[0m\u001b[0mkey\u001b[0m\u001b[1;33m)\u001b[0m \u001b[1;32mfrom\u001b[0m \u001b[0merr\u001b[0m\u001b[1;33m\u001b[0m\u001b[1;33m\u001b[0m\u001b[0m\n\u001b[0m\u001b[0;32m   3364\u001b[0m \u001b[1;33m\u001b[0m\u001b[0m\n\u001b[0;32m   3365\u001b[0m         \u001b[1;32mif\u001b[0m \u001b[0mis_scalar\u001b[0m\u001b[1;33m(\u001b[0m\u001b[0mkey\u001b[0m\u001b[1;33m)\u001b[0m \u001b[1;32mand\u001b[0m \u001b[0misna\u001b[0m\u001b[1;33m(\u001b[0m\u001b[0mkey\u001b[0m\u001b[1;33m)\u001b[0m \u001b[1;32mand\u001b[0m \u001b[1;32mnot\u001b[0m \u001b[0mself\u001b[0m\u001b[1;33m.\u001b[0m\u001b[0mhasnans\u001b[0m\u001b[1;33m:\u001b[0m\u001b[1;33m\u001b[0m\u001b[1;33m\u001b[0m\u001b[0m\n",
      "\u001b[1;31mKeyError\u001b[0m: '시장유형구분코드'"
     ]
    }
   ],
   "source": [
    "df[\"시장유형구분코드\"].unique(), len(df[\"시장유형구분코드\"].unique())"
   ]
  },
  {
   "cell_type": "code",
   "execution_count": 43,
   "id": "bcbc5a73",
   "metadata": {},
   "outputs": [
    {
     "ename": "KeyError",
     "evalue": "'시장유형구분이름'",
     "output_type": "error",
     "traceback": [
      "\u001b[1;31m---------------------------------------------------------------------------\u001b[0m",
      "\u001b[1;31mKeyError\u001b[0m                                  Traceback (most recent call last)",
      "\u001b[1;32m~\\anaconda3\\lib\\site-packages\\pandas\\core\\indexes\\base.py\u001b[0m in \u001b[0;36mget_loc\u001b[1;34m(self, key, method, tolerance)\u001b[0m\n\u001b[0;32m   3360\u001b[0m             \u001b[1;32mtry\u001b[0m\u001b[1;33m:\u001b[0m\u001b[1;33m\u001b[0m\u001b[1;33m\u001b[0m\u001b[0m\n\u001b[1;32m-> 3361\u001b[1;33m                 \u001b[1;32mreturn\u001b[0m \u001b[0mself\u001b[0m\u001b[1;33m.\u001b[0m\u001b[0m_engine\u001b[0m\u001b[1;33m.\u001b[0m\u001b[0mget_loc\u001b[0m\u001b[1;33m(\u001b[0m\u001b[0mcasted_key\u001b[0m\u001b[1;33m)\u001b[0m\u001b[1;33m\u001b[0m\u001b[1;33m\u001b[0m\u001b[0m\n\u001b[0m\u001b[0;32m   3362\u001b[0m             \u001b[1;32mexcept\u001b[0m \u001b[0mKeyError\u001b[0m \u001b[1;32mas\u001b[0m \u001b[0merr\u001b[0m\u001b[1;33m:\u001b[0m\u001b[1;33m\u001b[0m\u001b[1;33m\u001b[0m\u001b[0m\n",
      "\u001b[1;32m~\\anaconda3\\lib\\site-packages\\pandas\\_libs\\index.pyx\u001b[0m in \u001b[0;36mpandas._libs.index.IndexEngine.get_loc\u001b[1;34m()\u001b[0m\n",
      "\u001b[1;32m~\\anaconda3\\lib\\site-packages\\pandas\\_libs\\index.pyx\u001b[0m in \u001b[0;36mpandas._libs.index.IndexEngine.get_loc\u001b[1;34m()\u001b[0m\n",
      "\u001b[1;32mpandas\\_libs\\hashtable_class_helper.pxi\u001b[0m in \u001b[0;36mpandas._libs.hashtable.PyObjectHashTable.get_item\u001b[1;34m()\u001b[0m\n",
      "\u001b[1;32mpandas\\_libs\\hashtable_class_helper.pxi\u001b[0m in \u001b[0;36mpandas._libs.hashtable.PyObjectHashTable.get_item\u001b[1;34m()\u001b[0m\n",
      "\u001b[1;31mKeyError\u001b[0m: '시장유형구분이름'",
      "\nThe above exception was the direct cause of the following exception:\n",
      "\u001b[1;31mKeyError\u001b[0m                                  Traceback (most recent call last)",
      "\u001b[1;32m~\\AppData\\Local\\Temp/ipykernel_6360/210401355.py\u001b[0m in \u001b[0;36m<module>\u001b[1;34m\u001b[0m\n\u001b[1;32m----> 1\u001b[1;33m \u001b[0mdf\u001b[0m\u001b[1;33m[\u001b[0m\u001b[1;34m\"시장유형구분이름\"\u001b[0m\u001b[1;33m]\u001b[0m\u001b[1;33m.\u001b[0m\u001b[0munique\u001b[0m\u001b[1;33m(\u001b[0m\u001b[1;33m)\u001b[0m\u001b[1;33m,\u001b[0m \u001b[0mlen\u001b[0m\u001b[1;33m(\u001b[0m\u001b[0mdf\u001b[0m\u001b[1;33m[\u001b[0m\u001b[1;34m\"시장유형구분이름\"\u001b[0m\u001b[1;33m]\u001b[0m\u001b[1;33m.\u001b[0m\u001b[0munique\u001b[0m\u001b[1;33m(\u001b[0m\u001b[1;33m)\u001b[0m\u001b[1;33m)\u001b[0m\u001b[1;33m\u001b[0m\u001b[1;33m\u001b[0m\u001b[0m\n\u001b[0m",
      "\u001b[1;32m~\\anaconda3\\lib\\site-packages\\pandas\\core\\frame.py\u001b[0m in \u001b[0;36m__getitem__\u001b[1;34m(self, key)\u001b[0m\n\u001b[0;32m   3456\u001b[0m             \u001b[1;32mif\u001b[0m \u001b[0mself\u001b[0m\u001b[1;33m.\u001b[0m\u001b[0mcolumns\u001b[0m\u001b[1;33m.\u001b[0m\u001b[0mnlevels\u001b[0m \u001b[1;33m>\u001b[0m \u001b[1;36m1\u001b[0m\u001b[1;33m:\u001b[0m\u001b[1;33m\u001b[0m\u001b[1;33m\u001b[0m\u001b[0m\n\u001b[0;32m   3457\u001b[0m                 \u001b[1;32mreturn\u001b[0m \u001b[0mself\u001b[0m\u001b[1;33m.\u001b[0m\u001b[0m_getitem_multilevel\u001b[0m\u001b[1;33m(\u001b[0m\u001b[0mkey\u001b[0m\u001b[1;33m)\u001b[0m\u001b[1;33m\u001b[0m\u001b[1;33m\u001b[0m\u001b[0m\n\u001b[1;32m-> 3458\u001b[1;33m             \u001b[0mindexer\u001b[0m \u001b[1;33m=\u001b[0m \u001b[0mself\u001b[0m\u001b[1;33m.\u001b[0m\u001b[0mcolumns\u001b[0m\u001b[1;33m.\u001b[0m\u001b[0mget_loc\u001b[0m\u001b[1;33m(\u001b[0m\u001b[0mkey\u001b[0m\u001b[1;33m)\u001b[0m\u001b[1;33m\u001b[0m\u001b[1;33m\u001b[0m\u001b[0m\n\u001b[0m\u001b[0;32m   3459\u001b[0m             \u001b[1;32mif\u001b[0m \u001b[0mis_integer\u001b[0m\u001b[1;33m(\u001b[0m\u001b[0mindexer\u001b[0m\u001b[1;33m)\u001b[0m\u001b[1;33m:\u001b[0m\u001b[1;33m\u001b[0m\u001b[1;33m\u001b[0m\u001b[0m\n\u001b[0;32m   3460\u001b[0m                 \u001b[0mindexer\u001b[0m \u001b[1;33m=\u001b[0m \u001b[1;33m[\u001b[0m\u001b[0mindexer\u001b[0m\u001b[1;33m]\u001b[0m\u001b[1;33m\u001b[0m\u001b[1;33m\u001b[0m\u001b[0m\n",
      "\u001b[1;32m~\\anaconda3\\lib\\site-packages\\pandas\\core\\indexes\\base.py\u001b[0m in \u001b[0;36mget_loc\u001b[1;34m(self, key, method, tolerance)\u001b[0m\n\u001b[0;32m   3361\u001b[0m                 \u001b[1;32mreturn\u001b[0m \u001b[0mself\u001b[0m\u001b[1;33m.\u001b[0m\u001b[0m_engine\u001b[0m\u001b[1;33m.\u001b[0m\u001b[0mget_loc\u001b[0m\u001b[1;33m(\u001b[0m\u001b[0mcasted_key\u001b[0m\u001b[1;33m)\u001b[0m\u001b[1;33m\u001b[0m\u001b[1;33m\u001b[0m\u001b[0m\n\u001b[0;32m   3362\u001b[0m             \u001b[1;32mexcept\u001b[0m \u001b[0mKeyError\u001b[0m \u001b[1;32mas\u001b[0m \u001b[0merr\u001b[0m\u001b[1;33m:\u001b[0m\u001b[1;33m\u001b[0m\u001b[1;33m\u001b[0m\u001b[0m\n\u001b[1;32m-> 3363\u001b[1;33m                 \u001b[1;32mraise\u001b[0m \u001b[0mKeyError\u001b[0m\u001b[1;33m(\u001b[0m\u001b[0mkey\u001b[0m\u001b[1;33m)\u001b[0m \u001b[1;32mfrom\u001b[0m \u001b[0merr\u001b[0m\u001b[1;33m\u001b[0m\u001b[1;33m\u001b[0m\u001b[0m\n\u001b[0m\u001b[0;32m   3364\u001b[0m \u001b[1;33m\u001b[0m\u001b[0m\n\u001b[0;32m   3365\u001b[0m         \u001b[1;32mif\u001b[0m \u001b[0mis_scalar\u001b[0m\u001b[1;33m(\u001b[0m\u001b[0mkey\u001b[0m\u001b[1;33m)\u001b[0m \u001b[1;32mand\u001b[0m \u001b[0misna\u001b[0m\u001b[1;33m(\u001b[0m\u001b[0mkey\u001b[0m\u001b[1;33m)\u001b[0m \u001b[1;32mand\u001b[0m \u001b[1;32mnot\u001b[0m \u001b[0mself\u001b[0m\u001b[1;33m.\u001b[0m\u001b[0mhasnans\u001b[0m\u001b[1;33m:\u001b[0m\u001b[1;33m\u001b[0m\u001b[1;33m\u001b[0m\u001b[0m\n",
      "\u001b[1;31mKeyError\u001b[0m: '시장유형구분이름'"
     ]
    }
   ],
   "source": [
    "df[\"시장유형구분이름\"].unique(), len(df[\"시장유형구분이름\"].unique())"
   ]
  },
  {
   "cell_type": "code",
   "execution_count": 44,
   "id": "771585bd",
   "metadata": {},
   "outputs": [
    {
     "ename": "KeyError",
     "evalue": "'자치구코드'",
     "output_type": "error",
     "traceback": [
      "\u001b[1;31m---------------------------------------------------------------------------\u001b[0m",
      "\u001b[1;31mKeyError\u001b[0m                                  Traceback (most recent call last)",
      "\u001b[1;32m~\\anaconda3\\lib\\site-packages\\pandas\\core\\indexes\\base.py\u001b[0m in \u001b[0;36mget_loc\u001b[1;34m(self, key, method, tolerance)\u001b[0m\n\u001b[0;32m   3360\u001b[0m             \u001b[1;32mtry\u001b[0m\u001b[1;33m:\u001b[0m\u001b[1;33m\u001b[0m\u001b[1;33m\u001b[0m\u001b[0m\n\u001b[1;32m-> 3361\u001b[1;33m                 \u001b[1;32mreturn\u001b[0m \u001b[0mself\u001b[0m\u001b[1;33m.\u001b[0m\u001b[0m_engine\u001b[0m\u001b[1;33m.\u001b[0m\u001b[0mget_loc\u001b[0m\u001b[1;33m(\u001b[0m\u001b[0mcasted_key\u001b[0m\u001b[1;33m)\u001b[0m\u001b[1;33m\u001b[0m\u001b[1;33m\u001b[0m\u001b[0m\n\u001b[0m\u001b[0;32m   3362\u001b[0m             \u001b[1;32mexcept\u001b[0m \u001b[0mKeyError\u001b[0m \u001b[1;32mas\u001b[0m \u001b[0merr\u001b[0m\u001b[1;33m:\u001b[0m\u001b[1;33m\u001b[0m\u001b[1;33m\u001b[0m\u001b[0m\n",
      "\u001b[1;32m~\\anaconda3\\lib\\site-packages\\pandas\\_libs\\index.pyx\u001b[0m in \u001b[0;36mpandas._libs.index.IndexEngine.get_loc\u001b[1;34m()\u001b[0m\n",
      "\u001b[1;32m~\\anaconda3\\lib\\site-packages\\pandas\\_libs\\index.pyx\u001b[0m in \u001b[0;36mpandas._libs.index.IndexEngine.get_loc\u001b[1;34m()\u001b[0m\n",
      "\u001b[1;32mpandas\\_libs\\hashtable_class_helper.pxi\u001b[0m in \u001b[0;36mpandas._libs.hashtable.PyObjectHashTable.get_item\u001b[1;34m()\u001b[0m\n",
      "\u001b[1;32mpandas\\_libs\\hashtable_class_helper.pxi\u001b[0m in \u001b[0;36mpandas._libs.hashtable.PyObjectHashTable.get_item\u001b[1;34m()\u001b[0m\n",
      "\u001b[1;31mKeyError\u001b[0m: '자치구코드'",
      "\nThe above exception was the direct cause of the following exception:\n",
      "\u001b[1;31mKeyError\u001b[0m                                  Traceback (most recent call last)",
      "\u001b[1;32m~\\AppData\\Local\\Temp/ipykernel_6360/1135595359.py\u001b[0m in \u001b[0;36m<module>\u001b[1;34m\u001b[0m\n\u001b[1;32m----> 1\u001b[1;33m \u001b[0mdf\u001b[0m\u001b[1;33m[\u001b[0m\u001b[1;34m\"자치구코드\"\u001b[0m\u001b[1;33m]\u001b[0m\u001b[1;33m.\u001b[0m\u001b[0munique\u001b[0m\u001b[1;33m(\u001b[0m\u001b[1;33m)\u001b[0m\u001b[1;33m,\u001b[0m \u001b[0mlen\u001b[0m\u001b[1;33m(\u001b[0m\u001b[0mdf\u001b[0m\u001b[1;33m[\u001b[0m\u001b[1;34m\"자치구코드\"\u001b[0m\u001b[1;33m]\u001b[0m\u001b[1;33m.\u001b[0m\u001b[0munique\u001b[0m\u001b[1;33m(\u001b[0m\u001b[1;33m)\u001b[0m\u001b[1;33m)\u001b[0m\u001b[1;33m\u001b[0m\u001b[1;33m\u001b[0m\u001b[0m\n\u001b[0m",
      "\u001b[1;32m~\\anaconda3\\lib\\site-packages\\pandas\\core\\frame.py\u001b[0m in \u001b[0;36m__getitem__\u001b[1;34m(self, key)\u001b[0m\n\u001b[0;32m   3456\u001b[0m             \u001b[1;32mif\u001b[0m \u001b[0mself\u001b[0m\u001b[1;33m.\u001b[0m\u001b[0mcolumns\u001b[0m\u001b[1;33m.\u001b[0m\u001b[0mnlevels\u001b[0m \u001b[1;33m>\u001b[0m \u001b[1;36m1\u001b[0m\u001b[1;33m:\u001b[0m\u001b[1;33m\u001b[0m\u001b[1;33m\u001b[0m\u001b[0m\n\u001b[0;32m   3457\u001b[0m                 \u001b[1;32mreturn\u001b[0m \u001b[0mself\u001b[0m\u001b[1;33m.\u001b[0m\u001b[0m_getitem_multilevel\u001b[0m\u001b[1;33m(\u001b[0m\u001b[0mkey\u001b[0m\u001b[1;33m)\u001b[0m\u001b[1;33m\u001b[0m\u001b[1;33m\u001b[0m\u001b[0m\n\u001b[1;32m-> 3458\u001b[1;33m             \u001b[0mindexer\u001b[0m \u001b[1;33m=\u001b[0m \u001b[0mself\u001b[0m\u001b[1;33m.\u001b[0m\u001b[0mcolumns\u001b[0m\u001b[1;33m.\u001b[0m\u001b[0mget_loc\u001b[0m\u001b[1;33m(\u001b[0m\u001b[0mkey\u001b[0m\u001b[1;33m)\u001b[0m\u001b[1;33m\u001b[0m\u001b[1;33m\u001b[0m\u001b[0m\n\u001b[0m\u001b[0;32m   3459\u001b[0m             \u001b[1;32mif\u001b[0m \u001b[0mis_integer\u001b[0m\u001b[1;33m(\u001b[0m\u001b[0mindexer\u001b[0m\u001b[1;33m)\u001b[0m\u001b[1;33m:\u001b[0m\u001b[1;33m\u001b[0m\u001b[1;33m\u001b[0m\u001b[0m\n\u001b[0;32m   3460\u001b[0m                 \u001b[0mindexer\u001b[0m \u001b[1;33m=\u001b[0m \u001b[1;33m[\u001b[0m\u001b[0mindexer\u001b[0m\u001b[1;33m]\u001b[0m\u001b[1;33m\u001b[0m\u001b[1;33m\u001b[0m\u001b[0m\n",
      "\u001b[1;32m~\\anaconda3\\lib\\site-packages\\pandas\\core\\indexes\\base.py\u001b[0m in \u001b[0;36mget_loc\u001b[1;34m(self, key, method, tolerance)\u001b[0m\n\u001b[0;32m   3361\u001b[0m                 \u001b[1;32mreturn\u001b[0m \u001b[0mself\u001b[0m\u001b[1;33m.\u001b[0m\u001b[0m_engine\u001b[0m\u001b[1;33m.\u001b[0m\u001b[0mget_loc\u001b[0m\u001b[1;33m(\u001b[0m\u001b[0mcasted_key\u001b[0m\u001b[1;33m)\u001b[0m\u001b[1;33m\u001b[0m\u001b[1;33m\u001b[0m\u001b[0m\n\u001b[0;32m   3362\u001b[0m             \u001b[1;32mexcept\u001b[0m \u001b[0mKeyError\u001b[0m \u001b[1;32mas\u001b[0m \u001b[0merr\u001b[0m\u001b[1;33m:\u001b[0m\u001b[1;33m\u001b[0m\u001b[1;33m\u001b[0m\u001b[0m\n\u001b[1;32m-> 3363\u001b[1;33m                 \u001b[1;32mraise\u001b[0m \u001b[0mKeyError\u001b[0m\u001b[1;33m(\u001b[0m\u001b[0mkey\u001b[0m\u001b[1;33m)\u001b[0m \u001b[1;32mfrom\u001b[0m \u001b[0merr\u001b[0m\u001b[1;33m\u001b[0m\u001b[1;33m\u001b[0m\u001b[0m\n\u001b[0m\u001b[0;32m   3364\u001b[0m \u001b[1;33m\u001b[0m\u001b[0m\n\u001b[0;32m   3365\u001b[0m         \u001b[1;32mif\u001b[0m \u001b[0mis_scalar\u001b[0m\u001b[1;33m(\u001b[0m\u001b[0mkey\u001b[0m\u001b[1;33m)\u001b[0m \u001b[1;32mand\u001b[0m \u001b[0misna\u001b[0m\u001b[1;33m(\u001b[0m\u001b[0mkey\u001b[0m\u001b[1;33m)\u001b[0m \u001b[1;32mand\u001b[0m \u001b[1;32mnot\u001b[0m \u001b[0mself\u001b[0m\u001b[1;33m.\u001b[0m\u001b[0mhasnans\u001b[0m\u001b[1;33m:\u001b[0m\u001b[1;33m\u001b[0m\u001b[1;33m\u001b[0m\u001b[0m\n",
      "\u001b[1;31mKeyError\u001b[0m: '자치구코드'"
     ]
    }
   ],
   "source": [
    "df[\"자치구코드\"].unique(), len(df[\"자치구코드\"].unique())"
   ]
  },
  {
   "cell_type": "code",
   "execution_count": 45,
   "id": "0750b7f6",
   "metadata": {},
   "outputs": [
    {
     "ename": "KeyError",
     "evalue": "'자치구이름'",
     "output_type": "error",
     "traceback": [
      "\u001b[1;31m---------------------------------------------------------------------------\u001b[0m",
      "\u001b[1;31mKeyError\u001b[0m                                  Traceback (most recent call last)",
      "\u001b[1;32m~\\anaconda3\\lib\\site-packages\\pandas\\core\\indexes\\base.py\u001b[0m in \u001b[0;36mget_loc\u001b[1;34m(self, key, method, tolerance)\u001b[0m\n\u001b[0;32m   3360\u001b[0m             \u001b[1;32mtry\u001b[0m\u001b[1;33m:\u001b[0m\u001b[1;33m\u001b[0m\u001b[1;33m\u001b[0m\u001b[0m\n\u001b[1;32m-> 3361\u001b[1;33m                 \u001b[1;32mreturn\u001b[0m \u001b[0mself\u001b[0m\u001b[1;33m.\u001b[0m\u001b[0m_engine\u001b[0m\u001b[1;33m.\u001b[0m\u001b[0mget_loc\u001b[0m\u001b[1;33m(\u001b[0m\u001b[0mcasted_key\u001b[0m\u001b[1;33m)\u001b[0m\u001b[1;33m\u001b[0m\u001b[1;33m\u001b[0m\u001b[0m\n\u001b[0m\u001b[0;32m   3362\u001b[0m             \u001b[1;32mexcept\u001b[0m \u001b[0mKeyError\u001b[0m \u001b[1;32mas\u001b[0m \u001b[0merr\u001b[0m\u001b[1;33m:\u001b[0m\u001b[1;33m\u001b[0m\u001b[1;33m\u001b[0m\u001b[0m\n",
      "\u001b[1;32m~\\anaconda3\\lib\\site-packages\\pandas\\_libs\\index.pyx\u001b[0m in \u001b[0;36mpandas._libs.index.IndexEngine.get_loc\u001b[1;34m()\u001b[0m\n",
      "\u001b[1;32m~\\anaconda3\\lib\\site-packages\\pandas\\_libs\\index.pyx\u001b[0m in \u001b[0;36mpandas._libs.index.IndexEngine.get_loc\u001b[1;34m()\u001b[0m\n",
      "\u001b[1;32mpandas\\_libs\\hashtable_class_helper.pxi\u001b[0m in \u001b[0;36mpandas._libs.hashtable.PyObjectHashTable.get_item\u001b[1;34m()\u001b[0m\n",
      "\u001b[1;32mpandas\\_libs\\hashtable_class_helper.pxi\u001b[0m in \u001b[0;36mpandas._libs.hashtable.PyObjectHashTable.get_item\u001b[1;34m()\u001b[0m\n",
      "\u001b[1;31mKeyError\u001b[0m: '자치구이름'",
      "\nThe above exception was the direct cause of the following exception:\n",
      "\u001b[1;31mKeyError\u001b[0m                                  Traceback (most recent call last)",
      "\u001b[1;32m~\\AppData\\Local\\Temp/ipykernel_6360/1438460307.py\u001b[0m in \u001b[0;36m<module>\u001b[1;34m\u001b[0m\n\u001b[1;32m----> 1\u001b[1;33m \u001b[0mdf\u001b[0m\u001b[1;33m[\u001b[0m\u001b[1;34m\"자치구이름\"\u001b[0m\u001b[1;33m]\u001b[0m\u001b[1;33m.\u001b[0m\u001b[0munique\u001b[0m\u001b[1;33m(\u001b[0m\u001b[1;33m)\u001b[0m\u001b[1;33m,\u001b[0m \u001b[0mlen\u001b[0m\u001b[1;33m(\u001b[0m\u001b[0mdf\u001b[0m\u001b[1;33m[\u001b[0m\u001b[1;34m\"자치구이름\"\u001b[0m\u001b[1;33m]\u001b[0m\u001b[1;33m.\u001b[0m\u001b[0munique\u001b[0m\u001b[1;33m(\u001b[0m\u001b[1;33m)\u001b[0m\u001b[1;33m)\u001b[0m\u001b[1;33m\u001b[0m\u001b[1;33m\u001b[0m\u001b[0m\n\u001b[0m",
      "\u001b[1;32m~\\anaconda3\\lib\\site-packages\\pandas\\core\\frame.py\u001b[0m in \u001b[0;36m__getitem__\u001b[1;34m(self, key)\u001b[0m\n\u001b[0;32m   3456\u001b[0m             \u001b[1;32mif\u001b[0m \u001b[0mself\u001b[0m\u001b[1;33m.\u001b[0m\u001b[0mcolumns\u001b[0m\u001b[1;33m.\u001b[0m\u001b[0mnlevels\u001b[0m \u001b[1;33m>\u001b[0m \u001b[1;36m1\u001b[0m\u001b[1;33m:\u001b[0m\u001b[1;33m\u001b[0m\u001b[1;33m\u001b[0m\u001b[0m\n\u001b[0;32m   3457\u001b[0m                 \u001b[1;32mreturn\u001b[0m \u001b[0mself\u001b[0m\u001b[1;33m.\u001b[0m\u001b[0m_getitem_multilevel\u001b[0m\u001b[1;33m(\u001b[0m\u001b[0mkey\u001b[0m\u001b[1;33m)\u001b[0m\u001b[1;33m\u001b[0m\u001b[1;33m\u001b[0m\u001b[0m\n\u001b[1;32m-> 3458\u001b[1;33m             \u001b[0mindexer\u001b[0m \u001b[1;33m=\u001b[0m \u001b[0mself\u001b[0m\u001b[1;33m.\u001b[0m\u001b[0mcolumns\u001b[0m\u001b[1;33m.\u001b[0m\u001b[0mget_loc\u001b[0m\u001b[1;33m(\u001b[0m\u001b[0mkey\u001b[0m\u001b[1;33m)\u001b[0m\u001b[1;33m\u001b[0m\u001b[1;33m\u001b[0m\u001b[0m\n\u001b[0m\u001b[0;32m   3459\u001b[0m             \u001b[1;32mif\u001b[0m \u001b[0mis_integer\u001b[0m\u001b[1;33m(\u001b[0m\u001b[0mindexer\u001b[0m\u001b[1;33m)\u001b[0m\u001b[1;33m:\u001b[0m\u001b[1;33m\u001b[0m\u001b[1;33m\u001b[0m\u001b[0m\n\u001b[0;32m   3460\u001b[0m                 \u001b[0mindexer\u001b[0m \u001b[1;33m=\u001b[0m \u001b[1;33m[\u001b[0m\u001b[0mindexer\u001b[0m\u001b[1;33m]\u001b[0m\u001b[1;33m\u001b[0m\u001b[1;33m\u001b[0m\u001b[0m\n",
      "\u001b[1;32m~\\anaconda3\\lib\\site-packages\\pandas\\core\\indexes\\base.py\u001b[0m in \u001b[0;36mget_loc\u001b[1;34m(self, key, method, tolerance)\u001b[0m\n\u001b[0;32m   3361\u001b[0m                 \u001b[1;32mreturn\u001b[0m \u001b[0mself\u001b[0m\u001b[1;33m.\u001b[0m\u001b[0m_engine\u001b[0m\u001b[1;33m.\u001b[0m\u001b[0mget_loc\u001b[0m\u001b[1;33m(\u001b[0m\u001b[0mcasted_key\u001b[0m\u001b[1;33m)\u001b[0m\u001b[1;33m\u001b[0m\u001b[1;33m\u001b[0m\u001b[0m\n\u001b[0;32m   3362\u001b[0m             \u001b[1;32mexcept\u001b[0m \u001b[0mKeyError\u001b[0m \u001b[1;32mas\u001b[0m \u001b[0merr\u001b[0m\u001b[1;33m:\u001b[0m\u001b[1;33m\u001b[0m\u001b[1;33m\u001b[0m\u001b[0m\n\u001b[1;32m-> 3363\u001b[1;33m                 \u001b[1;32mraise\u001b[0m \u001b[0mKeyError\u001b[0m\u001b[1;33m(\u001b[0m\u001b[0mkey\u001b[0m\u001b[1;33m)\u001b[0m \u001b[1;32mfrom\u001b[0m \u001b[0merr\u001b[0m\u001b[1;33m\u001b[0m\u001b[1;33m\u001b[0m\u001b[0m\n\u001b[0m\u001b[0;32m   3364\u001b[0m \u001b[1;33m\u001b[0m\u001b[0m\n\u001b[0;32m   3365\u001b[0m         \u001b[1;32mif\u001b[0m \u001b[0mis_scalar\u001b[0m\u001b[1;33m(\u001b[0m\u001b[0mkey\u001b[0m\u001b[1;33m)\u001b[0m \u001b[1;32mand\u001b[0m \u001b[0misna\u001b[0m\u001b[1;33m(\u001b[0m\u001b[0mkey\u001b[0m\u001b[1;33m)\u001b[0m \u001b[1;32mand\u001b[0m \u001b[1;32mnot\u001b[0m \u001b[0mself\u001b[0m\u001b[1;33m.\u001b[0m\u001b[0mhasnans\u001b[0m\u001b[1;33m:\u001b[0m\u001b[1;33m\u001b[0m\u001b[1;33m\u001b[0m\u001b[0m\n",
      "\u001b[1;31mKeyError\u001b[0m: '자치구이름'"
     ]
    }
   ],
   "source": [
    "df[\"자치구이름\"].unique(), len(df[\"자치구이름\"].unique())"
   ]
  },
  {
   "cell_type": "markdown",
   "id": "5538229a",
   "metadata": {},
   "source": [
    "# 점검일자 Datetime으로 변환"
   ]
  },
  {
   "cell_type": "code",
   "execution_count": 46,
   "id": "d2a74dca",
   "metadata": {},
   "outputs": [
    {
     "data": {
      "text/plain": [
       "0    2021-01-21\n",
       "Name: 점검일자, dtype: object"
      ]
     },
     "execution_count": 46,
     "metadata": {},
     "output_type": "execute_result"
    }
   ],
   "source": [
    "df['점검일자'].head(1)"
   ]
  },
  {
   "cell_type": "code",
   "execution_count": 47,
   "id": "da46850d",
   "metadata": {},
   "outputs": [],
   "source": [
    "df['점검일자'] = pd.to_datetime(df['점검일자']) # convert to datetime"
   ]
  },
  {
   "cell_type": "markdown",
   "id": "34184f4c",
   "metadata": {},
   "source": [
    "* 연도,월,일,요일 컬럼 만들기"
   ]
  },
  {
   "cell_type": "code",
   "execution_count": 48,
   "id": "c6249a8e",
   "metadata": {},
   "outputs": [
    {
     "data": {
      "text/html": [
       "<div>\n",
       "<style scoped>\n",
       "    .dataframe tbody tr th:only-of-type {\n",
       "        vertical-align: middle;\n",
       "    }\n",
       "\n",
       "    .dataframe tbody tr th {\n",
       "        vertical-align: top;\n",
       "    }\n",
       "\n",
       "    .dataframe thead th {\n",
       "        text-align: right;\n",
       "    }\n",
       "</style>\n",
       "<table border=\"1\" class=\"dataframe\">\n",
       "  <thead>\n",
       "    <tr style=\"text-align: right;\">\n",
       "      <th></th>\n",
       "      <th>일련번호</th>\n",
       "      <th>시장/마트 번호</th>\n",
       "      <th>시장/마트 이름</th>\n",
       "      <th>품목 번호</th>\n",
       "      <th>품목 이름</th>\n",
       "      <th>실판매규격</th>\n",
       "      <th>가격(원)</th>\n",
       "      <th>년도-월</th>\n",
       "      <th>비고</th>\n",
       "      <th>시장유형 구분(시장/마트) 코드</th>\n",
       "      <th>시장유형 구분(시장/마트) 이름</th>\n",
       "      <th>자치구 코드</th>\n",
       "      <th>자치구 이름</th>\n",
       "      <th>점검일자</th>\n",
       "      <th>연도</th>\n",
       "    </tr>\n",
       "  </thead>\n",
       "  <tbody>\n",
       "    <tr>\n",
       "      <th>0</th>\n",
       "      <td>1636107</td>\n",
       "      <td>226</td>\n",
       "      <td>롯데마트 구로점</td>\n",
       "      <td>28</td>\n",
       "      <td>사과</td>\n",
       "      <td>1개 (300g)</td>\n",
       "      <td>1598</td>\n",
       "      <td>2021-01</td>\n",
       "      <td>국내산,부사</td>\n",
       "      <td>2</td>\n",
       "      <td>대형마트</td>\n",
       "      <td>530000</td>\n",
       "      <td>구로구</td>\n",
       "      <td>2021-01-21</td>\n",
       "      <td>2021</td>\n",
       "    </tr>\n",
       "  </tbody>\n",
       "</table>\n",
       "</div>"
      ],
      "text/plain": [
       "      일련번호  시장/마트 번호  시장/마트 이름  품목 번호 품목 이름      실판매규격  가격(원)     년도-월  \\\n",
       "0  1636107       226  롯데마트 구로점     28    사과  1개 (300g)   1598  2021-01   \n",
       "\n",
       "       비고  시장유형 구분(시장/마트) 코드 시장유형 구분(시장/마트) 이름  자치구 코드 자치구 이름       점검일자    연도  \n",
       "0  국내산,부사                  2              대형마트  530000    구로구 2021-01-21  2021  "
      ]
     },
     "execution_count": 48,
     "metadata": {},
     "output_type": "execute_result"
    }
   ],
   "source": [
    "df[\"연도\"] = df['점검일자'].dt.year\n",
    "df.head(1)"
   ]
  },
  {
   "cell_type": "code",
   "execution_count": 49,
   "id": "2cdf05b9",
   "metadata": {},
   "outputs": [
    {
     "data": {
      "text/html": [
       "<div>\n",
       "<style scoped>\n",
       "    .dataframe tbody tr th:only-of-type {\n",
       "        vertical-align: middle;\n",
       "    }\n",
       "\n",
       "    .dataframe tbody tr th {\n",
       "        vertical-align: top;\n",
       "    }\n",
       "\n",
       "    .dataframe thead th {\n",
       "        text-align: right;\n",
       "    }\n",
       "</style>\n",
       "<table border=\"1\" class=\"dataframe\">\n",
       "  <thead>\n",
       "    <tr style=\"text-align: right;\">\n",
       "      <th></th>\n",
       "      <th>일련번호</th>\n",
       "      <th>시장/마트 번호</th>\n",
       "      <th>시장/마트 이름</th>\n",
       "      <th>품목 번호</th>\n",
       "      <th>품목 이름</th>\n",
       "      <th>실판매규격</th>\n",
       "      <th>가격(원)</th>\n",
       "      <th>년도-월</th>\n",
       "      <th>비고</th>\n",
       "      <th>시장유형 구분(시장/마트) 코드</th>\n",
       "      <th>시장유형 구분(시장/마트) 이름</th>\n",
       "      <th>자치구 코드</th>\n",
       "      <th>자치구 이름</th>\n",
       "      <th>점검일자</th>\n",
       "      <th>연도</th>\n",
       "      <th>월</th>\n",
       "      <th>일</th>\n",
       "      <th>요일</th>\n",
       "    </tr>\n",
       "  </thead>\n",
       "  <tbody>\n",
       "    <tr>\n",
       "      <th>0</th>\n",
       "      <td>1636107</td>\n",
       "      <td>226</td>\n",
       "      <td>롯데마트 구로점</td>\n",
       "      <td>28</td>\n",
       "      <td>사과</td>\n",
       "      <td>1개 (300g)</td>\n",
       "      <td>1598</td>\n",
       "      <td>2021-01</td>\n",
       "      <td>국내산,부사</td>\n",
       "      <td>2</td>\n",
       "      <td>대형마트</td>\n",
       "      <td>530000</td>\n",
       "      <td>구로구</td>\n",
       "      <td>2021-01-21</td>\n",
       "      <td>2021</td>\n",
       "      <td>1</td>\n",
       "      <td>21</td>\n",
       "      <td>3</td>\n",
       "    </tr>\n",
       "  </tbody>\n",
       "</table>\n",
       "</div>"
      ],
      "text/plain": [
       "      일련번호  시장/마트 번호  시장/마트 이름  품목 번호 품목 이름      실판매규격  가격(원)     년도-월  \\\n",
       "0  1636107       226  롯데마트 구로점     28    사과  1개 (300g)   1598  2021-01   \n",
       "\n",
       "       비고  시장유형 구분(시장/마트) 코드 시장유형 구분(시장/마트) 이름  자치구 코드 자치구 이름       점검일자  \\\n",
       "0  국내산,부사                  2              대형마트  530000    구로구 2021-01-21   \n",
       "\n",
       "     연도  월   일  요일  \n",
       "0  2021  1  21   3  "
      ]
     },
     "execution_count": 49,
     "metadata": {},
     "output_type": "execute_result"
    }
   ],
   "source": [
    "df[\"월\"] = df[\"점검일자\"].dt.month\n",
    "df[\"일\"] = df[\"점검일자\"].dt.day\n",
    "df[\"요일\"] = df[\"점검일자\"].dt.dayofweek\n",
    "df.head(1)"
   ]
  },
  {
   "cell_type": "markdown",
   "id": "def1e26e",
   "metadata": {},
   "source": [
    "* 연도월 컬럼 만들기"
   ]
  },
  {
   "cell_type": "code",
   "execution_count": 50,
   "id": "caae234b",
   "metadata": {},
   "outputs": [
    {
     "data": {
      "text/html": [
       "<div>\n",
       "<style scoped>\n",
       "    .dataframe tbody tr th:only-of-type {\n",
       "        vertical-align: middle;\n",
       "    }\n",
       "\n",
       "    .dataframe tbody tr th {\n",
       "        vertical-align: top;\n",
       "    }\n",
       "\n",
       "    .dataframe thead th {\n",
       "        text-align: right;\n",
       "    }\n",
       "</style>\n",
       "<table border=\"1\" class=\"dataframe\">\n",
       "  <thead>\n",
       "    <tr style=\"text-align: right;\">\n",
       "      <th></th>\n",
       "      <th>일련번호</th>\n",
       "      <th>시장/마트 번호</th>\n",
       "      <th>시장/마트 이름</th>\n",
       "      <th>품목 번호</th>\n",
       "      <th>품목 이름</th>\n",
       "      <th>실판매규격</th>\n",
       "      <th>가격(원)</th>\n",
       "      <th>년도-월</th>\n",
       "      <th>비고</th>\n",
       "      <th>시장유형 구분(시장/마트) 코드</th>\n",
       "      <th>시장유형 구분(시장/마트) 이름</th>\n",
       "      <th>자치구 코드</th>\n",
       "      <th>자치구 이름</th>\n",
       "      <th>점검일자</th>\n",
       "      <th>연도</th>\n",
       "      <th>월</th>\n",
       "      <th>일</th>\n",
       "      <th>요일</th>\n",
       "      <th>연도월</th>\n",
       "    </tr>\n",
       "  </thead>\n",
       "  <tbody>\n",
       "    <tr>\n",
       "      <th>0</th>\n",
       "      <td>1636107</td>\n",
       "      <td>226</td>\n",
       "      <td>롯데마트 구로점</td>\n",
       "      <td>28</td>\n",
       "      <td>사과</td>\n",
       "      <td>1개 (300g)</td>\n",
       "      <td>1598</td>\n",
       "      <td>2021-01</td>\n",
       "      <td>국내산,부사</td>\n",
       "      <td>2</td>\n",
       "      <td>대형마트</td>\n",
       "      <td>530000</td>\n",
       "      <td>구로구</td>\n",
       "      <td>2021-01-21</td>\n",
       "      <td>2021</td>\n",
       "      <td>1</td>\n",
       "      <td>21</td>\n",
       "      <td>3</td>\n",
       "      <td>2021-01</td>\n",
       "    </tr>\n",
       "    <tr>\n",
       "      <th>1</th>\n",
       "      <td>1636108</td>\n",
       "      <td>226</td>\n",
       "      <td>롯데마트 구로점</td>\n",
       "      <td>27</td>\n",
       "      <td>배</td>\n",
       "      <td>1개 (600g)</td>\n",
       "      <td>1590</td>\n",
       "      <td>2021-01</td>\n",
       "      <td>국내산,신고</td>\n",
       "      <td>2</td>\n",
       "      <td>대형마트</td>\n",
       "      <td>530000</td>\n",
       "      <td>구로구</td>\n",
       "      <td>2021-01-21</td>\n",
       "      <td>2021</td>\n",
       "      <td>1</td>\n",
       "      <td>21</td>\n",
       "      <td>3</td>\n",
       "      <td>2021-01</td>\n",
       "    </tr>\n",
       "    <tr>\n",
       "      <th>2</th>\n",
       "      <td>1636109</td>\n",
       "      <td>226</td>\n",
       "      <td>롯데마트 구로점</td>\n",
       "      <td>26</td>\n",
       "      <td>배추</td>\n",
       "      <td>1포기(2kg)</td>\n",
       "      <td>3990</td>\n",
       "      <td>2021-01</td>\n",
       "      <td>국내산</td>\n",
       "      <td>2</td>\n",
       "      <td>대형마트</td>\n",
       "      <td>530000</td>\n",
       "      <td>구로구</td>\n",
       "      <td>2021-01-21</td>\n",
       "      <td>2021</td>\n",
       "      <td>1</td>\n",
       "      <td>21</td>\n",
       "      <td>3</td>\n",
       "      <td>2021-01</td>\n",
       "    </tr>\n",
       "    <tr>\n",
       "      <th>3</th>\n",
       "      <td>1636110</td>\n",
       "      <td>226</td>\n",
       "      <td>롯데마트 구로점</td>\n",
       "      <td>25</td>\n",
       "      <td>무</td>\n",
       "      <td>1개 (900g)</td>\n",
       "      <td>1990</td>\n",
       "      <td>2021-01</td>\n",
       "      <td>국내산</td>\n",
       "      <td>2</td>\n",
       "      <td>대형마트</td>\n",
       "      <td>530000</td>\n",
       "      <td>구로구</td>\n",
       "      <td>2021-01-21</td>\n",
       "      <td>2021</td>\n",
       "      <td>1</td>\n",
       "      <td>21</td>\n",
       "      <td>3</td>\n",
       "      <td>2021-01</td>\n",
       "    </tr>\n",
       "    <tr>\n",
       "      <th>4</th>\n",
       "      <td>1636111</td>\n",
       "      <td>226</td>\n",
       "      <td>롯데마트 구로점</td>\n",
       "      <td>24</td>\n",
       "      <td>양파</td>\n",
       "      <td>1개 (200g)</td>\n",
       "      <td>990</td>\n",
       "      <td>2021-01</td>\n",
       "      <td>국내산</td>\n",
       "      <td>2</td>\n",
       "      <td>대형마트</td>\n",
       "      <td>530000</td>\n",
       "      <td>구로구</td>\n",
       "      <td>2021-01-21</td>\n",
       "      <td>2021</td>\n",
       "      <td>1</td>\n",
       "      <td>21</td>\n",
       "      <td>3</td>\n",
       "      <td>2021-01</td>\n",
       "    </tr>\n",
       "    <tr>\n",
       "      <th>...</th>\n",
       "      <td>...</td>\n",
       "      <td>...</td>\n",
       "      <td>...</td>\n",
       "      <td>...</td>\n",
       "      <td>...</td>\n",
       "      <td>...</td>\n",
       "      <td>...</td>\n",
       "      <td>...</td>\n",
       "      <td>...</td>\n",
       "      <td>...</td>\n",
       "      <td>...</td>\n",
       "      <td>...</td>\n",
       "      <td>...</td>\n",
       "      <td>...</td>\n",
       "      <td>...</td>\n",
       "      <td>...</td>\n",
       "      <td>...</td>\n",
       "      <td>...</td>\n",
       "      <td>...</td>\n",
       "    </tr>\n",
       "    <tr>\n",
       "      <th>20392</th>\n",
       "      <td>1192245</td>\n",
       "      <td>112</td>\n",
       "      <td>애경백화점</td>\n",
       "      <td>320</td>\n",
       "      <td>달걀(30개)</td>\n",
       "      <td>30개</td>\n",
       "      <td>6900</td>\n",
       "      <td>2018-01</td>\n",
       "      <td>판란</td>\n",
       "      <td>2</td>\n",
       "      <td>대형마트</td>\n",
       "      <td>530000</td>\n",
       "      <td>구로구</td>\n",
       "      <td>2018-01-31</td>\n",
       "      <td>2018</td>\n",
       "      <td>1</td>\n",
       "      <td>31</td>\n",
       "      <td>2</td>\n",
       "      <td>2018-01</td>\n",
       "    </tr>\n",
       "    <tr>\n",
       "      <th>20393</th>\n",
       "      <td>1192246</td>\n",
       "      <td>112</td>\n",
       "      <td>애경백화점</td>\n",
       "      <td>136</td>\n",
       "      <td>조기(국산,생물)</td>\n",
       "      <td>1마리[15cm]</td>\n",
       "      <td>8900</td>\n",
       "      <td>2018-01</td>\n",
       "      <td>국내산 (백조기)</td>\n",
       "      <td>2</td>\n",
       "      <td>대형마트</td>\n",
       "      <td>530000</td>\n",
       "      <td>구로구</td>\n",
       "      <td>2018-01-31</td>\n",
       "      <td>2018</td>\n",
       "      <td>1</td>\n",
       "      <td>31</td>\n",
       "      <td>2</td>\n",
       "      <td>2018-01</td>\n",
       "    </tr>\n",
       "    <tr>\n",
       "      <th>20394</th>\n",
       "      <td>1192247</td>\n",
       "      <td>112</td>\n",
       "      <td>애경백화점</td>\n",
       "      <td>315</td>\n",
       "      <td>명태(45cm,수입산)</td>\n",
       "      <td>1마리</td>\n",
       "      <td>4900</td>\n",
       "      <td>2018-01</td>\n",
       "      <td>러시아</td>\n",
       "      <td>2</td>\n",
       "      <td>대형마트</td>\n",
       "      <td>530000</td>\n",
       "      <td>구로구</td>\n",
       "      <td>2018-01-31</td>\n",
       "      <td>2018</td>\n",
       "      <td>1</td>\n",
       "      <td>31</td>\n",
       "      <td>2</td>\n",
       "      <td>2018-01</td>\n",
       "    </tr>\n",
       "    <tr>\n",
       "      <th>20395</th>\n",
       "      <td>1192248</td>\n",
       "      <td>112</td>\n",
       "      <td>애경백화점</td>\n",
       "      <td>254</td>\n",
       "      <td>오징어(생물,국산)</td>\n",
       "      <td>1마리[15cm]</td>\n",
       "      <td>7900</td>\n",
       "      <td>2018-01</td>\n",
       "      <td>내용없음</td>\n",
       "      <td>2</td>\n",
       "      <td>대형마트</td>\n",
       "      <td>530000</td>\n",
       "      <td>구로구</td>\n",
       "      <td>2018-01-31</td>\n",
       "      <td>2018</td>\n",
       "      <td>1</td>\n",
       "      <td>31</td>\n",
       "      <td>2</td>\n",
       "      <td>2018-01</td>\n",
       "    </tr>\n",
       "    <tr>\n",
       "      <th>20396</th>\n",
       "      <td>1192249</td>\n",
       "      <td>112</td>\n",
       "      <td>애경백화점</td>\n",
       "      <td>266</td>\n",
       "      <td>고등어(생물,국산)</td>\n",
       "      <td>1마리[20cm]</td>\n",
       "      <td>13900</td>\n",
       "      <td>2018-01</td>\n",
       "      <td>부산</td>\n",
       "      <td>2</td>\n",
       "      <td>대형마트</td>\n",
       "      <td>530000</td>\n",
       "      <td>구로구</td>\n",
       "      <td>2018-01-31</td>\n",
       "      <td>2018</td>\n",
       "      <td>1</td>\n",
       "      <td>31</td>\n",
       "      <td>2</td>\n",
       "      <td>2018-01</td>\n",
       "    </tr>\n",
       "  </tbody>\n",
       "</table>\n",
       "<p>341240 rows × 19 columns</p>\n",
       "</div>"
      ],
      "text/plain": [
       "          일련번호  시장/마트 번호  시장/마트 이름  품목 번호         품목 이름      실판매규격  가격(원)  \\\n",
       "0      1636107       226  롯데마트 구로점     28            사과  1개 (300g)   1598   \n",
       "1      1636108       226  롯데마트 구로점     27             배  1개 (600g)   1590   \n",
       "2      1636109       226  롯데마트 구로점     26            배추   1포기(2kg)   3990   \n",
       "3      1636110       226  롯데마트 구로점     25             무  1개 (900g)   1990   \n",
       "4      1636111       226  롯데마트 구로점     24            양파  1개 (200g)    990   \n",
       "...        ...       ...       ...    ...           ...        ...    ...   \n",
       "20392  1192245       112     애경백화점    320       달걀(30개)        30개   6900   \n",
       "20393  1192246       112     애경백화점    136     조기(국산,생물)  1마리[15cm]   8900   \n",
       "20394  1192247       112     애경백화점    315  명태(45cm,수입산)        1마리   4900   \n",
       "20395  1192248       112     애경백화점    254    오징어(생물,국산)  1마리[15cm]   7900   \n",
       "20396  1192249       112     애경백화점    266    고등어(생물,국산)  1마리[20cm]  13900   \n",
       "\n",
       "          년도-월         비고  시장유형 구분(시장/마트) 코드 시장유형 구분(시장/마트) 이름  자치구 코드 자치구 이름  \\\n",
       "0      2021-01     국내산,부사                  2              대형마트  530000    구로구   \n",
       "1      2021-01     국내산,신고                  2              대형마트  530000    구로구   \n",
       "2      2021-01        국내산                  2              대형마트  530000    구로구   \n",
       "3      2021-01        국내산                  2              대형마트  530000    구로구   \n",
       "4      2021-01        국내산                  2              대형마트  530000    구로구   \n",
       "...        ...        ...                ...               ...     ...    ...   \n",
       "20392  2018-01         판란                  2              대형마트  530000    구로구   \n",
       "20393  2018-01  국내산 (백조기)                  2              대형마트  530000    구로구   \n",
       "20394  2018-01        러시아                  2              대형마트  530000    구로구   \n",
       "20395  2018-01       내용없음                  2              대형마트  530000    구로구   \n",
       "20396  2018-01         부산                  2              대형마트  530000    구로구   \n",
       "\n",
       "            점검일자    연도  월   일  요일      연도월  \n",
       "0     2021-01-21  2021  1  21   3  2021-01  \n",
       "1     2021-01-21  2021  1  21   3  2021-01  \n",
       "2     2021-01-21  2021  1  21   3  2021-01  \n",
       "3     2021-01-21  2021  1  21   3  2021-01  \n",
       "4     2021-01-21  2021  1  21   3  2021-01  \n",
       "...          ...   ... ..  ..  ..      ...  \n",
       "20392 2018-01-31  2018  1  31   2  2018-01  \n",
       "20393 2018-01-31  2018  1  31   2  2018-01  \n",
       "20394 2018-01-31  2018  1  31   2  2018-01  \n",
       "20395 2018-01-31  2018  1  31   2  2018-01  \n",
       "20396 2018-01-31  2018  1  31   2  2018-01  \n",
       "\n",
       "[341240 rows x 19 columns]"
      ]
     },
     "execution_count": 50,
     "metadata": {},
     "output_type": "execute_result"
    }
   ],
   "source": [
    "df[\"연도월\"] = df['점검일자'].astype(str).str[:7]\n",
    "df"
   ]
  },
  {
   "cell_type": "markdown",
   "id": "e7a705b9",
   "metadata": {},
   "source": [
    "*요일 한글로 변환"
   ]
  },
  {
   "cell_type": "code",
   "execution_count": 51,
   "id": "ed11737e",
   "metadata": {},
   "outputs": [
    {
     "data": {
      "text/html": [
       "<div>\n",
       "<style scoped>\n",
       "    .dataframe tbody tr th:only-of-type {\n",
       "        vertical-align: middle;\n",
       "    }\n",
       "\n",
       "    .dataframe tbody tr th {\n",
       "        vertical-align: top;\n",
       "    }\n",
       "\n",
       "    .dataframe thead th {\n",
       "        text-align: right;\n",
       "    }\n",
       "</style>\n",
       "<table border=\"1\" class=\"dataframe\">\n",
       "  <thead>\n",
       "    <tr style=\"text-align: right;\">\n",
       "      <th></th>\n",
       "      <th>일련번호</th>\n",
       "      <th>시장/마트 번호</th>\n",
       "      <th>시장/마트 이름</th>\n",
       "      <th>품목 번호</th>\n",
       "      <th>품목 이름</th>\n",
       "      <th>실판매규격</th>\n",
       "      <th>가격(원)</th>\n",
       "      <th>년도-월</th>\n",
       "      <th>비고</th>\n",
       "      <th>시장유형 구분(시장/마트) 코드</th>\n",
       "      <th>시장유형 구분(시장/마트) 이름</th>\n",
       "      <th>자치구 코드</th>\n",
       "      <th>자치구 이름</th>\n",
       "      <th>점검일자</th>\n",
       "      <th>연도</th>\n",
       "      <th>월</th>\n",
       "      <th>일</th>\n",
       "      <th>요일</th>\n",
       "      <th>연도월</th>\n",
       "      <th>요일명</th>\n",
       "    </tr>\n",
       "  </thead>\n",
       "  <tbody>\n",
       "    <tr>\n",
       "      <th>0</th>\n",
       "      <td>1636107</td>\n",
       "      <td>226</td>\n",
       "      <td>롯데마트 구로점</td>\n",
       "      <td>28</td>\n",
       "      <td>사과</td>\n",
       "      <td>1개 (300g)</td>\n",
       "      <td>1598</td>\n",
       "      <td>2021-01</td>\n",
       "      <td>국내산,부사</td>\n",
       "      <td>2</td>\n",
       "      <td>대형마트</td>\n",
       "      <td>530000</td>\n",
       "      <td>구로구</td>\n",
       "      <td>2021-01-21</td>\n",
       "      <td>2021</td>\n",
       "      <td>1</td>\n",
       "      <td>21</td>\n",
       "      <td>3</td>\n",
       "      <td>2021-01</td>\n",
       "      <td>목</td>\n",
       "    </tr>\n",
       "  </tbody>\n",
       "</table>\n",
       "</div>"
      ],
      "text/plain": [
       "      일련번호  시장/마트 번호  시장/마트 이름  품목 번호 품목 이름      실판매규격  가격(원)     년도-월  \\\n",
       "0  1636107       226  롯데마트 구로점     28    사과  1개 (300g)   1598  2021-01   \n",
       "\n",
       "       비고  시장유형 구분(시장/마트) 코드 시장유형 구분(시장/마트) 이름  자치구 코드 자치구 이름       점검일자  \\\n",
       "0  국내산,부사                  2              대형마트  530000    구로구 2021-01-21   \n",
       "\n",
       "     연도  월   일  요일      연도월 요일명  \n",
       "0  2021  1  21   3  2021-01   목  "
      ]
     },
     "execution_count": 51,
     "metadata": {},
     "output_type": "execute_result"
    }
   ],
   "source": [
    "dayofweek = \"월화수목금토일\"\n",
    "def find_dayofweek(day_no):\n",
    "    return dayofweek[day_no]\n",
    "df[\"요일명\"] = df['요일'].map(find_dayofweek)\n",
    "df.head(1)"
   ]
  },
  {
   "cell_type": "code",
   "execution_count": 52,
   "id": "ef8ade22",
   "metadata": {},
   "outputs": [
    {
     "data": {
      "text/plain": [
       "목    243085\n",
       "월     87870\n",
       "일      4879\n",
       "수      4641\n",
       "금       765\n",
       "Name: 요일명, dtype: int64"
      ]
     },
     "execution_count": 52,
     "metadata": {},
     "output_type": "execute_result"
    }
   ],
   "source": [
    "df['요일명'].value_counts() # 요일별 점검 갯수"
   ]
  },
  {
   "cell_type": "code",
   "execution_count": 53,
   "id": "f7eedf62",
   "metadata": {},
   "outputs": [
    {
     "data": {
      "text/plain": [
       "2020    117452\n",
       "2019    113492\n",
       "2021     89899\n",
       "2018     20397\n",
       "Name: 연도, dtype: int64"
      ]
     },
     "execution_count": 53,
     "metadata": {},
     "output_type": "execute_result"
    }
   ],
   "source": [
    "df['연도'].value_counts() # 연도별 점검 갯수(2020년이 가장 많음)"
   ]
  },
  {
   "cell_type": "code",
   "execution_count": 54,
   "id": "c88162bf",
   "metadata": {},
   "outputs": [
    {
     "data": {
      "text/plain": [
       "12979.95245281913"
      ]
     },
     "execution_count": 54,
     "metadata": {},
     "output_type": "execute_result"
    }
   ],
   "source": [
    "df['가격(원)'].mean() # 가격의 평균은 12979.95245281913"
   ]
  },
  {
   "cell_type": "code",
   "execution_count": 88,
   "id": "871e0c7e",
   "metadata": {},
   "outputs": [
    {
     "data": {
      "text/plain": [
       "count      341240\n",
       "unique         89\n",
       "top       달걀(10개)\n",
       "freq        19481\n",
       "Name: 품목 이름, dtype: object"
      ]
     },
     "execution_count": 88,
     "metadata": {},
     "output_type": "execute_result"
    }
   ],
   "source": [
    "df['품목 이름'].describe() # 달걀(10개) 품목이 제일 많음"
   ]
  },
  {
   "cell_type": "code",
   "execution_count": null,
   "id": "f6f01df2",
   "metadata": {},
   "outputs": [],
   "source": [
    "b = df['시장유형구분이름']\n",
    "b.value_counts(normalize = True) * 100 # 전통시장과 마트의 비율"
   ]
  },
  {
   "cell_type": "markdown",
   "id": "ead59814",
   "metadata": {},
   "source": [
    "# 연도월 별 조사 수 시각화"
   ]
  },
  {
   "cell_type": "code",
   "execution_count": 89,
   "id": "0f350b56",
   "metadata": {},
   "outputs": [
    {
     "data": {
      "text/plain": [
       "<AxesSubplot:>"
      ]
     },
     "execution_count": 89,
     "metadata": {},
     "output_type": "execute_result"
    },
    {
     "data": {
      "image/png": "[encoded data removed]",
      "text/plain": [
       "<Figure size 432x288 with 1 Axes>"
      ]
     },
     "metadata": {
      "image/png": {
       "height": 272,
       "width": 390
      }
     },
     "output_type": "display_data"
    }
   ],
   "source": [
    "year_month = df['연도월'].value_counts().sort_index()\n",
    "year_month\n",
    "year_month.plot(kind='bar',rot=60)"
   ]
  },
  {
   "cell_type": "markdown",
   "id": "1e05a5ef",
   "metadata": {},
   "source": [
    "* 요일 별 조사 수 시각화"
   ]
  },
  {
   "cell_type": "code",
   "execution_count": 90,
   "id": "6ab05726",
   "metadata": {},
   "outputs": [
    {
     "data": {
      "image/png": "[encoded data removed]",
      "text/plain": [
       "<Figure size 864x432 with 1 Axes>"
      ]
     },
     "metadata": {
      "image/png": {
       "height": 372,
       "width": 703
      }
     },
     "output_type": "display_data"
    },
    {
     "data": {
      "text/plain": [
       "금       765\n",
       "목    243085\n",
       "수      4641\n",
       "월     87870\n",
       "일      4879\n",
       "Name: 요일명, dtype: int64"
      ]
     },
     "execution_count": 90,
     "metadata": {},
     "output_type": "execute_result"
    }
   ],
   "source": [
    "weekday_count = df['요일명'].value_counts().sort_index()\n",
    "weekday_list = [x for x in '월수목금일']\n",
    "\n",
    "weekday_count[weekday_list].plot(kind='bar',rot=0,title = '요일 별 조사 수',figsize=(12,6))\n",
    "plt.axhline(150000,c='r',linestyle='solid')\n",
    "plt.style.use('fivethirtyeight')\n",
    "plt.yscale('log')\n",
    "plt.show()\n",
    "weekday_count"
   ]
  },
  {
   "cell_type": "markdown",
   "id": "c2ed05ef",
   "metadata": {},
   "source": [
    "# 구 별 농수산물 평균 가격\n"
   ]
  },
  {
   "cell_type": "code",
   "execution_count": 59,
   "id": "39cf3815",
   "metadata": {},
   "outputs": [
    {
     "data": {
      "text/plain": [
       "0         1598\n",
       "1         1590\n",
       "2         3990\n",
       "3         1990\n",
       "4          990\n",
       "         ...  \n",
       "20392     6900\n",
       "20393     8900\n",
       "20394     4900\n",
       "20395     7900\n",
       "20396    13900\n",
       "Name: 가격(원), Length: 341240, dtype: int64"
      ]
     },
     "execution_count": 59,
     "metadata": {},
     "output_type": "execute_result"
    }
   ],
   "source": [
    "df['가격(원)'] # df의 모든 가격 출력"
   ]
  },
  {
   "cell_type": "code",
   "execution_count": 74,
   "id": "f6dc3ce1",
   "metadata": {},
   "outputs": [
    {
     "data": {
      "text/plain": [
       "자치구 이름\n",
       "강남구       7430.373444\n",
       "강동구       5350.739993\n",
       "강북구       5448.257770\n",
       "강서구       5602.870959\n",
       "관악구       5928.916758\n",
       "광진구       5699.571019\n",
       "구로구       5268.071553\n",
       "금천구       5339.536841\n",
       "노원구       6609.085389\n",
       "도봉구       5167.011736\n",
       "동대문구      5420.166957\n",
       "동작구       5457.244444\n",
       "마포구       5131.259118\n",
       "서대문구      6313.139037\n",
       "서초구       7142.473548\n",
       "성동구       5083.447883\n",
       "성북구       6119.600798\n",
       "송파구       6010.737309\n",
       "양천구       9991.665233\n",
       "영등포구      6142.716221\n",
       "용산구       5306.766791\n",
       "은평구       5262.666499\n",
       "종로구       5635.838381\n",
       "중구      121554.188657\n",
       "중랑구       5324.613855\n",
       "Name: 가격(원), dtype: float64"
      ]
     },
     "execution_count": 74,
     "metadata": {},
     "output_type": "execute_result"
    }
   ],
   "source": [
    "gu_price = df.groupby('자치구 이름')['가격(원)'].mean() # 중구의 평균가가 지나치게 높음\n",
    "gu_price"
   ]
  },
  {
   "cell_type": "code",
   "execution_count": 75,
   "id": "16ec5083",
   "metadata": {},
   "outputs": [
    {
     "data": {
      "text/plain": [
       "51       4000\n",
       "52       8000\n",
       "53       2980\n",
       "54       3980\n",
       "55       4580\n",
       "         ... \n",
       "18828    5290\n",
       "18829    3900\n",
       "18830    2100\n",
       "18831    4850\n",
       "18832    2980\n",
       "Name: 가격(원), Length: 20752, dtype: int64"
      ]
     },
     "execution_count": 75,
     "metadata": {},
     "output_type": "execute_result"
    }
   ],
   "source": [
    "junggu_price = df[df['자치구 이름']=='중구']['가격(원)']\n",
    "junggu_price"
   ]
  },
  {
   "cell_type": "code",
   "execution_count": 76,
   "id": "72ad1c0d",
   "metadata": {},
   "outputs": [
    {
     "data": {
      "text/plain": [
       "2394023940"
      ]
     },
     "execution_count": 76,
     "metadata": {},
     "output_type": "execute_result"
    }
   ],
   "source": [
    "junggu_price.max() # Abnormal value"
   ]
  },
  {
   "cell_type": "code",
   "execution_count": 77,
   "id": "dfaa89eb",
   "metadata": {},
   "outputs": [
    {
     "data": {
      "text/plain": [
       "112480"
      ]
     },
     "execution_count": 77,
     "metadata": {},
     "output_type": "execute_result"
    }
   ],
   "source": [
    "def findsecond(arr):\n",
    "    second = first = -float('inf') \n",
    "\n",
    "    for n in arr:\n",
    "        if n > first:\n",
    "            second = first\n",
    "            first = n\n",
    "        elif second < n < first:\n",
    "            second = n\n",
    "    return second\n",
    "findsecond(junggu_price) # Since the second largest value seems like the others, we can hypothesize that the largest value could be possibly an outlier."
   ]
  },
  {
   "cell_type": "code",
   "execution_count": 78,
   "id": "1394c06c",
   "metadata": {},
   "outputs": [
    {
     "data": {
      "text/html": [
       "<div>\n",
       "<style scoped>\n",
       "    .dataframe tbody tr th:only-of-type {\n",
       "        vertical-align: middle;\n",
       "    }\n",
       "\n",
       "    .dataframe tbody tr th {\n",
       "        vertical-align: top;\n",
       "    }\n",
       "\n",
       "    .dataframe thead th {\n",
       "        text-align: right;\n",
       "    }\n",
       "</style>\n",
       "<table border=\"1\" class=\"dataframe\">\n",
       "  <thead>\n",
       "    <tr style=\"text-align: right;\">\n",
       "      <th></th>\n",
       "      <th>일련번호</th>\n",
       "      <th>시장/마트 번호</th>\n",
       "      <th>시장/마트 이름</th>\n",
       "      <th>품목 번호</th>\n",
       "      <th>품목 이름</th>\n",
       "      <th>실판매규격</th>\n",
       "      <th>가격(원)</th>\n",
       "      <th>년도-월</th>\n",
       "      <th>비고</th>\n",
       "      <th>시장유형 구분(시장/마트) 코드</th>\n",
       "      <th>시장유형 구분(시장/마트) 이름</th>\n",
       "      <th>자치구 코드</th>\n",
       "      <th>자치구 이름</th>\n",
       "      <th>점검일자</th>\n",
       "      <th>연도</th>\n",
       "      <th>월</th>\n",
       "      <th>일</th>\n",
       "      <th>요일</th>\n",
       "      <th>연도월</th>\n",
       "      <th>요일명</th>\n",
       "    </tr>\n",
       "  </thead>\n",
       "  <tbody>\n",
       "    <tr>\n",
       "      <th>55890</th>\n",
       "      <td>1688423</td>\n",
       "      <td>56</td>\n",
       "      <td>롯데백화점</td>\n",
       "      <td>99</td>\n",
       "      <td>돼지고기(생삼겹살)</td>\n",
       "      <td>600g</td>\n",
       "      <td>2394023940</td>\n",
       "      <td>2021-08</td>\n",
       "      <td>국내산,돈육삼겹살</td>\n",
       "      <td>2</td>\n",
       "      <td>대형마트</td>\n",
       "      <td>140000</td>\n",
       "      <td>중구</td>\n",
       "      <td>2021-08-26</td>\n",
       "      <td>2021</td>\n",
       "      <td>8</td>\n",
       "      <td>26</td>\n",
       "      <td>3</td>\n",
       "      <td>2021-08</td>\n",
       "      <td>목</td>\n",
       "    </tr>\n",
       "  </tbody>\n",
       "</table>\n",
       "</div>"
      ],
      "text/plain": [
       "          일련번호  시장/마트 번호 시장/마트 이름  품목 번호       품목 이름 실판매규격       가격(원)  \\\n",
       "55890  1688423        56    롯데백화점     99  돼지고기(생삼겹살)  600g  2394023940   \n",
       "\n",
       "          년도-월         비고  시장유형 구분(시장/마트) 코드 시장유형 구분(시장/마트) 이름  자치구 코드 자치구 이름  \\\n",
       "55890  2021-08  국내산,돈육삼겹살                  2              대형마트  140000     중구   \n",
       "\n",
       "            점검일자    연도  월   일  요일      연도월 요일명  \n",
       "55890 2021-08-26  2021  8  26   3  2021-08   목  "
      ]
     },
     "execution_count": 78,
     "metadata": {},
     "output_type": "execute_result"
    }
   ],
   "source": [
    "df[df['가격(원)'] == 2394023940] # The amount of 2394023940 can not be an appropriate price for 돼지고기(생삼겹살) even in 롯데백화점. So we can conclude that is an outlier."
   ]
  },
  {
   "cell_type": "code",
   "execution_count": 80,
   "id": "95ec3232",
   "metadata": {},
   "outputs": [
    {
     "data": {
      "image/png": "[encoded data removed]",
      "text/plain": [
       "<Figure size 864x432 with 1 Axes>"
      ]
     },
     "metadata": {
      "image/png": {
       "height": 400,
       "width": 731
      }
     },
     "output_type": "display_data"
    }
   ],
   "source": [
    "removed_df = df.drop(55890)\n",
    "removed_df[removed_df['가격(원)'] == 2394023940]\n",
    "udt_junggu_price = removed_df.groupby('자치구 이름')['가격(원)'].mean()\n",
    "plt.style.use('Solarize_Light2')\n",
    "udt_junggu_price.plot.bar(rot=60,figsize = (12,6))\n",
    "plt.plot(udt_junggu_price, color = 'orange',scalex=True,marker = 'p',markersize=10) \n",
    "plt.xlabel('구 별')\n",
    "plt.ylabel('평균 가격')\n",
    "plt.show()"
   ]
  },
  {
   "cell_type": "markdown",
   "id": "cf31973d",
   "metadata": {},
   "source": [
    "* 이상치 제거 후 시각화"
   ]
  },
  {
   "cell_type": "code",
   "execution_count": 81,
   "id": "61fbe503",
   "metadata": {},
   "outputs": [
    {
     "data": {
      "text/html": [
       "<div>\n",
       "<style scoped>\n",
       "    .dataframe tbody tr th:only-of-type {\n",
       "        vertical-align: middle;\n",
       "    }\n",
       "\n",
       "    .dataframe tbody tr th {\n",
       "        vertical-align: top;\n",
       "    }\n",
       "\n",
       "    .dataframe thead th {\n",
       "        text-align: right;\n",
       "    }\n",
       "</style>\n",
       "<table border=\"1\" class=\"dataframe\">\n",
       "  <thead>\n",
       "    <tr style=\"text-align: right;\">\n",
       "      <th></th>\n",
       "      <th>일련번호</th>\n",
       "      <th>시장/마트 번호</th>\n",
       "      <th>시장/마트 이름</th>\n",
       "      <th>품목 번호</th>\n",
       "      <th>품목 이름</th>\n",
       "      <th>실판매규격</th>\n",
       "      <th>가격(원)</th>\n",
       "      <th>년도-월</th>\n",
       "      <th>비고</th>\n",
       "      <th>시장유형 구분(시장/마트) 코드</th>\n",
       "      <th>시장유형 구분(시장/마트) 이름</th>\n",
       "      <th>자치구 코드</th>\n",
       "      <th>자치구 이름</th>\n",
       "      <th>점검일자</th>\n",
       "      <th>연도</th>\n",
       "      <th>월</th>\n",
       "      <th>일</th>\n",
       "      <th>요일</th>\n",
       "      <th>연도월</th>\n",
       "      <th>요일명</th>\n",
       "    </tr>\n",
       "  </thead>\n",
       "  <tbody>\n",
       "    <tr>\n",
       "      <th>0</th>\n",
       "      <td>1636107</td>\n",
       "      <td>226</td>\n",
       "      <td>롯데마트 구로점</td>\n",
       "      <td>28</td>\n",
       "      <td>사과</td>\n",
       "      <td>1개 (300g)</td>\n",
       "      <td>1598</td>\n",
       "      <td>2021-01</td>\n",
       "      <td>국내산,부사</td>\n",
       "      <td>2</td>\n",
       "      <td>대형마트</td>\n",
       "      <td>530000</td>\n",
       "      <td>구로구</td>\n",
       "      <td>2021-01-21</td>\n",
       "      <td>2021</td>\n",
       "      <td>1</td>\n",
       "      <td>21</td>\n",
       "      <td>3</td>\n",
       "      <td>2021-01</td>\n",
       "      <td>목</td>\n",
       "    </tr>\n",
       "    <tr>\n",
       "      <th>1</th>\n",
       "      <td>1636108</td>\n",
       "      <td>226</td>\n",
       "      <td>롯데마트 구로점</td>\n",
       "      <td>27</td>\n",
       "      <td>배</td>\n",
       "      <td>1개 (600g)</td>\n",
       "      <td>1590</td>\n",
       "      <td>2021-01</td>\n",
       "      <td>국내산,신고</td>\n",
       "      <td>2</td>\n",
       "      <td>대형마트</td>\n",
       "      <td>530000</td>\n",
       "      <td>구로구</td>\n",
       "      <td>2021-01-21</td>\n",
       "      <td>2021</td>\n",
       "      <td>1</td>\n",
       "      <td>21</td>\n",
       "      <td>3</td>\n",
       "      <td>2021-01</td>\n",
       "      <td>목</td>\n",
       "    </tr>\n",
       "    <tr>\n",
       "      <th>2</th>\n",
       "      <td>1636109</td>\n",
       "      <td>226</td>\n",
       "      <td>롯데마트 구로점</td>\n",
       "      <td>26</td>\n",
       "      <td>배추</td>\n",
       "      <td>1포기(2kg)</td>\n",
       "      <td>3990</td>\n",
       "      <td>2021-01</td>\n",
       "      <td>국내산</td>\n",
       "      <td>2</td>\n",
       "      <td>대형마트</td>\n",
       "      <td>530000</td>\n",
       "      <td>구로구</td>\n",
       "      <td>2021-01-21</td>\n",
       "      <td>2021</td>\n",
       "      <td>1</td>\n",
       "      <td>21</td>\n",
       "      <td>3</td>\n",
       "      <td>2021-01</td>\n",
       "      <td>목</td>\n",
       "    </tr>\n",
       "    <tr>\n",
       "      <th>3</th>\n",
       "      <td>1636110</td>\n",
       "      <td>226</td>\n",
       "      <td>롯데마트 구로점</td>\n",
       "      <td>25</td>\n",
       "      <td>무</td>\n",
       "      <td>1개 (900g)</td>\n",
       "      <td>1990</td>\n",
       "      <td>2021-01</td>\n",
       "      <td>국내산</td>\n",
       "      <td>2</td>\n",
       "      <td>대형마트</td>\n",
       "      <td>530000</td>\n",
       "      <td>구로구</td>\n",
       "      <td>2021-01-21</td>\n",
       "      <td>2021</td>\n",
       "      <td>1</td>\n",
       "      <td>21</td>\n",
       "      <td>3</td>\n",
       "      <td>2021-01</td>\n",
       "      <td>목</td>\n",
       "    </tr>\n",
       "    <tr>\n",
       "      <th>4</th>\n",
       "      <td>1636111</td>\n",
       "      <td>226</td>\n",
       "      <td>롯데마트 구로점</td>\n",
       "      <td>24</td>\n",
       "      <td>양파</td>\n",
       "      <td>1개 (200g)</td>\n",
       "      <td>990</td>\n",
       "      <td>2021-01</td>\n",
       "      <td>국내산</td>\n",
       "      <td>2</td>\n",
       "      <td>대형마트</td>\n",
       "      <td>530000</td>\n",
       "      <td>구로구</td>\n",
       "      <td>2021-01-21</td>\n",
       "      <td>2021</td>\n",
       "      <td>1</td>\n",
       "      <td>21</td>\n",
       "      <td>3</td>\n",
       "      <td>2021-01</td>\n",
       "      <td>목</td>\n",
       "    </tr>\n",
       "    <tr>\n",
       "      <th>...</th>\n",
       "      <td>...</td>\n",
       "      <td>...</td>\n",
       "      <td>...</td>\n",
       "      <td>...</td>\n",
       "      <td>...</td>\n",
       "      <td>...</td>\n",
       "      <td>...</td>\n",
       "      <td>...</td>\n",
       "      <td>...</td>\n",
       "      <td>...</td>\n",
       "      <td>...</td>\n",
       "      <td>...</td>\n",
       "      <td>...</td>\n",
       "      <td>...</td>\n",
       "      <td>...</td>\n",
       "      <td>...</td>\n",
       "      <td>...</td>\n",
       "      <td>...</td>\n",
       "      <td>...</td>\n",
       "      <td>...</td>\n",
       "    </tr>\n",
       "    <tr>\n",
       "      <th>20392</th>\n",
       "      <td>1192245</td>\n",
       "      <td>112</td>\n",
       "      <td>애경백화점</td>\n",
       "      <td>320</td>\n",
       "      <td>달걀(30개)</td>\n",
       "      <td>30개</td>\n",
       "      <td>6900</td>\n",
       "      <td>2018-01</td>\n",
       "      <td>판란</td>\n",
       "      <td>2</td>\n",
       "      <td>대형마트</td>\n",
       "      <td>530000</td>\n",
       "      <td>구로구</td>\n",
       "      <td>2018-01-31</td>\n",
       "      <td>2018</td>\n",
       "      <td>1</td>\n",
       "      <td>31</td>\n",
       "      <td>2</td>\n",
       "      <td>2018-01</td>\n",
       "      <td>수</td>\n",
       "    </tr>\n",
       "    <tr>\n",
       "      <th>20393</th>\n",
       "      <td>1192246</td>\n",
       "      <td>112</td>\n",
       "      <td>애경백화점</td>\n",
       "      <td>136</td>\n",
       "      <td>조기(국산,생물)</td>\n",
       "      <td>1마리[15cm]</td>\n",
       "      <td>8900</td>\n",
       "      <td>2018-01</td>\n",
       "      <td>국내산 (백조기)</td>\n",
       "      <td>2</td>\n",
       "      <td>대형마트</td>\n",
       "      <td>530000</td>\n",
       "      <td>구로구</td>\n",
       "      <td>2018-01-31</td>\n",
       "      <td>2018</td>\n",
       "      <td>1</td>\n",
       "      <td>31</td>\n",
       "      <td>2</td>\n",
       "      <td>2018-01</td>\n",
       "      <td>수</td>\n",
       "    </tr>\n",
       "    <tr>\n",
       "      <th>20394</th>\n",
       "      <td>1192247</td>\n",
       "      <td>112</td>\n",
       "      <td>애경백화점</td>\n",
       "      <td>315</td>\n",
       "      <td>명태(45cm,수입산)</td>\n",
       "      <td>1마리</td>\n",
       "      <td>4900</td>\n",
       "      <td>2018-01</td>\n",
       "      <td>러시아</td>\n",
       "      <td>2</td>\n",
       "      <td>대형마트</td>\n",
       "      <td>530000</td>\n",
       "      <td>구로구</td>\n",
       "      <td>2018-01-31</td>\n",
       "      <td>2018</td>\n",
       "      <td>1</td>\n",
       "      <td>31</td>\n",
       "      <td>2</td>\n",
       "      <td>2018-01</td>\n",
       "      <td>수</td>\n",
       "    </tr>\n",
       "    <tr>\n",
       "      <th>20395</th>\n",
       "      <td>1192248</td>\n",
       "      <td>112</td>\n",
       "      <td>애경백화점</td>\n",
       "      <td>254</td>\n",
       "      <td>오징어(생물,국산)</td>\n",
       "      <td>1마리[15cm]</td>\n",
       "      <td>7900</td>\n",
       "      <td>2018-01</td>\n",
       "      <td>내용없음</td>\n",
       "      <td>2</td>\n",
       "      <td>대형마트</td>\n",
       "      <td>530000</td>\n",
       "      <td>구로구</td>\n",
       "      <td>2018-01-31</td>\n",
       "      <td>2018</td>\n",
       "      <td>1</td>\n",
       "      <td>31</td>\n",
       "      <td>2</td>\n",
       "      <td>2018-01</td>\n",
       "      <td>수</td>\n",
       "    </tr>\n",
       "    <tr>\n",
       "      <th>20396</th>\n",
       "      <td>1192249</td>\n",
       "      <td>112</td>\n",
       "      <td>애경백화점</td>\n",
       "      <td>266</td>\n",
       "      <td>고등어(생물,국산)</td>\n",
       "      <td>1마리[20cm]</td>\n",
       "      <td>13900</td>\n",
       "      <td>2018-01</td>\n",
       "      <td>부산</td>\n",
       "      <td>2</td>\n",
       "      <td>대형마트</td>\n",
       "      <td>530000</td>\n",
       "      <td>구로구</td>\n",
       "      <td>2018-01-31</td>\n",
       "      <td>2018</td>\n",
       "      <td>1</td>\n",
       "      <td>31</td>\n",
       "      <td>2</td>\n",
       "      <td>2018-01</td>\n",
       "      <td>수</td>\n",
       "    </tr>\n",
       "  </tbody>\n",
       "</table>\n",
       "<p>329045 rows × 20 columns</p>\n",
       "</div>"
      ],
      "text/plain": [
       "          일련번호  시장/마트 번호  시장/마트 이름  품목 번호         품목 이름      실판매규격  가격(원)  \\\n",
       "0      1636107       226  롯데마트 구로점     28            사과  1개 (300g)   1598   \n",
       "1      1636108       226  롯데마트 구로점     27             배  1개 (600g)   1590   \n",
       "2      1636109       226  롯데마트 구로점     26            배추   1포기(2kg)   3990   \n",
       "3      1636110       226  롯데마트 구로점     25             무  1개 (900g)   1990   \n",
       "4      1636111       226  롯데마트 구로점     24            양파  1개 (200g)    990   \n",
       "...        ...       ...       ...    ...           ...        ...    ...   \n",
       "20392  1192245       112     애경백화점    320       달걀(30개)        30개   6900   \n",
       "20393  1192246       112     애경백화점    136     조기(국산,생물)  1마리[15cm]   8900   \n",
       "20394  1192247       112     애경백화점    315  명태(45cm,수입산)        1마리   4900   \n",
       "20395  1192248       112     애경백화점    254    오징어(생물,국산)  1마리[15cm]   7900   \n",
       "20396  1192249       112     애경백화점    266    고등어(생물,국산)  1마리[20cm]  13900   \n",
       "\n",
       "          년도-월         비고  시장유형 구분(시장/마트) 코드 시장유형 구분(시장/마트) 이름  자치구 코드 자치구 이름  \\\n",
       "0      2021-01     국내산,부사                  2              대형마트  530000    구로구   \n",
       "1      2021-01     국내산,신고                  2              대형마트  530000    구로구   \n",
       "2      2021-01        국내산                  2              대형마트  530000    구로구   \n",
       "3      2021-01        국내산                  2              대형마트  530000    구로구   \n",
       "4      2021-01        국내산                  2              대형마트  530000    구로구   \n",
       "...        ...        ...                ...               ...     ...    ...   \n",
       "20392  2018-01         판란                  2              대형마트  530000    구로구   \n",
       "20393  2018-01  국내산 (백조기)                  2              대형마트  530000    구로구   \n",
       "20394  2018-01        러시아                  2              대형마트  530000    구로구   \n",
       "20395  2018-01       내용없음                  2              대형마트  530000    구로구   \n",
       "20396  2018-01         부산                  2              대형마트  530000    구로구   \n",
       "\n",
       "            점검일자    연도  월   일  요일      연도월 요일명  \n",
       "0     2021-01-21  2021  1  21   3  2021-01   목  \n",
       "1     2021-01-21  2021  1  21   3  2021-01   목  \n",
       "2     2021-01-21  2021  1  21   3  2021-01   목  \n",
       "3     2021-01-21  2021  1  21   3  2021-01   목  \n",
       "4     2021-01-21  2021  1  21   3  2021-01   목  \n",
       "...          ...   ... ..  ..  ..      ...  ..  \n",
       "20392 2018-01-31  2018  1  31   2  2018-01   수  \n",
       "20393 2018-01-31  2018  1  31   2  2018-01   수  \n",
       "20394 2018-01-31  2018  1  31   2  2018-01   수  \n",
       "20395 2018-01-31  2018  1  31   2  2018-01   수  \n",
       "20396 2018-01-31  2018  1  31   2  2018-01   수  \n",
       "\n",
       "[329045 rows x 20 columns]"
      ]
     },
     "execution_count": 81,
     "metadata": {},
     "output_type": "execute_result"
    }
   ],
   "source": [
    "grt_10_values = df[df['가격(원)']<= 10].index\n",
    "grt_10_df = df.drop(grt_10_values)\n",
    "grt_10_df\n",
    "\n"
   ]
  },
  {
   "cell_type": "code",
   "execution_count": 83,
   "id": "cbf9f089",
   "metadata": {},
   "outputs": [
    {
     "data": {
      "text/plain": [
       "288200"
      ]
     },
     "execution_count": 83,
     "metadata": {},
     "output_type": "execute_result"
    }
   ],
   "source": [
    "grt_10_df[grt_10_df['품목 이름'].str.contains('한우')]['가격(원)'].max() # 아무리 한우라도 합당하지 않음"
   ]
  },
  {
   "cell_type": "code",
   "execution_count": 84,
   "id": "d6a8d182",
   "metadata": {},
   "outputs": [
    {
     "data": {
      "text/plain": [
       "55890     2394023940\n",
       "14118       35002980\n",
       "25931       34902990\n",
       "25965         403890\n",
       "35102         310000\n",
       "92710         288200\n",
       "66140         260520\n",
       "13264         210000\n",
       "115361        210000\n",
       "15267         133600\n",
       "48610         122800\n",
       "28357         120000\n",
       "22826         117600\n",
       "20117         112480\n",
       "81897         107802\n",
       "108447        106820\n",
       "7088          100000\n",
       "36202          99800\n",
       "41090          96000\n",
       "65124          95880\n",
       "71507          95880\n",
       "68391          95880\n",
       "73271          95340\n",
       "105887         93333\n",
       "73287          91680\n",
       "65108          90720\n",
       "71475          90720\n",
       "66412          90720\n",
       "68359          90720\n",
       "71523          90000\n",
       "Name: 가격(원), dtype: int64"
      ]
     },
     "execution_count": 84,
     "metadata": {},
     "output_type": "execute_result"
    }
   ],
   "source": [
    "grt_10_df['가격(원)'].sort_values(ascending=False).head(30) # 가격 높은순 30개(10만원을 넘는 금액은 이상치라고 판단)"
   ]
  },
  {
   "cell_type": "code",
   "execution_count": 85,
   "id": "e1119f68",
   "metadata": {
    "vscode": {
     "languageId": "markdown"
    }
   },
   "outputs": [
    {
     "data": {
      "image/png": "[encoded data removed]",
      "text/plain": [
       "<Figure size 864x432 with 1 Axes>"
      ]
     },
     "metadata": {
      "image/png": {
       "height": 400,
       "width": 726
      }
     },
     "output_type": "display_data"
    }
   ],
   "source": [
    "price_over_100000 = grt_10_df[grt_10_df['가격(원)'] >=100000].index # 가격이 10만원이 넘는 값 제거\n",
    "price_df = grt_10_df.drop(price_over_100000) # 기존의 가격이 10원 이상인 값들에서 10만원 이상 제거\n",
    "final_price_df = price_df.groupby('자치구 이름')['가격(원)'].mean() # 가격이 10원 이상인 값과 10만원이 넘는 값 모두 제거\n",
    "plt.style.use('Solarize_Light2')\n",
    "final_price_df.plot.bar(rot=60,figsize = (12,6))\n",
    "plt.plot(final_price_df, color = 'orange',scalex=True,marker = 'p',markersize=10) \n",
    "plt.xlabel('서울시 구 별')\n",
    "plt.ylabel('평균 가격')\n",
    "plt.show()\n",
    "# 전체 기간의 각 구 별 농수산물의 평균가격\n"
   ]
  },
  {
   "cell_type": "markdown",
   "id": "338ef2b5",
   "metadata": {},
   "source": [
    "* 시장 마트별"
   ]
  },
  {
   "cell_type": "code",
   "execution_count": 86,
   "id": "718f4719",
   "metadata": {
    "vscode": {
     "languageId": "markdown"
    }
   },
   "outputs": [
    {
     "ename": "KeyError",
     "evalue": "'시장/마트이름'",
     "output_type": "error",
     "traceback": [
      "\u001b[1;31m---------------------------------------------------------------------------\u001b[0m",
      "\u001b[1;31mKeyError\u001b[0m                                  Traceback (most recent call last)",
      "\u001b[1;32m~\\anaconda3\\lib\\site-packages\\pandas\\core\\indexes\\base.py\u001b[0m in \u001b[0;36mget_loc\u001b[1;34m(self, key, method, tolerance)\u001b[0m\n\u001b[0;32m   3360\u001b[0m             \u001b[1;32mtry\u001b[0m\u001b[1;33m:\u001b[0m\u001b[1;33m\u001b[0m\u001b[1;33m\u001b[0m\u001b[0m\n\u001b[1;32m-> 3361\u001b[1;33m                 \u001b[1;32mreturn\u001b[0m \u001b[0mself\u001b[0m\u001b[1;33m.\u001b[0m\u001b[0m_engine\u001b[0m\u001b[1;33m.\u001b[0m\u001b[0mget_loc\u001b[0m\u001b[1;33m(\u001b[0m\u001b[0mcasted_key\u001b[0m\u001b[1;33m)\u001b[0m\u001b[1;33m\u001b[0m\u001b[1;33m\u001b[0m\u001b[0m\n\u001b[0m\u001b[0;32m   3362\u001b[0m             \u001b[1;32mexcept\u001b[0m \u001b[0mKeyError\u001b[0m \u001b[1;32mas\u001b[0m \u001b[0merr\u001b[0m\u001b[1;33m:\u001b[0m\u001b[1;33m\u001b[0m\u001b[1;33m\u001b[0m\u001b[0m\n",
      "\u001b[1;32m~\\anaconda3\\lib\\site-packages\\pandas\\_libs\\index.pyx\u001b[0m in \u001b[0;36mpandas._libs.index.IndexEngine.get_loc\u001b[1;34m()\u001b[0m\n",
      "\u001b[1;32m~\\anaconda3\\lib\\site-packages\\pandas\\_libs\\index.pyx\u001b[0m in \u001b[0;36mpandas._libs.index.IndexEngine.get_loc\u001b[1;34m()\u001b[0m\n",
      "\u001b[1;32mpandas\\_libs\\hashtable_class_helper.pxi\u001b[0m in \u001b[0;36mpandas._libs.hashtable.PyObjectHashTable.get_item\u001b[1;34m()\u001b[0m\n",
      "\u001b[1;32mpandas\\_libs\\hashtable_class_helper.pxi\u001b[0m in \u001b[0;36mpandas._libs.hashtable.PyObjectHashTable.get_item\u001b[1;34m()\u001b[0m\n",
      "\u001b[1;31mKeyError\u001b[0m: '시장/마트이름'",
      "\nThe above exception was the direct cause of the following exception:\n",
      "\u001b[1;31mKeyError\u001b[0m                                  Traceback (most recent call last)",
      "\u001b[1;32m~\\AppData\\Local\\Temp/ipykernel_6360/3164126979.py\u001b[0m in \u001b[0;36m<module>\u001b[1;34m\u001b[0m\n\u001b[1;32m----> 1\u001b[1;33m \u001b[0mdf\u001b[0m\u001b[1;33m[\u001b[0m\u001b[0mdf\u001b[0m\u001b[1;33m[\u001b[0m\u001b[1;34m\"자치구 이름\"\u001b[0m\u001b[1;33m]\u001b[0m \u001b[1;33m==\u001b[0m \u001b[1;34m\"관악구\"\u001b[0m\u001b[1;33m]\u001b[0m\u001b[1;33m[\u001b[0m\u001b[1;34m\"시장/마트이름\"\u001b[0m\u001b[1;33m]\u001b[0m\u001b[1;33m.\u001b[0m\u001b[0mvalue_counts\u001b[0m\u001b[1;33m(\u001b[0m\u001b[1;33m)\u001b[0m\u001b[1;33m\u001b[0m\u001b[1;33m\u001b[0m\u001b[0m\n\u001b[0m",
      "\u001b[1;32m~\\anaconda3\\lib\\site-packages\\pandas\\core\\frame.py\u001b[0m in \u001b[0;36m__getitem__\u001b[1;34m(self, key)\u001b[0m\n\u001b[0;32m   3456\u001b[0m             \u001b[1;32mif\u001b[0m \u001b[0mself\u001b[0m\u001b[1;33m.\u001b[0m\u001b[0mcolumns\u001b[0m\u001b[1;33m.\u001b[0m\u001b[0mnlevels\u001b[0m \u001b[1;33m>\u001b[0m \u001b[1;36m1\u001b[0m\u001b[1;33m:\u001b[0m\u001b[1;33m\u001b[0m\u001b[1;33m\u001b[0m\u001b[0m\n\u001b[0;32m   3457\u001b[0m                 \u001b[1;32mreturn\u001b[0m \u001b[0mself\u001b[0m\u001b[1;33m.\u001b[0m\u001b[0m_getitem_multilevel\u001b[0m\u001b[1;33m(\u001b[0m\u001b[0mkey\u001b[0m\u001b[1;33m)\u001b[0m\u001b[1;33m\u001b[0m\u001b[1;33m\u001b[0m\u001b[0m\n\u001b[1;32m-> 3458\u001b[1;33m             \u001b[0mindexer\u001b[0m \u001b[1;33m=\u001b[0m \u001b[0mself\u001b[0m\u001b[1;33m.\u001b[0m\u001b[0mcolumns\u001b[0m\u001b[1;33m.\u001b[0m\u001b[0mget_loc\u001b[0m\u001b[1;33m(\u001b[0m\u001b[0mkey\u001b[0m\u001b[1;33m)\u001b[0m\u001b[1;33m\u001b[0m\u001b[1;33m\u001b[0m\u001b[0m\n\u001b[0m\u001b[0;32m   3459\u001b[0m             \u001b[1;32mif\u001b[0m \u001b[0mis_integer\u001b[0m\u001b[1;33m(\u001b[0m\u001b[0mindexer\u001b[0m\u001b[1;33m)\u001b[0m\u001b[1;33m:\u001b[0m\u001b[1;33m\u001b[0m\u001b[1;33m\u001b[0m\u001b[0m\n\u001b[0;32m   3460\u001b[0m                 \u001b[0mindexer\u001b[0m \u001b[1;33m=\u001b[0m \u001b[1;33m[\u001b[0m\u001b[0mindexer\u001b[0m\u001b[1;33m]\u001b[0m\u001b[1;33m\u001b[0m\u001b[1;33m\u001b[0m\u001b[0m\n",
      "\u001b[1;32m~\\anaconda3\\lib\\site-packages\\pandas\\core\\indexes\\base.py\u001b[0m in \u001b[0;36mget_loc\u001b[1;34m(self, key, method, tolerance)\u001b[0m\n\u001b[0;32m   3361\u001b[0m                 \u001b[1;32mreturn\u001b[0m \u001b[0mself\u001b[0m\u001b[1;33m.\u001b[0m\u001b[0m_engine\u001b[0m\u001b[1;33m.\u001b[0m\u001b[0mget_loc\u001b[0m\u001b[1;33m(\u001b[0m\u001b[0mcasted_key\u001b[0m\u001b[1;33m)\u001b[0m\u001b[1;33m\u001b[0m\u001b[1;33m\u001b[0m\u001b[0m\n\u001b[0;32m   3362\u001b[0m             \u001b[1;32mexcept\u001b[0m \u001b[0mKeyError\u001b[0m \u001b[1;32mas\u001b[0m \u001b[0merr\u001b[0m\u001b[1;33m:\u001b[0m\u001b[1;33m\u001b[0m\u001b[1;33m\u001b[0m\u001b[0m\n\u001b[1;32m-> 3363\u001b[1;33m                 \u001b[1;32mraise\u001b[0m \u001b[0mKeyError\u001b[0m\u001b[1;33m(\u001b[0m\u001b[0mkey\u001b[0m\u001b[1;33m)\u001b[0m \u001b[1;32mfrom\u001b[0m \u001b[0merr\u001b[0m\u001b[1;33m\u001b[0m\u001b[1;33m\u001b[0m\u001b[0m\n\u001b[0m\u001b[0;32m   3364\u001b[0m \u001b[1;33m\u001b[0m\u001b[0m\n\u001b[0;32m   3365\u001b[0m         \u001b[1;32mif\u001b[0m \u001b[0mis_scalar\u001b[0m\u001b[1;33m(\u001b[0m\u001b[0mkey\u001b[0m\u001b[1;33m)\u001b[0m \u001b[1;32mand\u001b[0m \u001b[0misna\u001b[0m\u001b[1;33m(\u001b[0m\u001b[0mkey\u001b[0m\u001b[1;33m)\u001b[0m \u001b[1;32mand\u001b[0m \u001b[1;32mnot\u001b[0m \u001b[0mself\u001b[0m\u001b[1;33m.\u001b[0m\u001b[0mhasnans\u001b[0m\u001b[1;33m:\u001b[0m\u001b[1;33m\u001b[0m\u001b[1;33m\u001b[0m\u001b[0m\n",
      "\u001b[1;31mKeyError\u001b[0m: '시장/마트이름'"
     ]
    }
   ],
   "source": [
    "df[df[\"자치구 이름\"] == \"관악구\"][\"시장/마트이름\"].value_counts()"
   ]
  },
  {
   "cell_type": "code",
   "execution_count": 87,
   "id": "81e13cab",
   "metadata": {},
   "outputs": [
    {
     "ename": "KeyError",
     "evalue": "'자치구이름'",
     "output_type": "error",
     "traceback": [
      "\u001b[1;31m---------------------------------------------------------------------------\u001b[0m",
      "\u001b[1;31mKeyError\u001b[0m                                  Traceback (most recent call last)",
      "\u001b[1;32m~\\anaconda3\\lib\\site-packages\\pandas\\core\\indexes\\base.py\u001b[0m in \u001b[0;36mget_loc\u001b[1;34m(self, key, method, tolerance)\u001b[0m\n\u001b[0;32m   3360\u001b[0m             \u001b[1;32mtry\u001b[0m\u001b[1;33m:\u001b[0m\u001b[1;33m\u001b[0m\u001b[1;33m\u001b[0m\u001b[0m\n\u001b[1;32m-> 3361\u001b[1;33m                 \u001b[1;32mreturn\u001b[0m \u001b[0mself\u001b[0m\u001b[1;33m.\u001b[0m\u001b[0m_engine\u001b[0m\u001b[1;33m.\u001b[0m\u001b[0mget_loc\u001b[0m\u001b[1;33m(\u001b[0m\u001b[0mcasted_key\u001b[0m\u001b[1;33m)\u001b[0m\u001b[1;33m\u001b[0m\u001b[1;33m\u001b[0m\u001b[0m\n\u001b[0m\u001b[0;32m   3362\u001b[0m             \u001b[1;32mexcept\u001b[0m \u001b[0mKeyError\u001b[0m \u001b[1;32mas\u001b[0m \u001b[0merr\u001b[0m\u001b[1;33m:\u001b[0m\u001b[1;33m\u001b[0m\u001b[1;33m\u001b[0m\u001b[0m\n",
      "\u001b[1;32m~\\anaconda3\\lib\\site-packages\\pandas\\_libs\\index.pyx\u001b[0m in \u001b[0;36mpandas._libs.index.IndexEngine.get_loc\u001b[1;34m()\u001b[0m\n",
      "\u001b[1;32m~\\anaconda3\\lib\\site-packages\\pandas\\_libs\\index.pyx\u001b[0m in \u001b[0;36mpandas._libs.index.IndexEngine.get_loc\u001b[1;34m()\u001b[0m\n",
      "\u001b[1;32mpandas\\_libs\\hashtable_class_helper.pxi\u001b[0m in \u001b[0;36mpandas._libs.hashtable.PyObjectHashTable.get_item\u001b[1;34m()\u001b[0m\n",
      "\u001b[1;32mpandas\\_libs\\hashtable_class_helper.pxi\u001b[0m in \u001b[0;36mpandas._libs.hashtable.PyObjectHashTable.get_item\u001b[1;34m()\u001b[0m\n",
      "\u001b[1;31mKeyError\u001b[0m: '자치구이름'",
      "\nThe above exception was the direct cause of the following exception:\n",
      "\u001b[1;31mKeyError\u001b[0m                                  Traceback (most recent call last)",
      "\u001b[1;32m~\\AppData\\Local\\Temp/ipykernel_6360/3638805025.py\u001b[0m in \u001b[0;36m<module>\u001b[1;34m\u001b[0m\n\u001b[1;32m----> 1\u001b[1;33m \u001b[0mdf\u001b[0m\u001b[1;33m[\u001b[0m\u001b[0mdf\u001b[0m\u001b[1;33m[\u001b[0m\u001b[1;34m\"자치구이름\"\u001b[0m\u001b[1;33m]\u001b[0m \u001b[1;33m==\u001b[0m \u001b[1;34m\"관악구\"\u001b[0m\u001b[1;33m]\u001b[0m\u001b[1;33m[\u001b[0m\u001b[1;34m\"시장/마트번호\"\u001b[0m\u001b[1;33m]\u001b[0m\u001b[1;33m.\u001b[0m\u001b[0mvalue_counts\u001b[0m\u001b[1;33m(\u001b[0m\u001b[1;33m)\u001b[0m\u001b[1;33m\u001b[0m\u001b[1;33m\u001b[0m\u001b[0m\n\u001b[0m",
      "\u001b[1;32m~\\anaconda3\\lib\\site-packages\\pandas\\core\\frame.py\u001b[0m in \u001b[0;36m__getitem__\u001b[1;34m(self, key)\u001b[0m\n\u001b[0;32m   3456\u001b[0m             \u001b[1;32mif\u001b[0m \u001b[0mself\u001b[0m\u001b[1;33m.\u001b[0m\u001b[0mcolumns\u001b[0m\u001b[1;33m.\u001b[0m\u001b[0mnlevels\u001b[0m \u001b[1;33m>\u001b[0m \u001b[1;36m1\u001b[0m\u001b[1;33m:\u001b[0m\u001b[1;33m\u001b[0m\u001b[1;33m\u001b[0m\u001b[0m\n\u001b[0;32m   3457\u001b[0m                 \u001b[1;32mreturn\u001b[0m \u001b[0mself\u001b[0m\u001b[1;33m.\u001b[0m\u001b[0m_getitem_multilevel\u001b[0m\u001b[1;33m(\u001b[0m\u001b[0mkey\u001b[0m\u001b[1;33m)\u001b[0m\u001b[1;33m\u001b[0m\u001b[1;33m\u001b[0m\u001b[0m\n\u001b[1;32m-> 3458\u001b[1;33m             \u001b[0mindexer\u001b[0m \u001b[1;33m=\u001b[0m \u001b[0mself\u001b[0m\u001b[1;33m.\u001b[0m\u001b[0mcolumns\u001b[0m\u001b[1;33m.\u001b[0m\u001b[0mget_loc\u001b[0m\u001b[1;33m(\u001b[0m\u001b[0mkey\u001b[0m\u001b[1;33m)\u001b[0m\u001b[1;33m\u001b[0m\u001b[1;33m\u001b[0m\u001b[0m\n\u001b[0m\u001b[0;32m   3459\u001b[0m             \u001b[1;32mif\u001b[0m \u001b[0mis_integer\u001b[0m\u001b[1;33m(\u001b[0m\u001b[0mindexer\u001b[0m\u001b[1;33m)\u001b[0m\u001b[1;33m:\u001b[0m\u001b[1;33m\u001b[0m\u001b[1;33m\u001b[0m\u001b[0m\n\u001b[0;32m   3460\u001b[0m                 \u001b[0mindexer\u001b[0m \u001b[1;33m=\u001b[0m \u001b[1;33m[\u001b[0m\u001b[0mindexer\u001b[0m\u001b[1;33m]\u001b[0m\u001b[1;33m\u001b[0m\u001b[1;33m\u001b[0m\u001b[0m\n",
      "\u001b[1;32m~\\anaconda3\\lib\\site-packages\\pandas\\core\\indexes\\base.py\u001b[0m in \u001b[0;36mget_loc\u001b[1;34m(self, key, method, tolerance)\u001b[0m\n\u001b[0;32m   3361\u001b[0m                 \u001b[1;32mreturn\u001b[0m \u001b[0mself\u001b[0m\u001b[1;33m.\u001b[0m\u001b[0m_engine\u001b[0m\u001b[1;33m.\u001b[0m\u001b[0mget_loc\u001b[0m\u001b[1;33m(\u001b[0m\u001b[0mcasted_key\u001b[0m\u001b[1;33m)\u001b[0m\u001b[1;33m\u001b[0m\u001b[1;33m\u001b[0m\u001b[0m\n\u001b[0;32m   3362\u001b[0m             \u001b[1;32mexcept\u001b[0m \u001b[0mKeyError\u001b[0m \u001b[1;32mas\u001b[0m \u001b[0merr\u001b[0m\u001b[1;33m:\u001b[0m\u001b[1;33m\u001b[0m\u001b[1;33m\u001b[0m\u001b[0m\n\u001b[1;32m-> 3363\u001b[1;33m                 \u001b[1;32mraise\u001b[0m \u001b[0mKeyError\u001b[0m\u001b[1;33m(\u001b[0m\u001b[0mkey\u001b[0m\u001b[1;33m)\u001b[0m \u001b[1;32mfrom\u001b[0m \u001b[0merr\u001b[0m\u001b[1;33m\u001b[0m\u001b[1;33m\u001b[0m\u001b[0m\n\u001b[0m\u001b[0;32m   3364\u001b[0m \u001b[1;33m\u001b[0m\u001b[0m\n\u001b[0;32m   3365\u001b[0m         \u001b[1;32mif\u001b[0m \u001b[0mis_scalar\u001b[0m\u001b[1;33m(\u001b[0m\u001b[0mkey\u001b[0m\u001b[1;33m)\u001b[0m \u001b[1;32mand\u001b[0m \u001b[0misna\u001b[0m\u001b[1;33m(\u001b[0m\u001b[0mkey\u001b[0m\u001b[1;33m)\u001b[0m \u001b[1;32mand\u001b[0m \u001b[1;32mnot\u001b[0m \u001b[0mself\u001b[0m\u001b[1;33m.\u001b[0m\u001b[0mhasnans\u001b[0m\u001b[1;33m:\u001b[0m\u001b[1;33m\u001b[0m\u001b[1;33m\u001b[0m\u001b[0m\n",
      "\u001b[1;31mKeyError\u001b[0m: '자치구이름'"
     ]
    }
   ],
   "source": [
    "df[df[\"자치구이름\"] == \"관악구\"][\"시장/마트번호\"].value_counts()"
   ]
  },
  {
   "cell_type": "code",
   "execution_count": 72,
   "id": "b3eeb2d8",
   "metadata": {},
   "outputs": [
    {
     "ename": "KeyError",
     "evalue": "'자치구이름'",
     "output_type": "error",
     "traceback": [
      "\u001b[1;31m---------------------------------------------------------------------------\u001b[0m",
      "\u001b[1;31mKeyError\u001b[0m                                  Traceback (most recent call last)",
      "\u001b[1;32m~\\anaconda3\\lib\\site-packages\\pandas\\core\\indexes\\base.py\u001b[0m in \u001b[0;36mget_loc\u001b[1;34m(self, key, method, tolerance)\u001b[0m\n\u001b[0;32m   3360\u001b[0m             \u001b[1;32mtry\u001b[0m\u001b[1;33m:\u001b[0m\u001b[1;33m\u001b[0m\u001b[1;33m\u001b[0m\u001b[0m\n\u001b[1;32m-> 3361\u001b[1;33m                 \u001b[1;32mreturn\u001b[0m \u001b[0mself\u001b[0m\u001b[1;33m.\u001b[0m\u001b[0m_engine\u001b[0m\u001b[1;33m.\u001b[0m\u001b[0mget_loc\u001b[0m\u001b[1;33m(\u001b[0m\u001b[0mcasted_key\u001b[0m\u001b[1;33m)\u001b[0m\u001b[1;33m\u001b[0m\u001b[1;33m\u001b[0m\u001b[0m\n\u001b[0m\u001b[0;32m   3362\u001b[0m             \u001b[1;32mexcept\u001b[0m \u001b[0mKeyError\u001b[0m \u001b[1;32mas\u001b[0m \u001b[0merr\u001b[0m\u001b[1;33m:\u001b[0m\u001b[1;33m\u001b[0m\u001b[1;33m\u001b[0m\u001b[0m\n",
      "\u001b[1;32m~\\anaconda3\\lib\\site-packages\\pandas\\_libs\\index.pyx\u001b[0m in \u001b[0;36mpandas._libs.index.IndexEngine.get_loc\u001b[1;34m()\u001b[0m\n",
      "\u001b[1;32m~\\anaconda3\\lib\\site-packages\\pandas\\_libs\\index.pyx\u001b[0m in \u001b[0;36mpandas._libs.index.IndexEngine.get_loc\u001b[1;34m()\u001b[0m\n",
      "\u001b[1;32mpandas\\_libs\\hashtable_class_helper.pxi\u001b[0m in \u001b[0;36mpandas._libs.hashtable.PyObjectHashTable.get_item\u001b[1;34m()\u001b[0m\n",
      "\u001b[1;32mpandas\\_libs\\hashtable_class_helper.pxi\u001b[0m in \u001b[0;36mpandas._libs.hashtable.PyObjectHashTable.get_item\u001b[1;34m()\u001b[0m\n",
      "\u001b[1;31mKeyError\u001b[0m: '자치구이름'",
      "\nThe above exception was the direct cause of the following exception:\n",
      "\u001b[1;31mKeyError\u001b[0m                                  Traceback (most recent call last)",
      "\u001b[1;32m~\\AppData\\Local\\Temp/ipykernel_6360/2361086287.py\u001b[0m in \u001b[0;36m<module>\u001b[1;34m\u001b[0m\n\u001b[0;32m      1\u001b[0m \u001b[1;31m# 이름은 다를 수 있으나, 시장/마트번호는 정확하구나.\u001b[0m\u001b[1;33m\u001b[0m\u001b[1;33m\u001b[0m\u001b[0m\n\u001b[1;32m----> 2\u001b[1;33m \u001b[0mgu_list\u001b[0m \u001b[1;33m=\u001b[0m \u001b[0mdf\u001b[0m\u001b[1;33m[\u001b[0m\u001b[1;34m\"자치구이름\"\u001b[0m\u001b[1;33m]\u001b[0m\u001b[1;33m.\u001b[0m\u001b[0munique\u001b[0m\u001b[1;33m(\u001b[0m\u001b[1;33m)\u001b[0m\u001b[1;33m.\u001b[0m\u001b[0mtolist\u001b[0m\u001b[1;33m(\u001b[0m\u001b[1;33m)\u001b[0m\u001b[1;33m\u001b[0m\u001b[1;33m\u001b[0m\u001b[0m\n\u001b[0m\u001b[0;32m      3\u001b[0m \u001b[0mgu_store_number_list\u001b[0m \u001b[1;33m=\u001b[0m \u001b[1;33m[\u001b[0m\u001b[1;33m]\u001b[0m\u001b[1;33m\u001b[0m\u001b[1;33m\u001b[0m\u001b[0m\n\u001b[0;32m      4\u001b[0m \u001b[1;32mfor\u001b[0m \u001b[0mgu\u001b[0m \u001b[1;32min\u001b[0m \u001b[0mgu_list\u001b[0m\u001b[1;33m:\u001b[0m\u001b[1;33m\u001b[0m\u001b[1;33m\u001b[0m\u001b[0m\n\u001b[0;32m      5\u001b[0m     \u001b[0mgu_store_number_list\u001b[0m\u001b[1;33m.\u001b[0m\u001b[0mappend\u001b[0m\u001b[1;33m(\u001b[0m\u001b[0mdf\u001b[0m\u001b[1;33m[\u001b[0m\u001b[0mdf\u001b[0m\u001b[1;33m[\u001b[0m\u001b[1;34m\"자치구이름\"\u001b[0m\u001b[1;33m]\u001b[0m \u001b[1;33m==\u001b[0m \u001b[0mgu\u001b[0m\u001b[1;33m]\u001b[0m\u001b[1;33m[\u001b[0m\u001b[1;34m\"시장/마트번호\"\u001b[0m\u001b[1;33m]\u001b[0m\u001b[1;33m.\u001b[0m\u001b[0mnunique\u001b[0m\u001b[1;33m(\u001b[0m\u001b[1;33m)\u001b[0m\u001b[1;33m)\u001b[0m\u001b[1;33m\u001b[0m\u001b[1;33m\u001b[0m\u001b[0m\n",
      "\u001b[1;32m~\\anaconda3\\lib\\site-packages\\pandas\\core\\frame.py\u001b[0m in \u001b[0;36m__getitem__\u001b[1;34m(self, key)\u001b[0m\n\u001b[0;32m   3456\u001b[0m             \u001b[1;32mif\u001b[0m \u001b[0mself\u001b[0m\u001b[1;33m.\u001b[0m\u001b[0mcolumns\u001b[0m\u001b[1;33m.\u001b[0m\u001b[0mnlevels\u001b[0m \u001b[1;33m>\u001b[0m \u001b[1;36m1\u001b[0m\u001b[1;33m:\u001b[0m\u001b[1;33m\u001b[0m\u001b[1;33m\u001b[0m\u001b[0m\n\u001b[0;32m   3457\u001b[0m                 \u001b[1;32mreturn\u001b[0m \u001b[0mself\u001b[0m\u001b[1;33m.\u001b[0m\u001b[0m_getitem_multilevel\u001b[0m\u001b[1;33m(\u001b[0m\u001b[0mkey\u001b[0m\u001b[1;33m)\u001b[0m\u001b[1;33m\u001b[0m\u001b[1;33m\u001b[0m\u001b[0m\n\u001b[1;32m-> 3458\u001b[1;33m             \u001b[0mindexer\u001b[0m \u001b[1;33m=\u001b[0m \u001b[0mself\u001b[0m\u001b[1;33m.\u001b[0m\u001b[0mcolumns\u001b[0m\u001b[1;33m.\u001b[0m\u001b[0mget_loc\u001b[0m\u001b[1;33m(\u001b[0m\u001b[0mkey\u001b[0m\u001b[1;33m)\u001b[0m\u001b[1;33m\u001b[0m\u001b[1;33m\u001b[0m\u001b[0m\n\u001b[0m\u001b[0;32m   3459\u001b[0m             \u001b[1;32mif\u001b[0m \u001b[0mis_integer\u001b[0m\u001b[1;33m(\u001b[0m\u001b[0mindexer\u001b[0m\u001b[1;33m)\u001b[0m\u001b[1;33m:\u001b[0m\u001b[1;33m\u001b[0m\u001b[1;33m\u001b[0m\u001b[0m\n\u001b[0;32m   3460\u001b[0m                 \u001b[0mindexer\u001b[0m \u001b[1;33m=\u001b[0m \u001b[1;33m[\u001b[0m\u001b[0mindexer\u001b[0m\u001b[1;33m]\u001b[0m\u001b[1;33m\u001b[0m\u001b[1;33m\u001b[0m\u001b[0m\n",
      "\u001b[1;32m~\\anaconda3\\lib\\site-packages\\pandas\\core\\indexes\\base.py\u001b[0m in \u001b[0;36mget_loc\u001b[1;34m(self, key, method, tolerance)\u001b[0m\n\u001b[0;32m   3361\u001b[0m                 \u001b[1;32mreturn\u001b[0m \u001b[0mself\u001b[0m\u001b[1;33m.\u001b[0m\u001b[0m_engine\u001b[0m\u001b[1;33m.\u001b[0m\u001b[0mget_loc\u001b[0m\u001b[1;33m(\u001b[0m\u001b[0mcasted_key\u001b[0m\u001b[1;33m)\u001b[0m\u001b[1;33m\u001b[0m\u001b[1;33m\u001b[0m\u001b[0m\n\u001b[0;32m   3362\u001b[0m             \u001b[1;32mexcept\u001b[0m \u001b[0mKeyError\u001b[0m \u001b[1;32mas\u001b[0m \u001b[0merr\u001b[0m\u001b[1;33m:\u001b[0m\u001b[1;33m\u001b[0m\u001b[1;33m\u001b[0m\u001b[0m\n\u001b[1;32m-> 3363\u001b[1;33m                 \u001b[1;32mraise\u001b[0m \u001b[0mKeyError\u001b[0m\u001b[1;33m(\u001b[0m\u001b[0mkey\u001b[0m\u001b[1;33m)\u001b[0m \u001b[1;32mfrom\u001b[0m \u001b[0merr\u001b[0m\u001b[1;33m\u001b[0m\u001b[1;33m\u001b[0m\u001b[0m\n\u001b[0m\u001b[0;32m   3364\u001b[0m \u001b[1;33m\u001b[0m\u001b[0m\n\u001b[0;32m   3365\u001b[0m         \u001b[1;32mif\u001b[0m \u001b[0mis_scalar\u001b[0m\u001b[1;33m(\u001b[0m\u001b[0mkey\u001b[0m\u001b[1;33m)\u001b[0m \u001b[1;32mand\u001b[0m \u001b[0misna\u001b[0m\u001b[1;33m(\u001b[0m\u001b[0mkey\u001b[0m\u001b[1;33m)\u001b[0m \u001b[1;32mand\u001b[0m \u001b[1;32mnot\u001b[0m \u001b[0mself\u001b[0m\u001b[1;33m.\u001b[0m\u001b[0mhasnans\u001b[0m\u001b[1;33m:\u001b[0m\u001b[1;33m\u001b[0m\u001b[1;33m\u001b[0m\u001b[0m\n",
      "\u001b[1;31mKeyError\u001b[0m: '자치구이름'"
     ]
    }
   ],
   "source": [
    "# 이름은 다를 수 있으나, 시장/마트번호는 정확하구나.\n",
    "gu_list = df[\"자치구이름\"].unique().tolist()\n",
    "gu_store_number_list = []\n",
    "for gu in gu_list:\n",
    "    gu_store_number_list.append(df[df[\"자치구이름\"] == gu][\"시장/마트번호\"].nunique())\n",
    "gu_store_number_list"
   ]
  },
  {
   "cell_type": "code",
   "execution_count": null,
   "id": "05b45afb",
   "metadata": {},
   "outputs": [],
   "source": [
    "df_gu_store = pd.DataFrame([gu_list,gu_store_number_list]).transpose()\n",
    "df_gu_store.columns = [\"자치구이름\",\"시장/마트수\"]\n",
    "df_gu_store"
   ]
  },
  {
   "cell_type": "markdown",
   "id": "f398783f",
   "metadata": {},
   "source": [
    "* 이상치 제거"
   ]
  },
  {
   "cell_type": "code",
   "execution_count": null,
   "id": "d01e00d1",
   "metadata": {},
   "outputs": [],
   "source": [
    "df_f = df[((df[\"가격(원)\"] <= 100000) & (df[\"가격(원)\"] >= 10) )]\n",
    "# 0원 제거, 10만원 이상 제거\n",
    "df_f"
   ]
  },
  {
   "cell_type": "markdown",
   "id": "02417cf4",
   "metadata": {},
   "source": [
    "# 달걀 품목 분석"
   ]
  },
  {
   "cell_type": "markdown",
   "id": "977f832e",
   "metadata": {},
   "source": [
    "## 달걀 연도월 분석"
   ]
  },
  {
   "cell_type": "code",
   "execution_count": null,
   "id": "ad533135",
   "metadata": {},
   "outputs": [],
   "source": [
    "df_go = df_f[df_f[\"분류\"].str.contains(\"달걀\")][[\"품목이름\", \"가격(원)\" ,\"자치구이름\", \"연도월\", \"연도\"]]\n",
    "df_go"
   ]
  },
  {
   "cell_type": "code",
   "execution_count": null,
   "id": "4c255cb6",
   "metadata": {},
   "outputs": [],
   "source": [
    "df_go_mean = df_go.groupby([\"자치구이름\",\"연도월\"])[[\"가격(원)\"]].mean()\n",
    "df_go_mean"
   ]
  },
  {
   "cell_type": "code",
   "execution_count": null,
   "id": "52258caa",
   "metadata": {},
   "outputs": [],
   "source": [
    "_ = pd.pivot_table(df_go_mean.reset_index(),\n",
    "               index='연도월', columns='자치구이름', values='가격(원)'\n",
    "              ).plot(subplots=False, figsize=(12,12), title = \"달걀 가격 평균 추이\")\n",
    "plt.legend(bbox_to_anchor=(1.0, 1.0),ncol=2,frameon=True, shadow=True)"
   ]
  },
  {
   "cell_type": "code",
   "execution_count": null,
   "id": "eedf4988",
   "metadata": {},
   "outputs": [],
   "source": [
    "_ = pd.pivot_table(df_go,index=\"연도월\",columns=\"품목이름\",values=\"가격(원)\").plot(subplots=True,figsize=(12,8))"
   ]
  },
  {
   "cell_type": "markdown",
   "id": "4fb5ad47",
   "metadata": {},
   "source": [
    "## 달걀 연도 분석"
   ]
  },
  {
   "cell_type": "code",
   "execution_count": null,
   "id": "16061107",
   "metadata": {},
   "outputs": [],
   "source": [
    "df_go_mean = df_go.groupby([\"자치구이름\",\"연도\"])[[\"가격(원)\"]].mean()\n",
    "df_go_mean"
   ]
  },
  {
   "cell_type": "code",
   "execution_count": null,
   "id": "25478495",
   "metadata": {},
   "outputs": [],
   "source": [
    "_ = pd.pivot_table(df_go_mean.reset_index(),\n",
    "               index='연도', columns='자치구이름', values='가격(원)'\n",
    "              ).plot(subplots=False, figsize=(12,12), title = \"달걀 가격 평균 추이\")\n",
    "plt.legend(bbox_to_anchor=(1.0, 1.0),ncol=2,frameon=True, shadow=True)"
   ]
  },
  {
   "cell_type": "code",
   "execution_count": null,
   "id": "a17c3f7f",
   "metadata": {},
   "outputs": [],
   "source": [
    "_ = pd.pivot_table(df_go,index=\"연도\",columns=\"품목이름\",values=\"가격(원)\").plot(subplots=True,figsize=(12,8))"
   ]
  },
  {
   "cell_type": "markdown",
   "id": "58ee8f6c",
   "metadata": {},
   "source": [
    "# 사과 품목 분석"
   ]
  },
  {
   "cell_type": "markdown",
   "id": "2cb87a4a",
   "metadata": {},
   "source": [
    "## 사과 연도월 분석"
   ]
  },
  {
   "cell_type": "code",
   "execution_count": null,
   "id": "7169c89e",
   "metadata": {},
   "outputs": [],
   "source": [
    "df_go = df_f[df_f[\"분류\"].str.contains(\"사과\")][[\"품목이름\", \"가격(원)\" ,\"자치구이름\", \"연도월\", \"연도\"]]\n",
    "df_go"
   ]
  },
  {
   "cell_type": "code",
   "execution_count": null,
   "id": "67bf9c86",
   "metadata": {},
   "outputs": [],
   "source": [
    "df_go_mean = df_go.groupby([\"자치구이름\",\"연도월\"])[[\"가격(원)\"]].mean()\n",
    "df_go_mean"
   ]
  },
  {
   "cell_type": "code",
   "execution_count": null,
   "id": "5c575748",
   "metadata": {},
   "outputs": [],
   "source": [
    "_ = pd.pivot_table(df_go_mean.reset_index(),\n",
    "               index='연도월', columns='자치구이름', values='가격(원)'\n",
    "              ).plot(subplots=False, figsize=(12,12), title = \"사과 가격 평균 추이\")\n",
    "plt.legend(bbox_to_anchor=(1.0, 1.0),ncol=2,frameon=True, shadow=True)"
   ]
  },
  {
   "cell_type": "code",
   "execution_count": null,
   "id": "78b9973a",
   "metadata": {},
   "outputs": [],
   "source": [
    "_ = pd.pivot_table(df_go,index=\"연도월\",columns=\"품목이름\",values=\"가격(원)\").plot(subplots=True,figsize=(12,8))"
   ]
  },
  {
   "cell_type": "code",
   "execution_count": null,
   "id": "729ea877",
   "metadata": {},
   "outputs": [],
   "source": [
    "df_go_mean = df_go.groupby([\"자치구이름\",\"연도\"])[[\"가격(원)\"]].mean()\n",
    "df_go_mean"
   ]
  },
  {
   "cell_type": "code",
   "execution_count": null,
   "id": "9691b801",
   "metadata": {},
   "outputs": [],
   "source": [
    "_ = pd.pivot_table(df_go_mean.reset_index(),\n",
    "               index='연도', columns='자치구이름', values='가격(원)'\n",
    "              ).plot(subplots=False, figsize=(12,12), title = \"사과 가격 평균 추이\")\n",
    "plt.legend(bbox_to_anchor=(1.0, 1.0),ncol=2,frameon=True, shadow=True)"
   ]
  },
  {
   "cell_type": "markdown",
   "id": "8905525f",
   "metadata": {},
   "source": [
    "# 돼지고기 품목 분석"
   ]
  },
  {
   "cell_type": "markdown",
   "id": "1db0f610",
   "metadata": {},
   "source": [
    "## 돼지고기 연도월 분석"
   ]
  },
  {
   "cell_type": "code",
   "execution_count": null,
   "id": "84be0fc1",
   "metadata": {},
   "outputs": [],
   "source": [
    "df_go = df_f[df_f[\"분류\"].str.contains(\"돼지고기\")][[\"품목이름\", \"가격(원)\" ,\"자치구이름\", \"연도월\", \"연도\"]]\n",
    "df_go"
   ]
  },
  {
   "cell_type": "code",
   "execution_count": null,
   "id": "1d7b6cb9",
   "metadata": {},
   "outputs": [],
   "source": [
    "df_go_mean = df_go.groupby([\"자치구이름\",\"연도월\"])[[\"가격(원)\"]].mean()\n",
    "df_go_mean"
   ]
  },
  {
   "cell_type": "code",
   "execution_count": null,
   "id": "cb77ac58",
   "metadata": {},
   "outputs": [],
   "source": [
    "_ = pd.pivot_table(df_go_mean.reset_index(),\n",
    "               index='연도월', columns='자치구이름', values='가격(원)'\n",
    "              ).plot(subplots=False, figsize=(12,12), title = \"돼지고기 가격 평균 추이\")\n",
    "plt.legend(bbox_to_anchor=(1.0, 1.0),ncol=2,frameon=True, shadow=True)"
   ]
  },
  {
   "cell_type": "code",
   "execution_count": null,
   "id": "42081baa",
   "metadata": {},
   "outputs": [],
   "source": [
    "_ = pd.pivot_table(df_go,index=\"연도월\",columns=\"품목이름\",values=\"가격(원)\").plot(subplots=True,figsize=(12,8))"
   ]
  },
  {
   "cell_type": "code",
   "execution_count": null,
   "id": "335fcdc3",
   "metadata": {},
   "outputs": [],
   "source": [
    "df_go_mean = df_go.groupby([\"자치구이름\",\"연도\"])[[\"가격(원)\"]].mean()\n",
    "df_go_mean"
   ]
  },
  {
   "cell_type": "code",
   "execution_count": null,
   "id": "5bf8f2ad",
   "metadata": {},
   "outputs": [],
   "source": [
    "_ = pd.pivot_table(df_go_mean.reset_index(),\n",
    "               index='연도', columns='자치구이름', values='가격(원)'\n",
    "              ).plot(subplots=False, figsize=(12,12), title = \"돼지고기 가격 평균 추이\")\n",
    "plt.legend(bbox_to_anchor=(1.0, 1.0),ncol=2,frameon=True, shadow=True)"
   ]
  },
  {
   "cell_type": "markdown",
   "id": "fe463cd6",
   "metadata": {},
   "source": [
    "## 소고기 연도월 분석"
   ]
  },
  {
   "cell_type": "code",
   "execution_count": null,
   "id": "1b5648d8",
   "metadata": {},
   "outputs": [],
   "source": [
    "df_go = df_f[df_f[\"분류\"].str.contains(\"쇠고기\")][[\"품목이름\", \"가격(원)\" ,\"자치구이름\", \"연도월\", \"연도\"]]\n",
    "df_go"
   ]
  },
  {
   "cell_type": "code",
   "execution_count": null,
   "id": "32ad82e8",
   "metadata": {},
   "outputs": [],
   "source": [
    "df_go_mean = df_go.groupby([\"자치구이름\",\"연도월\"])[[\"가격(원)\"]].mean()\n",
    "df_go_mean"
   ]
  },
  {
   "cell_type": "code",
   "execution_count": null,
   "id": "7ea47eb4",
   "metadata": {},
   "outputs": [],
   "source": [
    "_ = pd.pivot_table(df_go_mean.reset_index(),\n",
    "               index='연도월', columns='자치구이름', values='가격(원)'\n",
    "              ).plot(subplots=False, figsize=(12,12), title = \"소고기 가격 평균 추이\")\n",
    "plt.legend(bbox_to_anchor=(1.0, 1.0),ncol=2,frameon=True, shadow=True)"
   ]
  },
  {
   "cell_type": "code",
   "execution_count": null,
   "id": "d5c94377",
   "metadata": {},
   "outputs": [],
   "source": [
    "_ = pd.pivot_table(df_go,index=\"연도월\",columns=\"품목이름\",values=\"가격(원)\").plot(subplots=True,figsize=(12,8))"
   ]
  },
  {
   "cell_type": "code",
   "execution_count": null,
   "id": "0f4207c3",
   "metadata": {},
   "outputs": [],
   "source": [
    "df_go_mean = df_go.groupby([\"자치구이름\",\"연도\"])[[\"가격(원)\"]].mean()\n",
    "df_go_mean"
   ]
  },
  {
   "cell_type": "code",
   "execution_count": null,
   "id": "cdd349f5",
   "metadata": {},
   "outputs": [],
   "source": [
    "_ = pd.pivot_table(df_go_mean.reset_index(),\n",
    "               index='연도', columns='자치구이름', values='가격(원)'\n",
    "              ).plot(subplots=False, figsize=(12,12), title = \"소고기 가격 평균 추이\")\n",
    "plt.legend(bbox_to_anchor=(1.0, 1.0),ncol=2,frameon=True, shadow=True)"
   ]
  },
  {
   "cell_type": "markdown",
   "id": "500354f1",
   "metadata": {},
   "source": [
    "# 쇠고기 600 그램 데이터 추출 및 이상치 확인"
   ]
  },
  {
   "cell_type": "code",
   "execution_count": null,
   "id": "2a8f7bfc",
   "metadata": {},
   "outputs": [],
   "source": [
    "df_600 = df[df[\"실판매규격\"].str.contains('600g')][[\"분류\", \"년도-월\", \"가격(원)\", \"비고\"]]\n",
    "df_beef = df_600[df_600[\"분류\"] == \"쇠고기\"]\n",
    "df_beef = df_beef[df_beef[\"비고\"].str.contains('한우|국산|국내산')][[\"년도-월\", \"가격(원)\", \"분류\"]]\n",
    "px.scatter(df_beef, x=\"년도-월\", y=\"가격(원)\", color=\"가격(원)\", title=\"쇠고기[국산] (600g) 월별 가격 그래프\")"
   ]
  },
  {
   "cell_type": "markdown",
   "id": "173e0720",
   "metadata": {},
   "source": [
    "# 쇠고기 600그램 이상치 제거"
   ]
  },
  {
   "cell_type": "code",
   "execution_count": null,
   "id": "ecba3442",
   "metadata": {},
   "outputs": [],
   "source": [
    "df_beef = df_beef.drop(df_beef[df_beef[\"가격(원)\"] > 70000].index)\n",
    "df_beef = df_beef.drop(df_beef[df_beef[\"가격(원)\"] < 20000].index)\n",
    "px.scatter(df_beef, x=\"년도-월\", y=\"가격(원)\", color=\"가격(원)\", title=\"쇠고기[국산] (600g) 월별 가격 그래프\")"
   ]
  },
  {
   "cell_type": "markdown",
   "id": "dba6e76b",
   "metadata": {},
   "source": [
    "# 쇠고기 600그램 연도-월 그래프"
   ]
  },
  {
   "cell_type": "code",
   "execution_count": null,
   "id": "b0bd1efb",
   "metadata": {},
   "outputs": [],
   "source": [
    "df_beef_mean = df_beef.groupby([\"년도-월\"]).mean()\n",
    "px.line(df_beef_mean, x=df_beef_mean.index, y=\"가격(원)\", title=\"쇠고기[국산] (600g) 월별 가격 그래프\")"
   ]
  },
  {
   "cell_type": "markdown",
   "id": "ef023789",
   "metadata": {},
   "source": [
    "# 돼지고기 600 그램 데이터 추출 및 이상치 확인"
   ]
  },
  {
   "cell_type": "code",
   "execution_count": null,
   "id": "39631f1f",
   "metadata": {},
   "outputs": [],
   "source": [
    "df_600 = df[df[\"실판매규격\"].str.contains('600g')][[\"분류\", \"년도-월\", \"가격(원)\", \"비고\"]]\n",
    "df_fork = df_600[df_600[\"분류\"] == \"돼지고기\"]\n",
    "df_fork = df_fork[df_fork[\"비고\"].str.contains(\"국산|도드람|국내산|한돈\")][[\"년도-월\", \"가격(원)\", \"분류\"]]\n",
    "px.scatter(df_fork,x=\"년도-월\", y=\"가격(원)\", title=\"돼지고기[국산] (600g) 월별 가격 그래프\", color=\"가격(원)\")"
   ]
  },
  {
   "cell_type": "markdown",
   "id": "5fe49df8",
   "metadata": {},
   "source": [
    "# 돼지고기 600그램 이상치 재확인"
   ]
  },
  {
   "cell_type": "code",
   "execution_count": null,
   "id": "93b8f422",
   "metadata": {},
   "outputs": [],
   "source": [
    "df_fork = df_fork.drop(df_fork[df_fork[\"가격(원)\"] == 2394023940].index)\n",
    "px.scatter(df_fork,x=\"년도-월\", y=\"가격(원)\", title=\"돼지고기[국산] (600g) 월별 가격 그래프\", color=\"가격(원)\")"
   ]
  },
  {
   "cell_type": "markdown",
   "id": "df4fd630",
   "metadata": {},
   "source": [
    "# 돼지고기 600그램 이상치 제거"
   ]
  },
  {
   "cell_type": "code",
   "execution_count": null,
   "id": "8a3ffdab",
   "metadata": {},
   "outputs": [],
   "source": [
    "df_fork = df_fork.drop(df_fork[df_fork[\"가격(원)\"] > 25000].index)\n",
    "df_fork = df_fork.drop(df_fork[df_fork[\"가격(원)\"] < 10000].index)\n",
    "px.scatter(df_fork,x=\"년도-월\", y=\"가격(원)\", title=\"돼지고기[국산] (600g) 월별 가격 그래프\", color=\"가격(원)\")"
   ]
  },
  {
   "cell_type": "markdown",
   "id": "72c2a382",
   "metadata": {},
   "source": [
    "# 돼지고기 연도-월 가격 그래프"
   ]
  },
  {
   "cell_type": "code",
   "execution_count": null,
   "id": "43f2d4f7",
   "metadata": {},
   "outputs": [],
   "source": [
    "df_fork_mean = df_fork.groupby([\"년도-월\"]).mean()\n",
    "px.line(df_fork_mean, x=df_fork_mean.index, y=\"가격(원)\", title=\"돼지고기[국산] (600g) 월별 가격 그래프\")"
   ]
  },
  {
   "cell_type": "markdown",
   "id": "0c3ea1fc",
   "metadata": {},
   "source": [
    "# 닭고기 1kg 데이터 추출 및 이상치 확인"
   ]
  },
  {
   "cell_type": "code",
   "execution_count": null,
   "id": "de44063f",
   "metadata": {},
   "outputs": [],
   "source": [
    "df_kg = df[df[\"실판매규격\"].str.contains('1kg')][[\"분류\", \"년도-월\", \"가격(원)\", \"비고\"]]\n",
    "df_chicken = df_kg[df_kg[\"분류\"] == \"닭고기\"]\n",
    "df_chicken = df_chicken[df_chicken[\"비고\"].str.contains(\"국산|토종|하림|국내산\")][[\"년도-월\", \"가격(원)\", \"분류\"]]\n",
    "px.scatter(df_chicken,x=\"년도-월\", y=\"가격(원)\", title=\"닭고기[국산] (1kg) 월별 가격 그래프\", color=\"가격(원)\")"
   ]
  },
  {
   "cell_type": "markdown",
   "id": "2bb50299",
   "metadata": {},
   "source": [
    "# 닭고기 1kg 이상치 제거 및 재확인"
   ]
  },
  {
   "cell_type": "code",
   "execution_count": null,
   "id": "5c69b19b",
   "metadata": {},
   "outputs": [],
   "source": [
    "df_chicken = df_chicken.drop(df_chicken[df_chicken[\"가격(원)\"] > 65000].index)\n",
    "px.scatter(df_chicken,x=\"년도-월\", y=\"가격(원)\", title=\"닭고기[국산] (1kg) 월별 가격 그래프\", color=\"가격(원)\")"
   ]
  },
  {
   "cell_type": "markdown",
   "id": "d789fcc8",
   "metadata": {},
   "source": [
    "# 닭고기 이상치 제거"
   ]
  },
  {
   "cell_type": "code",
   "execution_count": null,
   "id": "4ee9159a",
   "metadata": {},
   "outputs": [],
   "source": [
    "df_chicken = df_chicken.drop(df_chicken[df_chicken[\"가격(원)\"] > 10000].index)\n",
    "df_chicken = df_chicken.drop(df_chicken[df_chicken[\"가격(원)\"] < 5000].index)\n",
    "px.scatter(df_chicken,x=\"년도-월\", y=\"가격(원)\", title=\"닭고기[국산] (1kg) 월별 가격 그래프\", color=\"가격(원)\")"
   ]
  },
  {
   "cell_type": "markdown",
   "id": "f435dad4",
   "metadata": {},
   "source": [
    "# 닭고기 1kg 연도-월 그래프"
   ]
  },
  {
   "cell_type": "code",
   "execution_count": null,
   "id": "06df19e9",
   "metadata": {},
   "outputs": [],
   "source": [
    "df_chicken_mean = df_chicken.groupby([\"년도-월\"]).mean()\n",
    "px.line(df_chicken_mean, title=\"닭고기[국산] (1kg) 월별 가격 그래프\")"
   ]
  },
  {
   "cell_type": "code",
   "execution_count": null,
   "id": "57209df8",
   "metadata": {},
   "outputs": [],
   "source": [
    "from sklearn.preprocessing import MinMaxScaler\n",
    "\n",
    "scaler = MinMaxScaler()"
   ]
  },
  {
   "cell_type": "code",
   "execution_count": null,
   "id": "f4e12f5f",
   "metadata": {},
   "outputs": [],
   "source": [
    "scaler.fit(df_fork[[\"가격(원)\"]])\n",
    "df_fork[\"가격(원)\"] = scaler.transform(df_fork[[\"가격(원)\"]])\n",
    "scaler.fit(df_beef[[\"가격(원)\"]])\n",
    "df_beef[\"가격(원)\"] = scaler.transform(df_beef[[\"가격(원)\"]])\n",
    "scaler.fit(df_chicken[[\"가격(원)\"]])\n",
    "df_chicken[\"가격(원)\"] =  scaler.transform(df_chicken[[\"가격(원)\"]])"
   ]
  },
  {
   "cell_type": "code",
   "execution_count": null,
   "id": "514791e3",
   "metadata": {},
   "outputs": [],
   "source": [
    "df_all = pd.concat([df_fork, df_beef, df_chicken])"
   ]
  },
  {
   "cell_type": "code",
   "execution_count": null,
   "id": "8800426a",
   "metadata": {},
   "outputs": [],
   "source": [
    "px.scatter(df_all, x=\"년도-월\", y=\"가격(원)\", color='분류')"
   ]
  },
  {
   "cell_type": "code",
   "execution_count": null,
   "id": "0ad46813",
   "metadata": {},
   "outputs": [],
   "source": [
    "df_all_mean = df_all.groupby([\"년도-월\", \"분류\"]).mean(\"가격(원)\")\n",
    "df_all_mean = df_all_mean.reset_index()\n",
    "df_all_mean"
   ]
  },
  {
   "cell_type": "code",
   "execution_count": null,
   "id": "02cddd22",
   "metadata": {},
   "outputs": [],
   "source": [
    "px.line(df_all_mean, x=\"년도-월\", y=\"가격(원)\", color=\"분류\")"
   ]
  },
  {
   "cell_type": "markdown",
   "id": "81a839fe",
   "metadata": {},
   "source": [
    "# 소비자물가상승률 비교"
   ]
  },
  {
   "cell_type": "code",
   "execution_count": null,
   "id": "36fa9b87",
   "metadata": {},
   "outputs": [],
   "source": [
    "df = pd.read_excel('물가_연도별.xlsx')\n",
    "df"
   ]
  },
  {
   "cell_type": "code",
   "execution_count": null,
   "id": "f784367c",
   "metadata": {},
   "outputs": [],
   "source": [
    "df = df.dropna()\n",
    "df1 = df[1:3]\n",
    "df1\n",
    "df2 = df1.transpose()\n",
    "df2.columns = [\"소비자물가상승률\", \"식료품 · 비주류음료\"]\n",
    "df3 = df2[8:]\n",
    "df3.rename(index={'Unnamed: 8':'2018', 'Unnamed: 9':'2019', 'Unnamed: 10':'2020', 'Unnamed: 11':'2021'}, inplace=True)\n",
    "df3"
   ]
  },
  {
   "cell_type": "code",
   "execution_count": null,
   "id": "a74580f5",
   "metadata": {},
   "outputs": [],
   "source": [
    "import platform\n",
    "\n",
    "def get_font_family():\n",
    "    \"\"\"\n",
    "    시스템 환경에 따른 기본 폰트명을 반환하는 함수\n",
    "    \"\"\"\n",
    "    system_name = platform.system()\n",
    "    # colab 사용자는 system_name이 'Linux'로 확인\n",
    "\n",
    "    if system_name == \"Darwin\" :\n",
    "        font_family = \"AppleGothic\"\n",
    "    elif system_name == \"Windows\":\n",
    "        font_family = \"Malgun Gothic\"\n",
    "    else:\n",
    "        !apt-get install fonts-nanum -qq  > /dev/null\n",
    "        !fc-cache -fv\n",
    "\n",
    "        import matplotlib as mpl\n",
    "        mpl.font_manager._rebuild()\n",
    "        findfont = mpl.font_manager.fontManager.findfont\n",
    "        mpl.font_manager.findfont = findfont\n",
    "        mpl.backends.backend_agg.findfont = findfont\n",
    "        \n",
    "        font_family = \"NanumBarunGothic\"\n",
    "    return font_family\n",
    "\n",
    "# 그래프에 retina display 적용\n",
    "%config InlineBackend.figure_format = 'retina'"
   ]
  },
  {
   "cell_type": "code",
   "execution_count": null,
   "id": "9d7a021c",
   "metadata": {},
   "outputs": [],
   "source": [
    "import matplotlib.pyplot as plt\n",
    "# 시각화를 위한 폰트설정\n",
    "\n",
    "# 위에서 만든 함수를 통해 시스템 폰트를 불러와서 font_family 라는 변수에 할당\n",
    "\n",
    "# 그래프 스타일 설정\n",
    "plt.style.use(\"ggplot\")\n",
    "# 폰트설정\n",
    "plt.rc(\"font\", family=get_font_family())\n",
    "# 마이너스폰트 설정\n",
    "plt.rc(\"axes\", unicode_minus=False)"
   ]
  },
  {
   "cell_type": "code",
   "execution_count": null,
   "id": "0d46a7db",
   "metadata": {},
   "outputs": [],
   "source": [
    "df3.plot(title=\"연도별 물가 상승률\", figsize=(12, 4))"
   ]
  }
 ],
 "metadata": {
  "interpreter": {
   "hash": "b0fa6594d8f4cbf19f97940f81e996739fb7646882a419484c72d19e05852a7e"
  },
  "kernelspec": {
   "display_name": "Python 3 (ipykernel)",
   "language": "python",
   "name": "python3"
  },
  "language_info": {
   "codemirror_mode": {
    "name": "ipython",
    "version": 3
   },
   "file_extension": ".py",
   "mimetype": "text/x-python",
   "name": "python",
   "nbconvert_exporter": "python",
   "pygments_lexer": "ipython3",
   "version": "3.9.7"
  },
  "toc": {
   "base_numbering": 1,
   "nav_menu": {},
   "number_sections": true,
   "sideBar": true,
   "skip_h1_title": false,
   "title_cell": "Table of Contents",
   "title_sidebar": "Contents",
   "toc_cell": false,
   "toc_position": {},
   "toc_section_display": true,
   "toc_window_display": false
  }
 },
 "nbformat": 4,
 "nbformat_minor": 5
}
